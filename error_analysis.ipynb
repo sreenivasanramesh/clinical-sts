{
  "nbformat": 4,
  "nbformat_minor": 0,
  "metadata": {
    "colab": {
      "name": "error_analysis.ipynb",
      "provenance": []
    },
    "kernelspec": {
      "name": "python3",
      "display_name": "Python 3"
    },
    "accelerator": "GPU"
  },
  "cells": [
    {
      "cell_type": "markdown",
      "metadata": {
        "id": "4Gs-27eHB-be"
      },
      "source": [
        "**Setup GPU**"
      ]
    },
    {
      "cell_type": "code",
      "metadata": {
        "id": "gI4piGOJqG3q",
        "outputId": "b255fcae-68ae-4dde-84b2-df0745bbb755",
        "colab": {
          "base_uri": "https://localhost:8080/"
        }
      },
      "source": [
        "!pip install nlp transformers &> /dev/null\n",
        "from dataclasses import dataclass, field\n",
        "from typing import Dict, Optional\n",
        "from typing import List\n",
        "import re\n",
        "import random\n",
        "import numpy as np\n",
        "import pandas as pd\n",
        "pd.set_option('display.max_colwidth', None)  \n",
        "\n",
        "from scipy.stats import pearsonr\n",
        "from sklearn.model_selection import train_test_split\n",
        "from sklearn.metrics import r2_score\n",
        "\n",
        "\n",
        "import torch\n",
        "from torch import nn\n",
        "from torch.utils.data import DataLoader\n",
        "from torch.utils.data.dataset import Dataset, IterableDataset\n",
        "from transformers import BertModel, BertTokenizer, AutoTokenizer, AutoModel, BertConfig, \\\n",
        "     AdamW, set_seed, AutoConfig, PreTrainedTokenizer, DataCollator, PreTrainedModel, PreTrainedTokenizer, DataCollator, PreTrainedModel\n",
        "\n",
        "set_seed(23)\n",
        "device = torch.device(\"cuda\" if torch.cuda.is_available() else \"cpu\")\n",
        "print(device)"
      ],
      "execution_count": 104,
      "outputs": [
        {
          "output_type": "stream",
          "text": [
            "cuda\n"
          ],
          "name": "stdout"
        }
      ]
    },
    {
      "cell_type": "markdown",
      "metadata": {
        "id": "9cqzIDANCD2k"
      },
      "source": [
        "**Mount Google drive**"
      ]
    },
    {
      "cell_type": "code",
      "metadata": {
        "id": "Sbv6BX1cuZcC",
        "outputId": "77caa299-85e3-46b7-9e06-ad207bf8ff8f",
        "colab": {
          "base_uri": "https://localhost:8080/"
        }
      },
      "source": [
        "from google.colab import drive\n",
        "drive.mount('/content/drive')"
      ],
      "execution_count": 2,
      "outputs": [
        {
          "output_type": "stream",
          "text": [
            "Mounted at /content/drive\n"
          ],
          "name": "stdout"
        }
      ]
    },
    {
      "cell_type": "markdown",
      "metadata": {
        "id": "GZJyZ5ftCQHS"
      },
      "source": [
        "**Methods to prepare test data and convert to PyTorch Datasets**"
      ]
    },
    {
      "cell_type": "code",
      "metadata": {
        "id": "-H5KZi9-s_FC"
      },
      "source": [
        "# Class to store data samples, text_a, text_b\n",
        "@dataclass\n",
        "class Example:\n",
        "    text_a: str\n",
        "    text_b: str\n",
        "\n",
        "\n",
        "# lowercase and add space around words, remove unnecessary spaces\n",
        "def pre_process(sentence, cased=False):\n",
        "    sentence = sentence.replace(\":\", \" : \").replace(\"/\", \" / \").replace(\"[\", \" [ \").replace(\"]\", \" ] \").replace(\"(\", \" ( \").replace(\")\", \" ) \").replace(\"\\\"\", \" \\\" \").replace(\"-\", \" - \").replace(\"?\", \" \").lstrip().rstrip()\n",
        "    if cased:\n",
        "      return re.sub(' +',' ', sentence)\n",
        "    return re.sub(' +',' ', sentence).lower()\n",
        "\n",
        "\n",
        "# returns test and train arrays as Example Objects\n",
        "# test train split is stratified and 80-20 split\n",
        "def get_test_data(cased=False, sent_type=None):\n",
        "    test_data = \"/content/drive/My Drive/clinical-sts/augmented_test.tsv\"\n",
        "    df = pd.read_csv(test_data, sep=\"\\t\", names=[\"sentence_1\", \"sentence_2\", \"score\", \"label\"], encoding=\"utf-8\")\n",
        "    if sent_type == \"CLINICAL\":\n",
        "        df = df[df[\"label\"]==\"CLINICAL\"]\n",
        "    elif sent_type == \"MEDICAL\":\n",
        "        df = df[df[\"label\"]==\"MEDICAL\"]\n",
        "    df[\"sentence_1\"] = df[\"sentence_1\"].apply(lambda sentence: pre_process(sentence, cased))\n",
        "    df[\"sentence_2\"] = df[\"sentence_2\"].apply(lambda sentence: pre_process(sentence, cased))\n",
        "    df[\"input_sample\"] = df[\"sentence_1\"] + \"<SEP>\" + df[\"sentence_2\"]\n",
        "\n",
        "\n",
        "    test = [Example(text_a=sample.split(\"<SEP>\")[0], \n",
        "                    text_b=sample.split(\"<SEP>\")[1]) for sample in df[\"input_sample\"]]\n",
        "\n",
        "    return test\n",
        "\n",
        "\n",
        "\n",
        "\n",
        "# DYNAMIC PADDING AND UNIFORM LENGTH BATCHING - reduces wasted computation and makes it faster to run\n",
        "# CODE BORROWED FROM https://towardsdatascience.com/divide-hugging-face-transformers-training-time-by-2-or-more-21bf7129db9q-21bf7129db9e\n",
        "\n",
        "\n",
        "# We'll be creating a custome dataset using this first\n",
        "@dataclass\n",
        "class Features:\n",
        "    og_sample: Example\n",
        "    input_ids: List[int]\n",
        "    attention_mask: List[int]\n",
        "\n",
        "\n",
        "class TextDataset(Dataset):\n",
        "    def __init__(self, tokenizer, \n",
        "                 pad_to_max_length, \n",
        "                 max_len,\n",
        "                 examples: List[Example]):\n",
        "        self.tokenizer = tokenizer\n",
        "        self.max_len = max_len\n",
        "        self.examples: List[Example] = examples\n",
        "        self.current = 0\n",
        "        self.pad_to_max_length = pad_to_max_length\n",
        "\n",
        "    # tokenize the sentences and return a Features object for each sentence \n",
        "    def encode(self, ex: Example) -> Features:\n",
        "        encode_dict = self.tokenizer.encode_plus(text=ex.text_a,\n",
        "                                                 text_pair=ex.text_b,\n",
        "                                                 add_special_tokens=True,\n",
        "                                                 max_length=self.max_len,\n",
        "                                                 pad_to_max_length=self.pad_to_max_length,\n",
        "                                                 return_token_type_ids=False,\n",
        "                                                 return_attention_mask=True,\n",
        "                                                 return_overflowing_tokens=False,\n",
        "                                                 return_special_tokens_mask=False,\n",
        "                                                 truncation=True,\n",
        "                                                 )\n",
        "        return Features(og_sample=ex,\n",
        "                        input_ids=encode_dict[\"input_ids\"],\n",
        "                        attention_mask=encode_dict[\"attention_mask\"])\n",
        "\n",
        "    def __getitem__(self, idx) -> Features:\n",
        "        return self.encode(ex=self.examples[idx])\n",
        "\n",
        "    def __len__(self):\n",
        "        return len(self.examples)\n",
        "\n",
        "\n",
        "def pad_seq(seq: List[int], max_batch_len: int, pad_value: int) -> List[int]:\n",
        "    return seq + (max_batch_len - len(seq)) * [pad_value]\n",
        "\n",
        "\n",
        "# Smart Collator is used to create batches which are dynamically padded with uniform length \n",
        "@dataclass\n",
        "class SmartCollator:  # (DataCollator):\n",
        "    pad_token_id: int\n",
        "\n",
        "    def collate_batch(self, batch: List[Features]) -> Dict[str, torch.Tensor]:\n",
        "        batch_og_sample = list()\n",
        "        batch_inputs = list()\n",
        "        batch_attention_masks = list()\n",
        "        labels = list()\n",
        "        max_size = max([len(ex.input_ids) for ex in batch])\n",
        "        for item in batch:\n",
        "            batch_inputs += [pad_seq(item.input_ids, max_size, self.pad_token_id)]\n",
        "            batch_attention_masks += [pad_seq(item.attention_mask, max_size, 0)]\n",
        "            batch_og_sample.append(item)\n",
        "\n",
        "        return {\"input_ids\": torch.tensor(batch_inputs, dtype=torch.long),\n",
        "                \"attention_mask\": torch.tensor(batch_attention_masks, dtype=torch.long),\n",
        "                \"og_sample\": batch_og_sample\n",
        "                }\n",
        "                \n",
        "def collate_wrapper(data):\n",
        "    collator = SmartCollator(pad_token_id=tokenizer.pad_token_id)\n",
        "    return collator.collate_batch(data)\n",
        "\n",
        "\n",
        "# USE THIS FUNCTION TO LOAD TEST AND TRAIN DATA AND ITERATE THROUGH THEM\n",
        "def load_test_data(tokenizer, batch_size, cased=False, sent_type=None):\n",
        "    # Get train and test Data Examples\n",
        "    test = get_test_data(cased, sent_type=sent_type)\n",
        "\n",
        "    # Now tokenize the words and convert them to token IDs\n",
        "    max_sequence_len = 128\n",
        "    test_set = TextDataset(tokenizer=tokenizer,\n",
        "                            max_len=max_sequence_len,\n",
        "                            examples=test,\n",
        "                            pad_to_max_length=True)\n",
        "\n",
        "    test_dataloader = DataLoader(test_set, batch_size=batch_size, shuffle=False, num_workers=0, collate_fn=collate_wrapper,\n",
        "              pin_memory=False, drop_last=False, timeout=0,\n",
        "              worker_init_fn=None)\n",
        "    \n",
        "    return test_dataloader"
      ],
      "execution_count": 105,
      "outputs": []
    },
    {
      "cell_type": "markdown",
      "metadata": {
        "id": "oxq7a-TXCaGy"
      },
      "source": [
        "**Methods to 1) retrieve BERT embeddings, 2) retrieve similarity predictions on given pairs of sentences, and 3)  evaluate Pearson correlation coefficient on predictions**"
      ]
    },
    {
      "cell_type": "code",
      "metadata": {
        "id": "ROkdGY93tCWT"
      },
      "source": [
        "def get_bert_output(my_bert, input_ids, attention_mask):    \n",
        "    outputs = my_bert(input_ids, attention_mask=attention_mask)\n",
        "    hidden_states = outputs[2]\n",
        "    sent_embedding = hidden_states[11][:, 0:1, :].squeeze(1).cuda()\n",
        "    return sent_embedding\n",
        "\n",
        "\n",
        "'''\n",
        "    Method to predict using a given bert model and its regression head weights\n",
        "'''\n",
        "def get_predictions(model, regression, test_dataloader):\n",
        "    predicted = list()\n",
        "    model.eval()\n",
        "    with torch.no_grad():\n",
        "        for batch_data in test_dataloader:\n",
        "            input_ids = batch_data[\"input_ids\"].to(device)\n",
        "            attention_mask = batch_data[\"attention_mask\"].to(device)\n",
        "            bert_embedding = get_bert_output(model, input_ids, attention_mask)\n",
        "            predicted_score = regression(bert_embedding)\n",
        "            predicted.extend(predicted_score.tolist())\n",
        "    predicted = [item[0] for item in predicted]\n",
        "    return predicted\n",
        "\n",
        "\n",
        "'''\n",
        "    Method to evaluate and calculate pcc on dev/test dataset, and show terrible predictions\n",
        "'''\n",
        "def evaluate_predictions(predictions, actual_scores, test_dataloader, \n",
        "                         show_bad_predictions=True, show_good_predictions=False, \n",
        "                         prediction_difference=2.0):\n",
        "    correlation, p_value = pearsonr(actual_scores, predictions)\n",
        "    r2_val = r2_score(actual_scores, predictions)\n",
        "    print(\"Test Dataset Pearson Correlation: \", correlation)\n",
        "    print(\"Test Dataset R2 Score: \", r2_val)\n",
        "\n",
        "    if show_bad_predictions:\n",
        "        print(\"BAD EXAMPLES\")\n",
        "        print(\"actual  predicted     difference     SENTENCE\")\n",
        "        for act, pre, test_example in zip(actual_scores, predictions, test_dataloader):\n",
        "            og_text =  test_example['og_sample'][0].og_sample\n",
        "            if abs(pre-act) > prediction_difference:\n",
        "                print(\"{:.2f}    {:.2f}          {:.2f}     {} | {}\".format(act, pre, abs(pre-act), og_text.text_a, og_text.text_b))\n",
        "\n",
        "    if show_good_predictions:\n",
        "        print(\"GOOD EXAMPLES\")\n",
        "        print(\"actual  predicted     difference     SENTENCE\")\n",
        "        for act, pre, test_example in zip(actual_scores, predictions, test_dataloader):\n",
        "            og_text =  test_example['og_sample'][0].og_sample\n",
        "            if abs(pre-act) < 0.5:\n",
        "                print(\"{:.2f}    {:.2f}          {:.2f}     {} | {}\".format(act, pre, abs(pre-act), og_text.text_a, og_text.text_b))\n",
        "\n",
        "    d = {\"gold_scores\": actual_scores, \"predicted_scores\": predictions}\n",
        "    dx = pd.DataFrame(d)\n",
        "    dx.plot.hist(bins=20, alpha=0.25, log=True)\n",
        "\n",
        "\n",
        "def get_optimizer_params(model):\n",
        "    param_optimizer = list(model.named_parameters())\n",
        "    no_decay = ['bias', 'gamma', 'beta']\n",
        "    opt_parameters = [\n",
        "        {'params': [p for n, p in param_optimizer if not any(nd in n for nd in no_decay)],\n",
        "        'weight_decay_rate': 0.01},\n",
        "        {'params': [p for n, p in param_optimizer if any(nd in n for nd in no_decay)],\n",
        "        'weight_decay_rate': 0.0}\n",
        "    ]\n",
        "    return opt_parameters\n",
        "\n",
        "\n",
        "# required to unpickle my linear regression model - same as the one used in train.py\n",
        "class linearRegression(nn.Module):\n",
        "    def __init__(self):\n",
        "        super(linearRegression, self).__init__()\n",
        "        self.linear = nn.Linear(768, 1)\n",
        "    def forward(self, x):\n",
        "        out = self.linear(x)\n",
        "        return out\n"
      ],
      "execution_count": 5,
      "outputs": []
    },
    {
      "cell_type": "markdown",
      "metadata": {
        "id": "crEphGEYtkGh"
      },
      "source": [
        "## **BERT TRAINED ON ALL DATA**\n",
        "And tested on all data"
      ]
    },
    {
      "cell_type": "code",
      "metadata": {
        "id": "EgmnNke5tlNZ",
        "outputId": "ce45b3c9-d352-4aeb-e7f1-3312d040e83c",
        "colab": {
          "base_uri": "https://localhost:8080/",
          "height": 727
        }
      },
      "source": [
        "tokenizer = BertTokenizer.from_pretrained(\"bert-base-uncased\", output_hidden_states=True)\n",
        "test_dataloader = load_test_data(tokenizer=tokenizer, batch_size=1, sent_type=None)\n",
        "\n",
        "my_bert = torch.load(\"/content/drive/My Drive/clinical-sts/models/bert-bert-base-uncased-0.83.pth\")\n",
        "my_bert.cuda()\n",
        "regression = torch.load(\"/content/drive/My Drive/clinical-sts/models/regression-bert-base-uncased-0.83.pth\")\n",
        "regression.cuda()\n",
        "\n",
        "predictions = get_predictions(my_bert, regression, test_dataloader)\n",
        "gs_scores = open(\"/content/drive/My Drive/clinical-sts/test.gs.sim.txt\", \"r\")\n",
        "actual_scores = [float(x.strip()) for x in gs_scores.readlines()]\n",
        "\n",
        "evaluate_predictions(predictions, actual_scores, test_dataloader, show_bad_predictions=True, prediction_difference=2.0)\n"
      ],
      "execution_count": 103,
      "outputs": [
        {
          "output_type": "stream",
          "text": [
            "/usr/local/lib/python3.6/dist-packages/transformers/tokenization_utils_base.py:1944: FutureWarning: The `pad_to_max_length` argument is deprecated and will be removed in a future version, use `padding=True` or `padding='longest'` to pad to the longest sequence in the batch, or use `padding='max_length'` to pad to a max length. In this case, you can give a specific length with `max_length` (e.g. `max_length=45`) or leave max_length to None to pad to the maximal input size of the model (e.g. 512 for Bert).\n",
            "  FutureWarning,\n"
          ],
          "name": "stderr"
        },
        {
          "output_type": "stream",
          "text": [
            "Test Dataset Pearson Correlation:  0.8184397924989686\n",
            "Test Dataset R2 Score:  0.5187987319612333\n",
            "BAD EXAMPLES\n",
            "actual  predicted     difference     SENTENCE\n",
            "2.00    4.09          2.09     patient was agreeable to care plan and verbalized understanding. | she tolerated the session with no adverse reactions and verbalized understanding to the above plan of care.\n",
            "0.00    2.20          2.20     the patient tolerated the procedure well and was transferred to the recovery room in stable condition. | the patient was transferred to the patient appointment coordinator for an appointment to be scheduled within the timeframe advised.\n",
            "0.50    2.50          2.00     take a cellphone with you on the way to the emergency department. | reasons to return to the emergency department were discussed.\n",
            "0.00    2.85          2.85     please contact location at phone number with any questions or concerns regarding this patient. | patient discharged ambulatory without further questions or concerns noted.\n",
            "0.00    3.91          3.91     others you do with the help of your health care team. | thank you for choosing the name, aprn, c.n.p., d.n.p.. care team for your health care needs!\n",
            "0.00    2.13          2.13     the patient is due for a provider visit at this time. | there are no other complaints at this time.\n",
            "0.00    2.73          2.73     the patient is discharging home with no new home health or equipment needs. | the patient notes and no new head and neck symptoms.\n",
            "0.50    3.67          3.17     gastrointestinal : negative for abdominal pain, diarrhea, nausea and vomiting. | negative for chest pain, palpitations and leg swelling.\n",
            "2.00    -0.03          2.03     the consultant will review the plan of care with the athlete. | the risks and benefits of these procedures were discussed with the patient.\n",
            "0.00    3.41          3.41     patient to call to schedule additional treatment sessions as needed otherwise patient dismissed from therapy. | patient tolerated session without adverse reactions to therapy.\n"
          ],
          "name": "stdout"
        },
        {
          "output_type": "stream",
          "text": [
            "/usr/local/lib/python3.6/dist-packages/transformers/tokenization_utils_base.py:1944: FutureWarning: The `pad_to_max_length` argument is deprecated and will be removed in a future version, use `padding=True` or `padding='longest'` to pad to the longest sequence in the batch, or use `padding='max_length'` to pad to a max length. In this case, you can give a specific length with `max_length` (e.g. `max_length=45`) or leave max_length to None to pad to the maximal input size of the model (e.g. 512 for Bert).\n",
            "  FutureWarning,\n"
          ],
          "name": "stderr"
        },
        {
          "output_type": "stream",
          "text": [
            "1.50    3.54          2.04     all questions regarding the planned procedure were answered. | all other questions were answered at the time of the visit.\n",
            "3.00    0.58          2.42     he was prepped and draped in the standard fashion. | the affected shoulder was prepared and draped with the usual sterile technique.\n",
            "4.50    2.33          2.17     it is a pleasure caring for this patient. | it was a pleasure to meet with her today.\n",
            "2.00    -0.06          2.06     blunt dissection was used to define the distal extent of the transverse carpal ligament. | the patient was taken to the operating room where they underwent the above procedure.\n",
            "0.00    3.15          3.15     development : appropriate for age and growth are appropriate for age. | age - appropriate anticipatory guidance and injury prevention information was discussed.\n",
            "0.00    2.72          2.72     the client verbalized understanding and consented to the plan of care. | the patient consented to the possibility of blood transfusion.\n",
            "1.00    3.33          2.33     oxycodone [ roxicodone ] 5 mg tablet 1 - 2 tablets by mouth every 6 hours as needed. | maxalt 10 mg tablet 1 tablet by mouth as directed by prescriber as needed.\n",
            "2.50    -0.10          2.60     the above has been discussed and reviewed in detail with the patient. | the family was advised that the content of this interview will be shared with the health care team.\n"
          ],
          "name": "stdout"
        },
        {
          "output_type": "display_data",
          "data": {
            "image/png": "[encoded data removed]",
            "text/plain": [
              "<Figure size 432x288 with 1 Axes>"
            ]
          },
          "metadata": {
            "tags": [],
            "needs_background": "light"
          }
        }
      ]
    },
    {
      "cell_type": "markdown",
      "metadata": {
        "id": "w5sKXWMGtllP"
      },
      "source": [
        "## **BERT TRAINED ON ALL DATA**\n",
        "And tested on ONLY CLINICAL DATA"
      ]
    },
    {
      "cell_type": "code",
      "metadata": {
        "id": "Tyb7GBjBtltg",
        "outputId": "4efac915-c95b-4c30-a8eb-57e65b936399",
        "colab": {
          "base_uri": "https://localhost:8080/",
          "height": 710
        }
      },
      "source": [
        "SENT_TYPE = \"CLINICAL\"\n",
        "tokenizer = BertTokenizer.from_pretrained(\"bert-base-uncased\", output_hidden_states=True)\n",
        "test_dataloader = load_test_data(tokenizer=tokenizer, batch_size=1, sent_type=SENT_TYPE)\n",
        "\n",
        "my_bert = torch.load(\"/content/drive/My Drive/clinical-sts/models/bert-bert-base-uncased-0.83.pth\")\n",
        "my_bert.cuda()\n",
        "regression = torch.load(\"/content/drive/My Drive/clinical-sts/models/regression-bert-base-uncased-0.83.pth\")\n",
        "regression.cuda()\n",
        "\n",
        "predictions = get_predictions(my_bert, regression, test_dataloader)\n",
        "\n",
        "test_data = \"/content/drive/My Drive/clinical-sts/augmented_test.tsv\"\n",
        "new_df = pd.read_csv(test_data, sep=\"\\t\", names=[\"sentence_1\", \"sentence_2\", \"score\", \"label\"], encoding=\"utf-8\")\n",
        "new_df = new_df[new_df[\"label\"]==SENT_TYPE]\n",
        "actual_scores = new_df[\"score\"].to_numpy()\n",
        "\n",
        "evaluate_predictions(predictions, actual_scores, test_dataloader, show_bad_predictions=True, prediction_difference=2.0)"
      ],
      "execution_count": 66,
      "outputs": [
        {
          "output_type": "stream",
          "text": [
            "/usr/local/lib/python3.6/dist-packages/transformers/tokenization_utils_base.py:1944: FutureWarning: The `pad_to_max_length` argument is deprecated and will be removed in a future version, use `padding=True` or `padding='longest'` to pad to the longest sequence in the batch, or use `padding='max_length'` to pad to a max length. In this case, you can give a specific length with `max_length` (e.g. `max_length=45`) or leave max_length to None to pad to the maximal input size of the model (e.g. 512 for Bert).\n",
            "  FutureWarning,\n"
          ],
          "name": "stderr"
        },
        {
          "output_type": "stream",
          "text": [
            "Test Dataset Pearson Correlation:  0.835449132593834\n",
            "Test Dataset R2 Score:  0.6357389410124336\n",
            "BAD EXAMPLES\n",
            "actual  predicted     difference     SENTENCE\n",
            "2.00    4.09          2.09     patient was agreeable to care plan and verbalized understanding. | she tolerated the session with no adverse reactions and verbalized understanding to the above plan of care.\n",
            "0.00    2.20          2.20     the patient tolerated the procedure well and was transferred to the recovery room in stable condition. | the patient was transferred to the patient appointment coordinator for an appointment to be scheduled within the timeframe advised.\n",
            "0.50    2.50          2.00     take a cellphone with you on the way to the emergency department. | reasons to return to the emergency department were discussed.\n",
            "0.00    2.85          2.85     please contact location at phone number with any questions or concerns regarding this patient. | patient discharged ambulatory without further questions or concerns noted.\n",
            "0.00    3.91          3.91     others you do with the help of your health care team. | thank you for choosing the name, aprn, c.n.p., d.n.p.. care team for your health care needs!\n",
            "0.00    2.13          2.13     the patient is due for a provider visit at this time. | there are no other complaints at this time.\n",
            "0.00    2.73          2.73     the patient is discharging home with no new home health or equipment needs. | the patient notes and no new head and neck symptoms.\n",
            "0.50    3.67          3.17     gastrointestinal : negative for abdominal pain, diarrhea, nausea and vomiting. | negative for chest pain, palpitations and leg swelling.\n",
            "2.00    -0.03          2.03     the consultant will review the plan of care with the athlete. | the risks and benefits of these procedures were discussed with the patient.\n",
            "0.00    3.41          3.41     patient to call to schedule additional treatment sessions as needed otherwise patient dismissed from therapy. | patient tolerated session without adverse reactions to therapy.\n",
            "1.50    3.54          2.04     all questions regarding the planned procedure were answered. | all other questions were answered at the time of the visit.\n",
            "3.00    0.58          2.42     he was prepped and draped in the standard fashion. | the affected shoulder was prepared and draped with the usual sterile technique.\n",
            "4.50    2.33          2.17     it is a pleasure caring for this patient. | it was a pleasure to meet with her today.\n",
            "2.00    -0.06          2.06     blunt dissection was used to define the distal extent of the transverse carpal ligament. | the patient was taken to the operating room where they underwent the above procedure.\n"
          ],
          "name": "stdout"
        },
        {
          "output_type": "stream",
          "text": [
            "/usr/local/lib/python3.6/dist-packages/transformers/tokenization_utils_base.py:1944: FutureWarning: The `pad_to_max_length` argument is deprecated and will be removed in a future version, use `padding=True` or `padding='longest'` to pad to the longest sequence in the batch, or use `padding='max_length'` to pad to a max length. In this case, you can give a specific length with `max_length` (e.g. `max_length=45`) or leave max_length to None to pad to the maximal input size of the model (e.g. 512 for Bert).\n",
            "  FutureWarning,\n"
          ],
          "name": "stderr"
        },
        {
          "output_type": "stream",
          "text": [
            "0.00    3.15          3.15     development : appropriate for age and growth are appropriate for age. | age - appropriate anticipatory guidance and injury prevention information was discussed.\n",
            "0.00    2.72          2.72     the client verbalized understanding and consented to the plan of care. | the patient consented to the possibility of blood transfusion.\n",
            "2.50    -0.10          2.60     the above has been discussed and reviewed in detail with the patient. | the family was advised that the content of this interview will be shared with the health care team.\n"
          ],
          "name": "stdout"
        },
        {
          "output_type": "display_data",
          "data": {
            "image/png": "[encoded data removed]",
            "text/plain": [
              "<Figure size 432x288 with 1 Axes>"
            ]
          },
          "metadata": {
            "tags": [],
            "needs_background": "light"
          }
        }
      ]
    },
    {
      "cell_type": "markdown",
      "metadata": {
        "id": "hFt1vEcZtl3j"
      },
      "source": [
        "## **BERT TRAINED ON ALL DATA**\n",
        "And tested on ONLY MEDICAL DATA"
      ]
    },
    {
      "cell_type": "code",
      "metadata": {
        "id": "nvOWNuNDtl_3",
        "outputId": "f5a0bc04-0c84-4412-a856-550a6bfd562d",
        "colab": {
          "base_uri": "https://localhost:8080/",
          "height": 438
        }
      },
      "source": [
        "SENT_TYPE = \"MEDICAL\"\n",
        "tokenizer = BertTokenizer.from_pretrained(\"bert-base-uncased\", output_hidden_states=True)\n",
        "test_dataloader = load_test_data(tokenizer=tokenizer, batch_size=1, sent_type=SENT_TYPE)\n",
        "\n",
        "my_bert = torch.load(\"/content/drive/My Drive/clinical-sts/models/bert-bert-base-uncased-0.8191.pth\")\n",
        "my_bert.cuda()\n",
        "regression = torch.load(\"/content/drive/My Drive/clinical-sts/models/regression-bert-base-uncased-0.8191.pth\")\n",
        "regression.cuda()\n",
        "\n",
        "predictions = get_predictions(my_bert, regression, test_dataloader)\n",
        "\n",
        "test_data = \"/content/drive/My Drive/clinical-sts/augmented_test.tsv\"\n",
        "new_df = pd.read_csv(test_data, sep=\"\\t\", names=[\"sentence_1\", \"sentence_2\", \"score\", \"label\"], encoding=\"utf-8\")\n",
        "new_df = new_df[new_df[\"label\"]==SENT_TYPE]\n",
        "actual_scores = new_df[\"score\"].to_numpy()\n",
        "\n",
        "evaluate_predictions(predictions, actual_scores, test_dataloader, show_bad_predictions=True, prediction_difference=2.0)"
      ],
      "execution_count": null,
      "outputs": [
        {
          "output_type": "stream",
          "text": [
            "/usr/local/lib/python3.6/dist-packages/transformers/tokenization_utils_base.py:1944: FutureWarning: The `pad_to_max_length` argument is deprecated and will be removed in a future version, use `padding=True` or `padding='longest'` to pad to the longest sequence in the batch, or use `padding='max_length'` to pad to a max length. In this case, you can give a specific length with `max_length` (e.g. `max_length=45`) or leave max_length to None to pad to the maximal input size of the model (e.g. 512 for Bert).\n",
            "  FutureWarning,\n"
          ],
          "name": "stderr"
        },
        {
          "output_type": "stream",
          "text": [
            "Test Dataset Pearson Correlation:  0.4855143895414309\n",
            "Test Dataset R2 Score:  -5.233236279482163\n",
            "BAD EXAMPLES\n",
            "actual  predicted     difference     SENTENCE\n",
            "1.00    3.33          2.33     oxycodone [ roxicodone ] 5 mg tablet 1 - 2 tablets by mouth every 6 hours as needed. | maxalt 10 mg tablet 1 tablet by mouth as directed by prescriber as needed.\n"
          ],
          "name": "stdout"
        },
        {
          "output_type": "stream",
          "text": [
            "/usr/local/lib/python3.6/dist-packages/transformers/tokenization_utils_base.py:1944: FutureWarning: The `pad_to_max_length` argument is deprecated and will be removed in a future version, use `padding=True` or `padding='longest'` to pad to the longest sequence in the batch, or use `padding='max_length'` to pad to a max length. In this case, you can give a specific length with `max_length` (e.g. `max_length=45`) or leave max_length to None to pad to the maximal input size of the model (e.g. 512 for Bert).\n",
            "  FutureWarning,\n"
          ],
          "name": "stderr"
        },
        {
          "output_type": "display_data",
          "data": {
            "image/png": "[encoded data removed]",
            "text/plain": [
              "<Figure size 432x288 with 1 Axes>"
            ]
          },
          "metadata": {
            "tags": [],
            "needs_background": "light"
          }
        }
      ]
    },
    {
      "cell_type": "code",
      "metadata": {
        "id": "WTNxfrGXvtA-",
        "outputId": "245acbf6-e416-4d6f-eb07-4d2a7593a20e",
        "colab": {
          "base_uri": "https://localhost:8080/",
          "height": 435
        }
      },
      "source": [
        "predictions = np.array(predictions)\n",
        "differences = np.absolute(predictions-actual_scores)\n",
        "\n",
        "print(\"MEDICAL TEST SAMPLES: \", np.size(actual_scores))\n",
        "\n",
        "print(\"\\nAVERAGE DIFFERENCE: \", np.mean(differences))\n",
        "print(\"MAX DIFFERENCE: \",np.max(differences))\n",
        "print(\"MIN DIFFERENCE: \", np.min(differences))\n",
        "\n",
        "print(\"\\nWithin 0.0 - 0.25 of actual score: \", np.size(np.where(differences < 0.25)))\n",
        "print(\"Within 0.0 - 0.50 of actual score: \", np.size(np.where(differences < 0.5)))\n",
        "print(\"Within 0.5 - 0.75 of actual score: \", np.size(np.where(differences < 0.75))-np.size(np.where(differences < 0.5)))\n",
        "print(\"Greater than 1.00 of actual score: \", np.size(np.where(differences >= 1)))\n",
        "\n",
        "\n",
        "\n",
        "# d = {\"gold_scores\": actual_scores, \"predicted_scores\": predictions}\n",
        "dx = pd.DataFrame(differences)\n",
        "dx.plot.hist(bins=20, alpha=0.25)\n",
        "bad_differences = differences"
      ],
      "execution_count": null,
      "outputs": [
        {
          "output_type": "stream",
          "text": [
            "MEDICAL TEST SAMPLES:  140\n",
            "\n",
            "AVERAGE DIFFERENCE:  0.9438095722879682\n",
            "MAX DIFFERENCE:  2.329496383666992\n",
            "MIN DIFFERENCE:  0.00761723518371582\n",
            "\n",
            "Within 0.0 - 0.25 of actual score:  10\n",
            "Within 0.0 - 0.50 of actual score:  30\n",
            "Within 0.5 - 0.75 of actual score:  22\n",
            "Greater than 1.00 of actual score:  63\n"
          ],
          "name": "stdout"
        },
        {
          "output_type": "display_data",
          "data": {
            "image/png": "[encoded data removed]",
            "text/plain": [
              "<Figure size 432x288 with 1 Axes>"
            ]
          },
          "metadata": {
            "tags": [],
            "needs_background": "light"
          }
        }
      ]
    },
    {
      "cell_type": "markdown",
      "metadata": {
        "id": "1TJiVZmG1qtU"
      },
      "source": [
        "## BERT TRAINED ON **ONLY CLINICAL** DATA\n",
        "And tested on ONLY CLINICAL DATA\n",
        "\n",
        "Same score as BERT trained on ALL data"
      ]
    },
    {
      "cell_type": "code",
      "metadata": {
        "id": "91WLiZ6qwRFd",
        "outputId": "340bebe5-b409-4b32-dfcc-06a149f15355",
        "colab": {
          "base_uri": "https://localhost:8080/",
          "height": 659
        }
      },
      "source": [
        "SENT_TYPE = \"CLINICAL\"\n",
        "tokenizer = BertTokenizer.from_pretrained(\"bert-base-uncased\", output_hidden_states=True)\n",
        "test_dataloader = load_test_data(tokenizer=tokenizer, batch_size=1, sent_type=SENT_TYPE)\n",
        "\n",
        "my_bert = torch.load(\"/content/drive/My Drive/clinical-sts/models/CLINICAL-bert-bert-base-uncased-0.8191.pth\")\n",
        "my_bert.cuda()\n",
        "regression = torch.load(\"/content/drive/My Drive/clinical-sts/models/CLINICAL-regression-bert-base-uncased-0.8191.pth\")\n",
        "regression.cuda()\n",
        "\n",
        "predictions = get_predictions(my_bert, regression, test_dataloader)\n",
        "\n",
        "test_data = \"/content/drive/My Drive/clinical-sts/augmented_test.tsv\"\n",
        "new_df = pd.read_csv(test_data, sep=\"\\t\", names=[\"sentence_1\", \"sentence_2\", \"score\", \"label\"], encoding=\"utf-8\")\n",
        "new_df = new_df[new_df[\"label\"]==SENT_TYPE]\n",
        "actual_scores = new_df[\"score\"].to_numpy()\n",
        "\n",
        "evaluate_predictions(predictions, actual_scores, test_dataloader, show_bad_predictions=True, prediction_difference=2.0)\n",
        "new_df[\"prediction\"] = predictions\n",
        "new_df.to_csv(\"/content/drive/My Drive/clinical-sts/results/CLINICAL-bert-bert-base-uncased-0.8191.csv\", sep='|')\n",
        "clinical_df = new_df[['sentence_1','sentence_2','score', 'prediction']].copy()"
      ],
      "execution_count": 76,
      "outputs": [
        {
          "output_type": "stream",
          "text": [
            "/usr/local/lib/python3.6/dist-packages/transformers/tokenization_utils_base.py:1944: FutureWarning: The `pad_to_max_length` argument is deprecated and will be removed in a future version, use `padding=True` or `padding='longest'` to pad to the longest sequence in the batch, or use `padding='max_length'` to pad to a max length. In this case, you can give a specific length with `max_length` (e.g. `max_length=45`) or leave max_length to None to pad to the maximal input size of the model (e.g. 512 for Bert).\n",
            "  FutureWarning,\n"
          ],
          "name": "stderr"
        },
        {
          "output_type": "stream",
          "text": [
            "Test Dataset Pearson Correlation:  0.8329634774927627\n",
            "Test Dataset R2 Score:  0.684276542211568\n",
            "BAD EXAMPLES\n",
            "actual  predicted     difference     SENTENCE\n",
            "1.50    3.61          2.11     male presents today to discuss prostate cancer status. | female who presents today for a full skin cancer screening examination.\n",
            "0.50    2.54          2.04     take a cellphone with you on the way to the emergency department. | reasons to return to the emergency department were discussed.\n",
            "3.50    0.86          2.64     memory and concentration : able to recall recent and past events. | average intellectual functioning and good recall of events.\n",
            "0.50    2.60          2.10     negative for coughing up blood, coughing up mucus ( phlegm ) and wheezing. | negative for abdominal pain, blood in stool, constipation, diarrhea and vomiting.\n",
            "0.00    2.52          2.52     please contact location at phone number with any questions or concerns regarding this patient. | patient discharged ambulatory without further questions or concerns noted.\n",
            "2.00    4.42          2.42     gastrointestinal : negative for abdominal distention, abdominal pain, blood in stool, constipation, diarrhea, hematemesis, nausea and vomiting. | gastrointestinal : positive for abdominal distention, abdominal pain, nausea and vomiting.\n",
            "0.00    3.37          3.37     others you do with the help of your health care team. | thank you for choosing the name, aprn, c.n.p., d.n.p.. care team for your health care needs!\n",
            "4.50    2.11          2.39     she exhibits normal range of motion and no bony tenderness. | normal range of motion in all major joints.\n",
            "4.00    1.89          2.11     there were no complications and the patient tolerated the procedure well. | the patient tolerated the procedure well and was awakened from iv sedation without any difficulties.\n",
            "2.00    -0.05          2.05     the consultant will review the plan of care with the athlete. | the risks and benefits of these procedures were discussed with the patient.\n",
            "3.00    0.83          2.17     he was prepped and draped in the standard fashion. | the affected shoulder was prepared and draped with the usual sterile technique.\n",
            "4.50    1.72          2.78     it is a pleasure caring for this patient. | it was a pleasure to meet with her today.\n"
          ],
          "name": "stdout"
        },
        {
          "output_type": "stream",
          "text": [
            "/usr/local/lib/python3.6/dist-packages/transformers/tokenization_utils_base.py:1944: FutureWarning: The `pad_to_max_length` argument is deprecated and will be removed in a future version, use `padding=True` or `padding='longest'` to pad to the longest sequence in the batch, or use `padding='max_length'` to pad to a max length. In this case, you can give a specific length with `max_length` (e.g. `max_length=45`) or leave max_length to None to pad to the maximal input size of the model (e.g. 512 for Bert).\n",
            "  FutureWarning,\n"
          ],
          "name": "stderr"
        },
        {
          "output_type": "stream",
          "text": [
            "0.00    2.14          2.14     development : appropriate for age and growth are appropriate for age. | age - appropriate anticipatory guidance and injury prevention information was discussed.\n",
            "2.50    0.00          2.50     the above has been discussed and reviewed in detail with the patient. | the family was advised that the content of this interview will be shared with the health care team.\n"
          ],
          "name": "stdout"
        },
        {
          "output_type": "display_data",
          "data": {
            "image/png": "[encoded data removed]",
            "text/plain": [
              "<Figure size 432x288 with 1 Axes>"
            ]
          },
          "metadata": {
            "tags": [],
            "needs_background": "light"
          }
        }
      ]
    },
    {
      "cell_type": "code",
      "metadata": {
        "id": "zIe79t0pgGXZ",
        "outputId": "ab0bfe38-7e55-48f7-e05a-d1cad5b4b24a",
        "colab": {
          "base_uri": "https://localhost:8080/"
        }
      },
      "source": [
        ""
      ],
      "execution_count": 77,
      "outputs": [
        {
          "output_type": "stream",
          "text": [
            "272\n",
            "done\n"
          ],
          "name": "stdout"
        }
      ]
    },
    {
      "cell_type": "markdown",
      "metadata": {
        "id": "T6IcFA_x1-yb"
      },
      "source": [
        "## BERT TRAINED ON **ONLY MEDICAL** DATA\n",
        "And tested on ONLY MEDICAL DATA\n",
        "\n",
        "Score improves from 0.48 to 0.63"
      ]
    },
    {
      "cell_type": "code",
      "metadata": {
        "id": "YJqrKRKRwxWb",
        "outputId": "92a589a1-a001-4018-9e16-ce640a8149b2",
        "colab": {
          "base_uri": "https://localhost:8080/",
          "height": 438
        }
      },
      "source": [
        "SENT_TYPE = \"MEDICAL\"\n",
        "tokenizer = BertTokenizer.from_pretrained(\"bert-base-uncased\", output_hidden_states=True)\n",
        "test_dataloader = load_test_data(tokenizer=tokenizer, batch_size=1, sent_type=SENT_TYPE)\n",
        "\n",
        "my_bert = torch.load(\"/content/drive/My Drive/clinical-sts/models/MEDICAL-bert-bert-base-uncased-0.60.pth\")\n",
        "my_bert.cuda()\n",
        "regression = torch.load(\"/content/drive/My Drive/clinical-sts/models/MEDICAL-regression-bert-base-uncased-0.60.pth\")\n",
        "regression.cuda()\n",
        "\n",
        "predictions = get_predictions(my_bert, regression, test_dataloader)\n",
        "\n",
        "test_data = \"/content/drive/My Drive/clinical-sts/augmented_test.tsv\"\n",
        "new_df = pd.read_csv(test_data, sep=\"\\t\", names=[\"sentence_1\", \"sentence_2\", \"score\", \"label\"], encoding=\"utf-8\")\n",
        "new_df = new_df[new_df[\"label\"]==SENT_TYPE]\n",
        "actual_scores = new_df[\"score\"].to_numpy()\n",
        "\n",
        "evaluate_predictions(predictions, actual_scores, test_dataloader, \n",
        "                     show_bad_predictions=True, \n",
        "                     prediction_difference=1.5)\n",
        "new_df[\"prediction\"] = predictions\n",
        "new_df.to_csv(\"/content/drive/My Drive/clinical-sts/results/MEDICAL-bert-bert-base-uncased-0.60.csv\", sep='|')\n",
        "medical_df = new_df[['sentence_1','sentence_2','score', 'prediction']].copy()"
      ],
      "execution_count": 107,
      "outputs": [
        {
          "output_type": "stream",
          "text": [
            "/usr/local/lib/python3.6/dist-packages/transformers/tokenization_utils_base.py:1944: FutureWarning: The `pad_to_max_length` argument is deprecated and will be removed in a future version, use `padding=True` or `padding='longest'` to pad to the longest sequence in the batch, or use `padding='max_length'` to pad to a max length. In this case, you can give a specific length with `max_length` (e.g. `max_length=45`) or leave max_length to None to pad to the maximal input size of the model (e.g. 512 for Bert).\n",
            "  FutureWarning,\n"
          ],
          "name": "stderr"
        },
        {
          "output_type": "stream",
          "text": [
            "Test Dataset Pearson Correlation:  0.6370639024917178\n",
            "Test Dataset R2 Score:  -0.09700193653522438\n",
            "BAD EXAMPLES\n",
            "actual  predicted     difference     SENTENCE\n",
            "3.50    1.69          1.81     tylenol pm extra strength 25 - 500 mg tablet 1 tablet by mouth every bedtime as needed. | ibuprofen 200 mg tablet 2 tablets by mouth as directed by prescriber as needed.\n"
          ],
          "name": "stdout"
        },
        {
          "output_type": "stream",
          "text": [
            "/usr/local/lib/python3.6/dist-packages/transformers/tokenization_utils_base.py:1944: FutureWarning: The `pad_to_max_length` argument is deprecated and will be removed in a future version, use `padding=True` or `padding='longest'` to pad to the longest sequence in the batch, or use `padding='max_length'` to pad to a max length. In this case, you can give a specific length with `max_length` (e.g. `max_length=45`) or leave max_length to None to pad to the maximal input size of the model (e.g. 512 for Bert).\n",
            "  FutureWarning,\n"
          ],
          "name": "stderr"
        },
        {
          "output_type": "display_data",
          "data": {
            "image/png": "[encoded data removed]",
            "text/plain": [
              "<Figure size 432x288 with 1 Axes>"
            ]
          },
          "metadata": {
            "tags": [],
            "needs_background": "light"
          }
        }
      ]
    },
    {
      "cell_type": "markdown",
      "metadata": {
        "id": "2j4j8s2GD9jV"
      },
      "source": [
        "# **Overall PCC of all predictions of test data, inferenced from individual Clinical and Medical training models.**\n",
        "**PCC increases from 0.818 to 0.843**"
      ]
    },
    {
      "cell_type": "code",
      "metadata": {
        "id": "vuc7z7r_vIY7",
        "outputId": "84460455-9ec2-4e3d-b7a1-7eefa7224db0",
        "colab": {
          "base_uri": "https://localhost:8080/",
          "height": 540
        }
      },
      "source": [
        "final_df = pd.concat([clinical_df, medical_df], ignore_index=True)\n",
        "final_df.to_csv(\"/content/drive/My Drive/clinical-sts/results/overall_pcc.csv\", sep='|')\n",
        "final_df['prediction'] = final_df['prediction'].apply(pd.to_numeric, errors='coerce')\n",
        "final_df.loc[final_df['prediction'] >5, 'prediction'] = 5\n",
        "final_df.loc[final_df['prediction'] < 0.0, 'prediction'] = 0\n",
        "evaluate_predictions(final_df['prediction'],final_df['score'],test_dataloader)"
      ],
      "execution_count": 109,
      "outputs": [
        {
          "output_type": "stream",
          "text": [
            "Test Dataset Pearson Correlation:  0.843160938494443\n",
            "Test Dataset R2 Score:  0.6975940684511347\n",
            "BAD EXAMPLES\n",
            "actual  predicted     difference     SENTENCE\n",
            "1.50    3.61          2.11     venlafaxine 75 mg tablet sustained release 24 hour 1 tablet by mouth one time daily. | cardizem cd 120 mg capsule sustained release 24 hour 1 capsule by mouth one time daily.\n",
            "0.50    2.54          2.04     tylenol 325 mg tablet 2 tablets by mouth every 4 hours as needed. | metoprolol succinate [ toprol xl ] 25 mg tablet sustained release 24 hour 1 tablet by mouth every evening.\n",
            "3.50    0.86          2.64     ketoprofen 75 mg capsule 1 capsule by mouth two times a day as needed. | budesonide [ entocort ec ] 3 mg capsule sustained release 24 hour 3 capsules by mouth one time daily.\n",
            "0.50    2.60          2.10     duloxetine [ cymbalta ] 20 mg capsule enteric coated 1 capsule by mouth one time daily. | dexamethasone 4 mg tablet 1 tablet by mouth one time daily.\n",
            "0.00    2.52          2.52     celexa 20 mg tablet 1 tablet by mouth one time daily. | citracal tablet 1 tablet by mouth one time daily.\n",
            "2.00    4.42          2.42     losartan 50 mg tablet 1 tablet by mouth one time daily. | cialis 10 mg tablet by mouth as directed by prescriber.\n",
            "0.00    3.37          3.37     bactrim ds 800 - 160 mg tablet 1 tablet by mouth two times a day. | hydrocortisone [ anusol hc ] 25 mg suppository 1 suppos rectally two times a day.\n",
            "4.50    2.11          2.39     flonase 2 sprays to each nostril once daily as needed for nasal congestion. | nasal irrigations and saline nasal spray as needed for nasal dryness and congestion.\n",
            "4.00    1.89          2.11     flagyl 500 mg tablet 1 tablet by mouth three times a day. | zocor 40 mg tablet 1 tablet by mouth one time daily.\n"
          ],
          "name": "stdout"
        },
        {
          "output_type": "stream",
          "text": [
            "/usr/local/lib/python3.6/dist-packages/transformers/tokenization_utils_base.py:1944: FutureWarning: The `pad_to_max_length` argument is deprecated and will be removed in a future version, use `padding=True` or `padding='longest'` to pad to the longest sequence in the batch, or use `padding='max_length'` to pad to a max length. In this case, you can give a specific length with `max_length` (e.g. `max_length=45`) or leave max_length to None to pad to the maximal input size of the model (e.g. 512 for Bert).\n",
            "  FutureWarning,\n"
          ],
          "name": "stderr"
        },
        {
          "output_type": "display_data",
          "data": {
            "image/png": "[encoded data removed]",
            "text/plain": [
              "<Figure size 432x288 with 1 Axes>"
            ]
          },
          "metadata": {
            "tags": [],
            "needs_background": "light"
          }
        }
      ]
    },
    {
      "cell_type": "markdown",
      "metadata": {
        "id": "wQwLJYtc5Fr6"
      },
      "source": [
        "Looks like are above predictions are pretty good, much better than the model fine-tuned on all the data. \n",
        "\n",
        "- We have 140 medical samples, out of which half of them are within 0.25 of the actual score.\n",
        "- 109 are withinn 0.5 of the predicted score. \n",
        "- 18 of them are greater than 0.5 but within 0.75 of the actual acore.\n",
        "- Only 3 of the predicted values differ from the actual score by more than 1."
      ]
    },
    {
      "cell_type": "code",
      "metadata": {
        "id": "D7mS0u2IxBFz",
        "outputId": "2522ee58-4f02-49d2-8e5f-86de485320f6",
        "colab": {
          "base_uri": "https://localhost:8080/",
          "height": 483
        }
      },
      "source": [
        "predictions = np.array(predictions)\n",
        "differences = np.absolute(predictions-actual_scores)\n",
        "\n",
        "print(\"MEDICAL TEST SAMPLES: \", np.size(actual_scores))\n",
        "\n",
        "print(\"\\nAVERAGE DIFFERENCE: \", np.mean(differences))\n",
        "print(\"MAX DIFFERENCE: \",np.max(differences))\n",
        "print(\"MIN DIFFERENCE: \", np.min(differences))\n",
        "\n",
        "print(\"\\nWithin 0.0 - 0.25 of actual score: \", np.size(np.where(differences < 0.25)))\n",
        "print(\"Within 0.0 - 0.50 of actual score: \", np.size(np.where(differences < 0.5)))\n",
        "print(\"Within 0.5 - 0.75 of actual score: \", np.size(np.where(differences < 0.75))-np.size(np.where(differences < 0.5)))\n",
        "print(\"Greater than 1.00 of actual score: \", np.size(np.where(differences >= 1)))\n",
        "print()\n",
        "\n",
        "\n",
        "d = {\"all-bert-base\": bad_differences, \"medical-bert-base\": differences}\n",
        "dx = pd.DataFrame(d)\n",
        "ax = dx.plot.hist(bins=20, alpha=0.25)\n",
        "ax.set_xlabel(\"Score Difference\")"
      ],
      "execution_count": null,
      "outputs": [
        {
          "output_type": "stream",
          "text": [
            "MEDICAL TEST SAMPLES:  140\n",
            "\n",
            "AVERAGE DIFFERENCE:  0.33707506273474014\n",
            "MAX DIFFERENCE:  1.807150959968567\n",
            "MIN DIFFERENCE:  0.0033071041107177734\n",
            "\n",
            "Within 0.0 - 0.25 of actual score:  70\n",
            "Within 0.0 - 0.50 of actual score:  109\n",
            "Within 0.5 - 0.75 of actual score:  18\n",
            "Greater than 1.00 of actual score:  3\n",
            "\n"
          ],
          "name": "stdout"
        },
        {
          "output_type": "execute_result",
          "data": {
            "text/plain": [
              "Text(0.5, 0, 'Score Difference')"
            ]
          },
          "metadata": {
            "tags": []
          },
          "execution_count": 14
        },
        {
          "output_type": "display_data",
          "data": {
            "image/png": "[encoded data removed]",
            "text/plain": [
              "<Figure size 432x288 with 1 Axes>"
            ]
          },
          "metadata": {
            "tags": [],
            "needs_background": "light"
          }
        }
      ]
    },
    {
      "cell_type": "markdown",
      "metadata": {
        "id": "fyJeCLaCxSl0"
      },
      "source": [
        "## BIO-BERT TRAINED ON **ALL** DATA\n",
        "And tested on ALL DATA\n"
      ]
    },
    {
      "cell_type": "code",
      "metadata": {
        "id": "F0Y-zqY9xSww",
        "outputId": "4f85b734-cd8b-4fe9-c59e-c17ec9bef65b",
        "colab": {
          "base_uri": "https://localhost:8080/",
          "height": 761
        }
      },
      "source": [
        "tokenizer = BertTokenizer.from_pretrained(\"/content/drive/My Drive/clinical-sts/bio-bert/\", output_hidden_states=True)\n",
        "test_dataloader = load_test_data(tokenizer=tokenizer, batch_size=1, sent_type=None)\n",
        "\n",
        "my_bert = torch.load(\"/content/drive/My Drive/clinical-sts/models/bert-bio-bert-0.79.pth\")\n",
        "my_bert.cuda()\n",
        "regression = torch.load(\"/content/drive/My Drive/clinical-sts/models/regression-bio-bert-0.79.pth\")\n",
        "regression.cuda()\n",
        "\n",
        "predictions = get_predictions(my_bert, regression, test_dataloader)\n",
        "gs_scores = open(\"/content/drive/My Drive/clinical-sts/test.gs.sim.txt\", \"r\")\n",
        "actual_scores = [float(x.strip()) for x in gs_scores.readlines()]\n",
        "\n",
        "evaluate_predictions(predictions, actual_scores, test_dataloader, show_bad_predictions=True, prediction_difference=2.0)\n"
      ],
      "execution_count": null,
      "outputs": [
        {
          "output_type": "stream",
          "text": [
            "/usr/local/lib/python3.6/dist-packages/transformers/tokenization_utils_base.py:1944: FutureWarning: The `pad_to_max_length` argument is deprecated and will be removed in a future version, use `padding=True` or `padding='longest'` to pad to the longest sequence in the batch, or use `padding='max_length'` to pad to a max length. In this case, you can give a specific length with `max_length` (e.g. `max_length=45`) or leave max_length to None to pad to the maximal input size of the model (e.g. 512 for Bert).\n",
            "  FutureWarning,\n"
          ],
          "name": "stderr"
        },
        {
          "output_type": "stream",
          "text": [
            "Test Dataset Pearson Correlation:  0.8284719236798858\n",
            "Test Dataset R2 Score:  0.5039691676270965\n",
            "BAD EXAMPLES\n",
            "actual  predicted     difference     SENTENCE\n",
            "0.50    2.52          2.02     left upper extremity : inspection, palpation examined and normal. | abdomen : liver and spleen, bowel sounds examined and normal.\n",
            "2.00    4.24          2.24     patient was agreeable to care plan and verbalized understanding. | she tolerated the session with no adverse reactions and verbalized understanding to the above plan of care.\n",
            "0.50    2.96          2.46     take a cellphone with you on the way to the emergency department. | reasons to return to the emergency department were discussed.\n",
            "1.00    3.76          2.76     she has no formal services at this time. | the patient has no further questions or concerns at this time.\n",
            "0.50    2.82          2.32     negative for coughing up blood, coughing up mucus ( phlegm ) and wheezing. | negative for abdominal pain, blood in stool, constipation, diarrhea and vomiting.\n",
            "2.00    4.02          2.02     gastrointestinal : negative for abdominal distention, abdominal pain, blood in stool, constipation, diarrhea, hematemesis, nausea and vomiting. | gastrointestinal : positive for abdominal distention, abdominal pain, nausea and vomiting.\n",
            "0.50    3.20          2.70     skin integrity : the patient states they have no current skin concerns. | neurologic : the patient states the patient has experienced no decreased level of consciousness or orientation.\n",
            "0.00    3.99          3.99     others you do with the help of your health care team. | thank you for choosing the name, aprn, c.n.p., d.n.p.. care team for your health care needs!\n",
            "0.00    2.46          2.46     the patient is due for a provider visit at this time. | there are no other complaints at this time.\n",
            "3.00    5.45          2.45     he verbalized understanding and agrees to the plan. | mom verbalized understanding and agreement with the plan.\n",
            "0.50    3.81          3.31     gastrointestinal : negative for abdominal pain, diarrhea, nausea and vomiting. | negative for chest pain, palpitations and leg swelling.\n",
            "5.00    2.40          2.60     neurological : negative for numbness or shooting pain in hands, arms, legs, or feet. | negative for numbness or shooting pain in hands, arms, legs, or feet.\n",
            "1.00    3.10          2.10     nitroglycerin 0.4 mg tablet sublingual 1 tablet sublingual as directed by prescriber as needed. | ibuprofen [ advil ] 200 mg tablet 2 tablets by mouth every 4 hours as needed.\n",
            "1.50    3.68          2.18     all questions regarding the planned procedure were answered. | all other questions were answered at the time of the visit."
          ],
          "name": "stdout"
        },
        {
          "output_type": "stream",
          "text": [
            "/usr/local/lib/python3.6/dist-packages/transformers/tokenization_utils_base.py:1944: FutureWarning: The `pad_to_max_length` argument is deprecated and will be removed in a future version, use `padding=True` or `padding='longest'` to pad to the longest sequence in the batch, or use `padding='max_length'` to pad to a max length. In this case, you can give a specific length with `max_length` (e.g. `max_length=45`) or leave max_length to None to pad to the maximal input size of the model (e.g. 512 for Bert).\n",
            "  FutureWarning,\n"
          ],
          "name": "stderr"
        },
        {
          "output_type": "stream",
          "text": [
            "\n",
            "1.00    3.02          2.02     ibuprofen [ motrin ] 400 mg tablet 1 tablet by mouth every 4 hours as needed. | gabapentin [ neurontin ] 300 mg capsule 1 capsule by mouth every bedtime.\n",
            "0.00    3.16          3.16     development : appropriate for age and growth are appropriate for age. | age - appropriate anticipatory guidance and injury prevention information was discussed.\n",
            "0.00    3.18          3.18     the client verbalized understanding and consented to the plan of care. | the patient consented to the possibility of blood transfusion.\n",
            "1.00    3.24          2.24     oxycodone [ roxicodone ] 5 mg tablet 1 - 2 tablets by mouth every 6 hours as needed. | maxalt 10 mg tablet 1 tablet by mouth as directed by prescriber as needed.\n",
            "2.00    4.66          2.66     patient verbalized understanding through teachback and is in agreement with the healthcare plan. | the parent verbalized understanding of the plan and my contact information.\n",
            "2.50    0.25          2.25     the above has been discussed and reviewed in detail with the patient. | the family was advised that the content of this interview will be shared with the health care team.\n"
          ],
          "name": "stdout"
        },
        {
          "output_type": "display_data",
          "data": {
            "image/png": "[encoded data removed]",
            "text/plain": [
              "<Figure size 432x288 with 1 Axes>"
            ]
          },
          "metadata": {
            "tags": [],
            "needs_background": "light"
          }
        }
      ]
    },
    {
      "cell_type": "code",
      "metadata": {
        "id": "x-U9p11w2pNj",
        "outputId": "8b6584a5-6df6-4ee6-c7e1-d6325d12424a",
        "colab": {
          "base_uri": "https://localhost:8080/",
          "height": 710
        }
      },
      "source": [
        "SENT_TYPE = \"CLINICAL\"\n",
        "tokenizer = BertTokenizer.from_pretrained(\"/content/drive/My Drive/clinical-sts/bio-bert/\", output_hidden_states=True)\n",
        "test_dataloader = load_test_data(tokenizer=tokenizer, batch_size=1, sent_type=SENT_TYPE)\n",
        "\n",
        "my_bert = torch.load(\"/content/drive/My Drive/clinical-sts/models/bert-bio-bert-0.79.pth\")\n",
        "my_bert.cuda()\n",
        "regression = torch.load(\"/content/drive/My Drive/clinical-sts/models/regression-bio-bert-0.79.pth\")\n",
        "regression.cuda()\n",
        "\n",
        "predictions = get_predictions(my_bert, regression, test_dataloader)\n",
        "test_data = \"/content/drive/My Drive/clinical-sts/augmented_test.tsv\"\n",
        "new_df = pd.read_csv(test_data, sep=\"\\t\", names=[\"sentence_1\", \"sentence_2\", \"score\", \"label\"], encoding=\"utf-8\")\n",
        "new_df = new_df[new_df[\"label\"]==SENT_TYPE]\n",
        "actual_scores = new_df[\"score\"].to_numpy()\n",
        "\n",
        "evaluate_predictions(predictions, actual_scores, test_dataloader, show_bad_predictions=True, prediction_difference=2.0)\n"
      ],
      "execution_count": null,
      "outputs": [
        {
          "output_type": "stream",
          "text": [
            "/usr/local/lib/python3.6/dist-packages/transformers/tokenization_utils_base.py:1944: FutureWarning: The `pad_to_max_length` argument is deprecated and will be removed in a future version, use `padding=True` or `padding='longest'` to pad to the longest sequence in the batch, or use `padding='max_length'` to pad to a max length. In this case, you can give a specific length with `max_length` (e.g. `max_length=45`) or leave max_length to None to pad to the maximal input size of the model (e.g. 512 for Bert).\n",
            "  FutureWarning,\n"
          ],
          "name": "stderr"
        },
        {
          "output_type": "stream",
          "text": [
            "Test Dataset Pearson Correlation:  0.8467491120836048\n",
            "Test Dataset R2 Score:  0.6365419564171314\n",
            "BAD EXAMPLES\n",
            "actual  predicted     difference     SENTENCE\n",
            "0.50    2.52          2.02     left upper extremity : inspection, palpation examined and normal. | abdomen : liver and spleen, bowel sounds examined and normal.\n",
            "2.00    4.24          2.24     patient was agreeable to care plan and verbalized understanding. | she tolerated the session with no adverse reactions and verbalized understanding to the above plan of care.\n",
            "0.50    2.96          2.46     take a cellphone with you on the way to the emergency department. | reasons to return to the emergency department were discussed.\n",
            "1.00    3.76          2.76     she has no formal services at this time. | the patient has no further questions or concerns at this time.\n",
            "0.50    2.82          2.32     negative for coughing up blood, coughing up mucus ( phlegm ) and wheezing. | negative for abdominal pain, blood in stool, constipation, diarrhea and vomiting.\n",
            "2.00    4.02          2.02     gastrointestinal : negative for abdominal distention, abdominal pain, blood in stool, constipation, diarrhea, hematemesis, nausea and vomiting. | gastrointestinal : positive for abdominal distention, abdominal pain, nausea and vomiting.\n",
            "0.50    3.20          2.70     skin integrity : the patient states they have no current skin concerns. | neurologic : the patient states the patient has experienced no decreased level of consciousness or orientation.\n",
            "0.00    3.99          3.99     others you do with the help of your health care team. | thank you for choosing the name, aprn, c.n.p., d.n.p.. care team for your health care needs!\n",
            "0.00    2.46          2.46     the patient is due for a provider visit at this time. | there are no other complaints at this time.\n",
            "3.00    5.45          2.45     he verbalized understanding and agrees to the plan. | mom verbalized understanding and agreement with the plan.\n",
            "0.50    3.81          3.31     gastrointestinal : negative for abdominal pain, diarrhea, nausea and vomiting. | negative for chest pain, palpitations and leg swelling.\n",
            "5.00    2.40          2.60     neurological : negative for numbness or shooting pain in hands, arms, legs, or feet. | negative for numbness or shooting pain in hands, arms, legs, or feet.\n",
            "1.50    3.68          2.18     all questions regarding the planned procedure were answered. | all other questions were answered at the time of the visit.\n",
            "0.00    3.16          3.16     development : appropriate for age and growth are appropriate for age. | age - appropriate anticipatory guidance and injury prevention information was discussed.\n",
            "0.00    3.18          3.18     the client verbalized understanding and consented to the plan of care. | the patient consented to the possibility of blood transfusion.\n",
            "2.00    4.66          2.66     patient verbalized understanding through teachback and is in agreement with the healthcare plan. | the parent verbalized understanding of the plan and my contact information.\n",
            "2.50    0.25          2.25     the above has been discussed and reviewed in detail with the patient. | the family was advised that the content of this interview will be shared with the health care team.\n"
          ],
          "name": "stdout"
        },
        {
          "output_type": "stream",
          "text": [
            "/usr/local/lib/python3.6/dist-packages/transformers/tokenization_utils_base.py:1944: FutureWarning: The `pad_to_max_length` argument is deprecated and will be removed in a future version, use `padding=True` or `padding='longest'` to pad to the longest sequence in the batch, or use `padding='max_length'` to pad to a max length. In this case, you can give a specific length with `max_length` (e.g. `max_length=45`) or leave max_length to None to pad to the maximal input size of the model (e.g. 512 for Bert).\n",
            "  FutureWarning,\n"
          ],
          "name": "stderr"
        },
        {
          "output_type": "display_data",
          "data": {
            "image/png": "[encoded data removed]",
            "text/plain": [
              "<Figure size 432x288 with 1 Axes>"
            ]
          },
          "metadata": {
            "tags": [],
            "needs_background": "light"
          }
        }
      ]
    },
    {
      "cell_type": "code",
      "metadata": {
        "id": "21sBeEEf24dF",
        "outputId": "0b97a58f-a8e2-4fec-cbc5-b78e1826c367",
        "colab": {
          "base_uri": "https://localhost:8080/",
          "height": 472
        }
      },
      "source": [
        "SENT_TYPE = \"MEDICAL\"\n",
        "tokenizer = BertTokenizer.from_pretrained(\"/content/drive/My Drive/clinical-sts/bio-bert/\", output_hidden_states=True)\n",
        "test_dataloader = load_test_data(tokenizer=tokenizer, batch_size=1, sent_type=SENT_TYPE)\n",
        "\n",
        "my_bert = torch.load(\"/content/drive/My Drive/clinical-sts/models/bert-bio-bert-0.79.pth\")\n",
        "my_bert.cuda()\n",
        "regression = torch.load(\"/content/drive/My Drive/clinical-sts/models/regression-bio-bert-0.79.pth\")\n",
        "regression.cuda()\n",
        "\n",
        "predictions = get_predictions(my_bert, regression, test_dataloader)\n",
        "test_data = \"/content/drive/My Drive/clinical-sts/augmented_test.tsv\"\n",
        "new_df = pd.read_csv(test_data, sep=\"\\t\", names=[\"sentence_1\", \"sentence_2\", \"score\", \"label\"], encoding=\"utf-8\")\n",
        "new_df = new_df[new_df[\"label\"]==SENT_TYPE]\n",
        "actual_scores = new_df[\"score\"].to_numpy()\n",
        "\n",
        "evaluate_predictions(predictions, actual_scores, test_dataloader, show_bad_predictions=True, prediction_difference=2.0)\n"
      ],
      "execution_count": null,
      "outputs": [
        {
          "output_type": "stream",
          "text": [
            "/usr/local/lib/python3.6/dist-packages/transformers/tokenization_utils_base.py:1944: FutureWarning: The `pad_to_max_length` argument is deprecated and will be removed in a future version, use `padding=True` or `padding='longest'` to pad to the longest sequence in the batch, or use `padding='max_length'` to pad to a max length. In this case, you can give a specific length with `max_length` (e.g. `max_length=45`) or leave max_length to None to pad to the maximal input size of the model (e.g. 512 for Bert).\n",
            "  FutureWarning,\n"
          ],
          "name": "stderr"
        },
        {
          "output_type": "stream",
          "text": [
            "Test Dataset Pearson Correlation:  0.44072035712549507\n",
            "Test Dataset R2 Score:  -5.8204879683380595\n",
            "BAD EXAMPLES\n",
            "actual  predicted     difference     SENTENCE\n",
            "1.00    3.10          2.10     nitroglycerin 0.4 mg tablet sublingual 1 tablet sublingual as directed by prescriber as needed. | ibuprofen [ advil ] 200 mg tablet 2 tablets by mouth every 4 hours as needed.\n",
            "1.00    3.02          2.02     ibuprofen [ motrin ] 400 mg tablet 1 tablet by mouth every 4 hours as needed. | gabapentin [ neurontin ] 300 mg capsule 1 capsule by mouth every bedtime.\n",
            "1.00    3.24          2.24     oxycodone [ roxicodone ] 5 mg tablet 1 - 2 tablets by mouth every 6 hours as needed. | maxalt 10 mg tablet 1 tablet by mouth as directed by prescriber as needed.\n"
          ],
          "name": "stdout"
        },
        {
          "output_type": "stream",
          "text": [
            "/usr/local/lib/python3.6/dist-packages/transformers/tokenization_utils_base.py:1944: FutureWarning: The `pad_to_max_length` argument is deprecated and will be removed in a future version, use `padding=True` or `padding='longest'` to pad to the longest sequence in the batch, or use `padding='max_length'` to pad to a max length. In this case, you can give a specific length with `max_length` (e.g. `max_length=45`) or leave max_length to None to pad to the maximal input size of the model (e.g. 512 for Bert).\n",
            "  FutureWarning,\n"
          ],
          "name": "stderr"
        },
        {
          "output_type": "display_data",
          "data": {
            "image/png": "[encoded data removed]",
            "text/plain": [
              "<Figure size 432x288 with 1 Axes>"
            ]
          },
          "metadata": {
            "tags": [],
            "needs_background": "light"
          }
        }
      ]
    },
    {
      "cell_type": "code",
      "metadata": {
        "id": "kcB5C0RXibkE",
        "outputId": "88960eb1-5930-49be-e44c-39b40c174c3e",
        "colab": {
          "base_uri": "https://localhost:8080/",
          "height": 435
        }
      },
      "source": [
        "predictions = np.array(predictions)\n",
        "differences = np.absolute(predictions-actual_scores)\n",
        "\n",
        "print(\"MEDICAL TEST SAMPLES: \", np.size(actual_scores))\n",
        "\n",
        "print(\"\\nAVERAGE DIFFERENCE: \", np.mean(differences))\n",
        "print(\"MAX DIFFERENCE: \",np.max(differences))\n",
        "print(\"MIN DIFFERENCE: \", np.min(differences))\n",
        "\n",
        "print(\"\\nWithin 0.0 - 0.25 of actual score: \", np.size(np.where(differences < 0.25)))\n",
        "print(\"Within 0.0 - 0.50 of actual score: \", np.size(np.where(differences < 0.5)))\n",
        "print(\"Within 0.5 - 0.75 of actual score: \", np.size(np.where(differences < 0.75))-np.size(np.where(differences < 0.5)))\n",
        "print(\"Greater than 1.00 of actual score: \", np.size(np.where(differences >= 1)))\n",
        "\n",
        "\n",
        "\n",
        "# d = {\"gold_scores\": actual_scores, \"predicted_scores\": predictions}\n",
        "dx = pd.DataFrame(differences)\n",
        "dx.plot.hist(bins=20, alpha=0.25)\n",
        "bad_differences = differences"
      ],
      "execution_count": null,
      "outputs": [
        {
          "output_type": "stream",
          "text": [
            "MEDICAL TEST SAMPLES:  140\n",
            "\n",
            "AVERAGE DIFFERENCE:  0.9831670914377485\n",
            "MAX DIFFERENCE:  2.2386419773101807\n",
            "MIN DIFFERENCE:  0.015130996704101562\n",
            "\n",
            "Within 0.0 - 0.25 of actual score:  9\n",
            "Within 0.0 - 0.50 of actual score:  30\n",
            "Within 0.5 - 0.75 of actual score:  17\n",
            "Greater than 1.00 of actual score:  68\n"
          ],
          "name": "stdout"
        },
        {
          "output_type": "display_data",
          "data": {
            "image/png": "[encoded data removed]",
            "text/plain": [
              "<Figure size 432x288 with 1 Axes>"
            ]
          },
          "metadata": {
            "tags": [],
            "needs_background": "light"
          }
        }
      ]
    },
    {
      "cell_type": "markdown",
      "metadata": {
        "id": "LFpF-3R61Jmb"
      },
      "source": [
        "## BIO-BERT TRAINED ON **CLINICAL** DATA\n",
        "And tested on CLINICAL DATA\n",
        "\n"
      ]
    },
    {
      "cell_type": "code",
      "metadata": {
        "id": "3iDfY0XqxS3v",
        "outputId": "e2cb8195-6b58-4f1b-c184-a16a6ea0a8c2",
        "colab": {
          "base_uri": "https://localhost:8080/",
          "height": 710
        }
      },
      "source": [
        "SENT_TYPE = \"CLINICAL\"\n",
        "tokenizer = BertTokenizer.from_pretrained(\"/content/drive/My Drive/clinical-sts/bio-bert/\", output_hidden_states=True)\n",
        "test_dataloader = load_test_data(tokenizer=tokenizer, batch_size=1, sent_type=SENT_TYPE)\n",
        "\n",
        "my_bert = torch.load(\"/content/drive/My Drive/clinical-sts/models/CLINICAL-bert-bio-bert-0.83.pth\")\n",
        "my_bert.cuda()\n",
        "regression = torch.load(\"/content/drive/My Drive/clinical-sts/models/CLINICAL-regression-bio-bert-0.83.pth\")\n",
        "regression.cuda()\n",
        "\n",
        "predictions = get_predictions(my_bert, regression, test_dataloader)\n",
        "test_data = \"/content/drive/My Drive/clinical-sts/augmented_test.tsv\"\n",
        "new_df = pd.read_csv(test_data, sep=\"\\t\", names=[\"sentence_1\", \"sentence_2\", \"score\", \"label\"], encoding=\"utf-8\")\n",
        "new_df = new_df[new_df[\"label\"]==SENT_TYPE]\n",
        "actual_scores = new_df[\"score\"].to_numpy()\n",
        "\n",
        "evaluate_predictions(predictions, actual_scores, test_dataloader, show_bad_predictions=True, prediction_difference=2.0)\n"
      ],
      "execution_count": null,
      "outputs": [
        {
          "output_type": "stream",
          "text": [
            "/usr/local/lib/python3.6/dist-packages/transformers/tokenization_utils_base.py:1944: FutureWarning: The `pad_to_max_length` argument is deprecated and will be removed in a future version, use `padding=True` or `padding='longest'` to pad to the longest sequence in the batch, or use `padding='max_length'` to pad to a max length. In this case, you can give a specific length with `max_length` (e.g. `max_length=45`) or leave max_length to None to pad to the maximal input size of the model (e.g. 512 for Bert).\n",
            "  FutureWarning,\n"
          ],
          "name": "stderr"
        },
        {
          "output_type": "stream",
          "text": [
            "Test Dataset Pearson Correlation:  0.8454660678179229\n",
            "Test Dataset R2 Score:  0.6917057465697507\n",
            "BAD EXAMPLES\n",
            "actual  predicted     difference     SENTENCE\n",
            "3.50    1.48          2.02     memory and concentration : able to recall recent and past events. | average intellectual functioning and good recall of events.\n",
            "2.50    0.14          2.36     patient seen and discussed with supervising consultant, dr. hand, who evaluated the patient and concurs with the assessment and plan. | the consent form was reviewed with the patient and her partner.\n",
            "1.00    3.66          2.66     she has no formal services at this time. | the patient has no further questions or concerns at this time.\n",
            "5.00    2.90          2.10     the patient is in agreement with this plan. | she understands and is in agreement with this plan.\n",
            "0.00    3.04          3.04     others you do with the help of your health care team. | thank you for choosing the name, aprn, c.n.p., d.n.p.. care team for your health care needs!\n",
            "0.00    2.07          2.07     the patient is due for a provider visit at this time. | there are no other complaints at this time.\n",
            "3.00    5.20          2.20     he verbalized understanding and agrees to the plan. | mom verbalized understanding and agreement with the plan.\n",
            "0.50    3.34          2.84     gastrointestinal : negative for abdominal pain, diarrhea, nausea and vomiting. | negative for chest pain, palpitations and leg swelling.\n",
            "4.00    1.95          2.05     the patient was provided with the number at which they can reach me or their primary care provider. | the patient was instructed to contact their primary care provider for any further questions or concerns.\n",
            "5.00    2.99          2.01     neurological : negative for numbness or shooting pain in hands, arms, legs, or feet. | negative for numbness or shooting pain in hands, arms, legs, or feet.\n",
            "4.00    1.34          2.66     there were no complications and the patient tolerated the procedure well. | the patient tolerated the procedure well and was awakened from iv sedation without any difficulties.\n",
            "4.00    1.15          2.85     this patient benefits from skilled occupational and / or physical therapy to improve participation in daily occupations. | medical necessity : the patient would benefit from skilled physical therapy interventions to be able to return the patient to work, self - care activities.\n",
            "3.00    0.62          2.38     he was prepped and draped in the standard fashion. | the affected shoulder was prepared and draped with the usual sterile technique.\n",
            "4.50    1.98          2.52     it is a pleasure caring for this patient. | it was a pleasure to meet with her today.\n",
            "3.00    0.85          2.15     risk, benefits and alternatives were discussed with the patient. | these were reviewed and reconciled with the patient and patient's significant other.\n",
            "0.00    2.13          2.13     development : appropriate for age and growth are appropriate for age. | age - appropriate anticipatory guidance and injury prevention information was discussed.\n",
            "2.50    0.05          2.45     the above has been discussed and reviewed in detail with the patient. | the family was advised that the content of this interview will be shared with the health care team.\n"
          ],
          "name": "stdout"
        },
        {
          "output_type": "stream",
          "text": [
            "/usr/local/lib/python3.6/dist-packages/transformers/tokenization_utils_base.py:1944: FutureWarning: The `pad_to_max_length` argument is deprecated and will be removed in a future version, use `padding=True` or `padding='longest'` to pad to the longest sequence in the batch, or use `padding='max_length'` to pad to a max length. In this case, you can give a specific length with `max_length` (e.g. `max_length=45`) or leave max_length to None to pad to the maximal input size of the model (e.g. 512 for Bert).\n",
            "  FutureWarning,\n"
          ],
          "name": "stderr"
        },
        {
          "output_type": "display_data",
          "data": {
            "image/png": "[encoded data removed]",
            "text/plain": [
              "<Figure size 432x288 with 1 Axes>"
            ]
          },
          "metadata": {
            "tags": [],
            "needs_background": "light"
          }
        }
      ]
    },
    {
      "cell_type": "markdown",
      "metadata": {
        "id": "1f_994Dk0UVt"
      },
      "source": [
        "## BIO-BERT TRAINED ON **MEDICAL** DATA\n",
        "And tested on MEDICAL DATA\n",
        "\n"
      ]
    },
    {
      "cell_type": "code",
      "metadata": {
        "id": "s6rQVtu20TkU",
        "outputId": "6438eda1-c0fc-4233-c0bd-2f6005bbc924",
        "colab": {
          "base_uri": "https://localhost:8080/",
          "height": 421
        }
      },
      "source": [
        "SENT_TYPE = \"MEDICAL\"\n",
        "tokenizer = BertTokenizer.from_pretrained(\"/content/drive/My Drive/clinical-sts/bio-bert/\", output_hidden_states=True)\n",
        "test_dataloader = load_test_data(tokenizer=tokenizer, batch_size=1, sent_type=SENT_TYPE)\n",
        "\n",
        "my_bert = torch.load(\"/content/drive/My Drive/clinical-sts/models/MEDICAL-bert-bio-bert-0.65.pth\")\n",
        "my_bert.cuda()\n",
        "regression = torch.load(\"/content/drive/My Drive/clinical-sts/models/MEDICAL-regression-bio-bert-0.65.pth\")\n",
        "regression.cuda()\n",
        "\n",
        "predictions = get_predictions(my_bert, regression, test_dataloader)\n",
        "test_data = \"/content/drive/My Drive/clinical-sts/augmented_test.tsv\"\n",
        "new_df = pd.read_csv(test_data, sep=\"\\t\", names=[\"sentence_1\", \"sentence_2\", \"score\", \"label\"], encoding=\"utf-8\")\n",
        "new_df = new_df[new_df[\"label\"]==SENT_TYPE]\n",
        "actual_scores = new_df[\"score\"].to_numpy()\n",
        "\n",
        "evaluate_predictions(predictions, actual_scores, test_dataloader, show_bad_predictions=True, prediction_difference=2.0)\n"
      ],
      "execution_count": 21,
      "outputs": [
        {
          "output_type": "stream",
          "text": [
            "/usr/local/lib/python3.6/dist-packages/transformers/tokenization_utils_base.py:1944: FutureWarning: The `pad_to_max_length` argument is deprecated and will be removed in a future version, use `padding=True` or `padding='longest'` to pad to the longest sequence in the batch, or use `padding='max_length'` to pad to a max length. In this case, you can give a specific length with `max_length` (e.g. `max_length=45`) or leave max_length to None to pad to the maximal input size of the model (e.g. 512 for Bert).\n",
            "  FutureWarning,\n"
          ],
          "name": "stderr"
        },
        {
          "output_type": "stream",
          "text": [
            "Test Dataset Pearson Correlation:  0.6379893770536674\n",
            "Test Dataset R2 Score:  -1.258245063562386\n",
            "BAD EXAMPLES\n",
            "actual  predicted     difference     SENTENCE\n"
          ],
          "name": "stdout"
        },
        {
          "output_type": "stream",
          "text": [
            "/usr/local/lib/python3.6/dist-packages/transformers/tokenization_utils_base.py:1944: FutureWarning: The `pad_to_max_length` argument is deprecated and will be removed in a future version, use `padding=True` or `padding='longest'` to pad to the longest sequence in the batch, or use `padding='max_length'` to pad to a max length. In this case, you can give a specific length with `max_length` (e.g. `max_length=45`) or leave max_length to None to pad to the maximal input size of the model (e.g. 512 for Bert).\n",
            "  FutureWarning,\n"
          ],
          "name": "stderr"
        },
        {
          "output_type": "display_data",
          "data": {
            "image/png": "[encoded data removed]",
            "text/plain": [
              "<Figure size 432x288 with 1 Axes>"
            ]
          },
          "metadata": {
            "tags": [],
            "needs_background": "light"
          }
        }
      ]
    },
    {
      "cell_type": "code",
      "metadata": {
        "id": "p4JMPXY0h-QQ",
        "outputId": "bd377d0e-5468-4832-e046-9fd2d5f61cab",
        "colab": {
          "base_uri": "https://localhost:8080/",
          "height": 483
        }
      },
      "source": [
        "predictions = np.array(predictions)\n",
        "differences = np.absolute(predictions-actual_scores)\n",
        "\n",
        "print(\"MEDICAL TEST SAMPLES: \", np.size(actual_scores))\n",
        "\n",
        "print(\"\\nAVERAGE DIFFERENCE: \", np.mean(differences))\n",
        "print(\"MAX DIFFERENCE: \",np.max(differences))\n",
        "print(\"MIN DIFFERENCE: \", np.min(differences))\n",
        "\n",
        "print(\"\\nWithin 0.0 - 0.25 of actual score: \", np.size(np.where(differences < 0.25)))\n",
        "print(\"Within 0.0 - 0.50 of actual score: \", np.size(np.where(differences < 0.5)))\n",
        "print(\"Within 0.5 - 0.75 of actual score: \", np.size(np.where(differences < 0.75))-np.size(np.where(differences < 0.5)))\n",
        "print(\"Greater than 1.00 of actual score: \", np.size(np.where(differences >= 1)))\n",
        "print()\n",
        "\n",
        "\n",
        "d = {\"all-bert-base\": bad_differences, \"medical-bert-base\": differences}\n",
        "dx = pd.DataFrame(d)\n",
        "ax = dx.plot.hist(bins=20, alpha=0.25)\n",
        "ax.set_xlabel(\"Score Difference\")"
      ],
      "execution_count": null,
      "outputs": [
        {
          "output_type": "stream",
          "text": [
            "MEDICAL TEST SAMPLES:  140\n",
            "\n",
            "AVERAGE DIFFERENCE:  0.586781046645982\n",
            "MAX DIFFERENCE:  1.5805741548538208\n",
            "MIN DIFFERENCE:  0.0390167236328125\n",
            "\n",
            "Within 0.0 - 0.25 of actual score:  13\n",
            "Within 0.0 - 0.50 of actual score:  54\n",
            "Within 0.5 - 0.75 of actual score:  52\n",
            "Greater than 1.00 of actual score:  6\n",
            "\n"
          ],
          "name": "stdout"
        },
        {
          "output_type": "execute_result",
          "data": {
            "text/plain": [
              "Text(0.5, 0, 'Score Difference')"
            ]
          },
          "metadata": {
            "tags": []
          },
          "execution_count": 23
        },
        {
          "output_type": "display_data",
          "data": {
            "image/png": "[encoded data removed]",
            "text/plain": [
              "<Figure size 432x288 with 1 Axes>"
            ]
          },
          "metadata": {
            "tags": [],
            "needs_background": "light"
          }
        }
      ]
    }
  ]
}