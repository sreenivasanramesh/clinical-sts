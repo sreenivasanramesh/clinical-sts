{
  "nbformat": 4,
  "nbformat_minor": 0,
  "metadata": {
    "colab": {
      "name": "clinical_sts_train.ipynb",
      "provenance": [],
      "collapsed_sections": [],
      "toc_visible": true
    },
    "kernelspec": {
      "name": "python3",
      "display_name": "Python 3"
    },
    "accelerator": "GPU"
  },
  "cells": [
    {
      "cell_type": "code",
      "metadata": {
        "id": "duHGGbwVAhhL"
      },
      "source": [
        "!pip install nlp transformers texttable &> /dev/null"
      ],
      "execution_count": 1,
      "outputs": []
    },
    {
      "cell_type": "code",
      "metadata": {
        "id": "AArjDixQAvZo",
        "outputId": "8b20636f-f6f9-4099-aa18-655314a4a7f9",
        "colab": {
          "base_uri": "https://localhost:8080/"
        }
      },
      "source": [
        "from dataclasses import dataclass, field\n",
        "from typing import Dict, Optional\n",
        "from typing import List\n",
        "import re\n",
        "import random\n",
        "import numpy as np\n",
        "import pandas as pd\n",
        "pd.set_option('display.max_colwidth', None)  \n",
        "from texttable import Texttable\n",
        "\n",
        "from scipy.stats import pearsonr\n",
        "from sklearn.model_selection import train_test_split\n",
        "\n",
        "import torch\n",
        "from torch import nn\n",
        "from torch.utils.data import DataLoader\n",
        "from torch.utils.data.dataset import Dataset, IterableDataset\n",
        "from transformers import BertModel, BertTokenizer, AutoTokenizer, AutoModel, BertConfig, \\\n",
        "     AdamW, set_seed, AutoConfig, PreTrainedTokenizer, DataCollator, PreTrainedModel, PreTrainedTokenizer, DataCollator, PreTrainedModel\n",
        "\n",
        "set_seed(23)\n",
        "device = torch.device(\"cuda\" if torch.cuda.is_available() else \"cpu\")\n",
        "print(device)"
      ],
      "execution_count": 2,
      "outputs": [
        {
          "output_type": "stream",
          "text": [
            "cuda\n"
          ],
          "name": "stdout"
        }
      ]
    },
    {
      "cell_type": "code",
      "metadata": {
        "id": "L3IyQ_MtPKlP",
        "outputId": "18ce9f04-0c34-4c8e-e18e-0ca78f1e33ac",
        "colab": {
          "base_uri": "https://localhost:8080/"
        }
      },
      "source": [
        "from google.colab import drive\n",
        "drive.mount('/content/drive')"
      ],
      "execution_count": 3,
      "outputs": [
        {
          "output_type": "stream",
          "text": [
            "Mounted at /content/drive\n"
          ],
          "name": "stdout"
        }
      ]
    },
    {
      "cell_type": "markdown",
      "metadata": {
        "id": "dgQgo4I4wQZQ"
      },
      "source": [
        "\n",
        " \n",
        "## Processing Data, Defining Data Classes and Collator and other miscellaneous stuff\n",
        "\n"
      ]
    },
    {
      "cell_type": "code",
      "metadata": {
        "id": "L7qFiKkjBtZ3"
      },
      "source": [
        "# Class to store data samples, text_a, text_b, score\n",
        "@dataclass\n",
        "class Example:\n",
        "    text_a: str\n",
        "    text_b: str\n",
        "    score: float\n",
        "\n",
        "\n",
        "# lowercase and add space around words, remove unnecessary spaces\n",
        "def pre_process(sentence, cased=False):\n",
        "    sentence = sentence.replace(\":\", \" : \").replace(\"/\", \" / \").replace(\"[\", \" [ \").replace(\"]\", \" ] \").replace(\"(\", \" ( \").replace(\")\", \" ) \").replace(\"\\\"\", \" \\\" \").replace(\"-\", \" - \").replace(\"?\", \" \").lstrip().rstrip()\n",
        "    if cased:\n",
        "      return re.sub(' +',' ', sentence)\n",
        "    return re.sub(' +',' ', sentence).lower()\n",
        "\n",
        "\n",
        "# returns test and train arrays as Example Objects\n",
        "# test train split is stratified and 80-20 split\n",
        "def get_data(cased=False):\n",
        "    train_data = \"/content/drive/My Drive/clinical-sts/train.tsv\"\n",
        "    df = pd.read_csv(train_data, sep=\"\\t\", names=[\"sentence_1\", \"sentence_2\", \"similarity_score\"], encoding=\"utf-8\")\n",
        "    df[\"sentence_1\"] = df[\"sentence_1\"].apply(lambda sentence: pre_process(sentence, cased))\n",
        "    df[\"sentence_2\"] = df[\"sentence_2\"].apply(lambda sentence: pre_process(sentence, cased))\n",
        "    df[\"input_sample\"] = df[\"sentence_1\"] + \"<SEP>\" + df[\"sentence_2\"]\n",
        "\n",
        "    ## stratified binned sampling\n",
        "    min_val = np.amin(df[\"similarity_score\"])\n",
        "    max_val = np.amax(df[\"similarity_score\"])\n",
        "    bins     = np.linspace(start=min_val, stop=max_val, num=10)\n",
        "    y_binned = np.digitize(df[\"similarity_score\"], bins, right=True)\n",
        "\n",
        "    X_train, X_test, y_train, y_test = train_test_split(\n",
        "        df[\"input_sample\"], \n",
        "        df[\"similarity_score\"], \n",
        "        stratify=y_binned,\n",
        "        test_size=0.2,\n",
        "        random_state=23\n",
        "    )\n",
        "\n",
        "    train_a_b = [Example(text_a=sample.split(\"<SEP>\")[0], \n",
        "                    text_b=sample.split(\"<SEP>\")[1], \n",
        "                    score=similarity_score) for sample, similarity_score in zip(X_train, y_train)]\n",
        "    train_b_a = [Example(text_a=sample.split(\"<SEP>\")[1], \n",
        "                    text_b=sample.split(\"<SEP>\")[0], \n",
        "                    score=similarity_score) for sample, similarity_score in zip(X_train, y_train)]\n",
        "    train = train_a_b + train_b_a\n",
        "\n",
        "    test_a_b = [Example(text_a=sample.split(\"<SEP>\")[0], \n",
        "                    text_b=sample.split(\"<SEP>\")[1], \n",
        "                    score=similarity_score) for sample, similarity_score in zip(X_test, y_test)]\n",
        "    test_b_a = [Example(text_a=sample.split(\"<SEP>\")[1], \n",
        "                    text_b=sample.split(\"<SEP>\")[0], \n",
        "                    score=similarity_score) for sample, similarity_score in zip(X_test, y_test)]\n",
        "    test = test_a_b + test_b_a\n",
        "\n",
        "    return train, test\n",
        "\n",
        "\n",
        "\n",
        "\n",
        "# DYNAMIC PADDING AND UNIFORM LENGTH BATCHING - reduces wasted computation and makes it faster to run\n",
        "# CODE BORROWED FROM https://towardsdatascience.com/divide-hugging-face-transformers-training-time-by-2-or-more-21bf7129db9q-21bf7129db9e\n",
        "\n",
        "\n",
        "# We'll be creating a custome dataset using this first\n",
        "@dataclass\n",
        "class Features:\n",
        "    og_sample: Example\n",
        "    input_ids: List[int]\n",
        "    attention_mask: List[int]\n",
        "    score: float\n",
        "\n",
        "\n",
        "class TextDataset(Dataset):\n",
        "    def __init__(self, tokenizer, \n",
        "                 pad_to_max_length, \n",
        "                 max_len,\n",
        "                 examples: List[Example]):\n",
        "        self.tokenizer = tokenizer\n",
        "        self.max_len = max_len\n",
        "        self.examples: List[Example] = examples\n",
        "        self.current = 0\n",
        "        self.pad_to_max_length = pad_to_max_length\n",
        "\n",
        "    # tokenize the sentences and return a Features object for each sentence \n",
        "    def encode(self, ex: Example) -> Features:\n",
        "        encode_dict = self.tokenizer.encode_plus(text=ex.text_a,\n",
        "                                                 text_pair=ex.text_b,\n",
        "                                                 add_special_tokens=True,\n",
        "                                                 max_length=self.max_len,\n",
        "                                                 pad_to_max_length=self.pad_to_max_length,\n",
        "                                                 return_token_type_ids=False,\n",
        "                                                 return_attention_mask=True,\n",
        "                                                 return_overflowing_tokens=False,\n",
        "                                                 return_special_tokens_mask=False,\n",
        "                                                 truncation=True,\n",
        "                                                 )\n",
        "        return Features(og_sample=ex,\n",
        "                        input_ids=encode_dict[\"input_ids\"],\n",
        "                        attention_mask=encode_dict[\"attention_mask\"],\n",
        "                        score=ex.score)\n",
        "\n",
        "    def __getitem__(self, idx) -> Features:\n",
        "        return self.encode(ex=self.examples[idx])\n",
        "\n",
        "    def __len__(self):\n",
        "        return len(self.examples)\n",
        "\n",
        "\n",
        "def pad_seq(seq: List[int], max_batch_len: int, pad_value: int) -> List[int]:\n",
        "    return seq + (max_batch_len - len(seq)) * [pad_value]\n",
        "\n",
        "\n",
        "# Smart Collator is used to create batches which are dynamically padded with uniform length \n",
        "@dataclass\n",
        "class SmartCollator:  # (DataCollator):\n",
        "    pad_token_id: int\n",
        "\n",
        "    def collate_batch(self, batch: List[Features]) -> Dict[str, torch.Tensor]:\n",
        "        batch_og_sample = list()\n",
        "        batch_inputs = list()\n",
        "        batch_attention_masks = list()\n",
        "        labels = list()\n",
        "        max_size = max([len(ex.input_ids) for ex in batch])\n",
        "        for item in batch:\n",
        "            batch_inputs += [pad_seq(item.input_ids, max_size, self.pad_token_id)]\n",
        "            batch_attention_masks += [pad_seq(item.attention_mask, max_size, 0)]\n",
        "            labels.append(item.score)\n",
        "            batch_og_sample.append(item)\n",
        "\n",
        "        return {\"input_ids\": torch.tensor(batch_inputs, dtype=torch.long),\n",
        "                \"attention_mask\": torch.tensor(batch_attention_masks, dtype=torch.long),\n",
        "                \"score\": torch.tensor(labels, dtype=torch.float),\n",
        "                \"og_sample\": batch_og_sample\n",
        "                }\n",
        "                \n",
        "def collate_wrapper(data):\n",
        "    collator = SmartCollator(pad_token_id=tokenizer.pad_token_id)\n",
        "    return collator.collate_batch(data)\n",
        "\n",
        "\n",
        "# USE THIS FUNCTION TO LOAD TEST AND TRAIN DATA AND ITERATE THROUGH THEM\n",
        "def load_data(tokenizer, batch_size, cased=False):\n",
        "    # Get train and test Data Examples\n",
        "    train, test = get_data(cased)\n",
        "\n",
        "\n",
        "    # Now tokenize the words and convert them to token IDs\n",
        "    max_sequence_len = 128\n",
        "    train_set = TextDataset(tokenizer=tokenizer,\n",
        "                            max_len=max_sequence_len,\n",
        "                            examples=train,\n",
        "                            pad_to_max_length=False)\n",
        "\n",
        "    test_set = TextDataset(tokenizer=tokenizer,\n",
        "                            max_len=max_sequence_len,\n",
        "                            examples=test,\n",
        "                            pad_to_max_length=False)\n",
        "\n",
        "    train_dataloader = DataLoader(train_set, batch_size=batch_size, shuffle=False, num_workers=0, collate_fn=collate_wrapper,\n",
        "              pin_memory=False, drop_last=False, timeout=0,\n",
        "              worker_init_fn=None)\n",
        "\n",
        "    test_dataloader = DataLoader(test_set, batch_size=batch_size, shuffle=False, num_workers=0, collate_fn=collate_wrapper,\n",
        "              pin_memory=False, drop_last=False, timeout=0,\n",
        "              worker_init_fn=None)\n",
        "    \n",
        "    return train_dataloader, test_dataloader"
      ],
      "execution_count": 4,
      "outputs": []
    },
    {
      "cell_type": "markdown",
      "metadata": {
        "id": "iJMdJI0Ewkkc"
      },
      "source": [
        "##**Define the Training Loop for fine-tuning the Model.**  \n",
        "We also have some miscellaneous functions to evaluate our model on the dev-set.  \n",
        "\n",
        "  \n",
        "    \n",
        "The model is as shown below. We have different learning rates for the bert and LR layer. Note that we take the hidden layer output from BERT and not the CLS embedding. The CLS embedding does not generate any meaningful sentence embedding and BERT was specifically trained for the NSP task. As such, using the CLS embedding directly leads to worse results. We found that using the penultimate hidden layers gave us best results for this task."
      ]
    },
    {
      "cell_type": "code",
      "metadata": {
        "id": "4ALszvbWE5Zc"
      },
      "source": [
        "# Let's define the training loop and model\n",
        "\n",
        "def get_bert_output(my_bert, input_ids, attention_mask):    \n",
        "    outputs = my_bert(input_ids, attention_mask=attention_mask)\n",
        "    hidden_states = outputs[2]\n",
        "    sent_embedding = hidden_states[11][:, 0:1, :].squeeze(1).cuda()\n",
        "    return sent_embedding\n",
        "\n",
        "\n",
        "class linearRegression(nn.Module):\n",
        "    def __init__(self):\n",
        "        super(linearRegression, self).__init__()\n",
        "        self.linear = nn.Linear(768, 1)\n",
        "    def forward(self, x):\n",
        "        out = self.linear(x)\n",
        "        return out\n",
        "\n",
        "    \n",
        "def run_new_method(my_bert, optimizer, regression_head, regression_optimizer, train_dataloader, test_dataloader, epochs=10, freeze_layers=False):\n",
        "    old_test_loss = float('inf')\n",
        "\n",
        "    # freeze_layers = \"0,1,2,3,4\"\n",
        "    if freeze_layers:\n",
        "        freeze_layers = \"0,1,2,3,4,5\"\n",
        "        layer_indexes = [int(x) for x in freeze_layers.split(\",\")]\n",
        "        for layer_idx in layer_indexes:\n",
        "            for param in list(my_bert.encoder.layer[layer_idx].parameters()):\n",
        "                param.requires_grad = False\n",
        "            print (\"Froze Layer: \", layer_idx)\n",
        "\n",
        "\n",
        "    for epoch_num in range(epochs):\n",
        "        total_loss = 0\n",
        "        batch_count = 0\n",
        "        # put model in train mode\n",
        "        my_bert.train()\n",
        "        regression_head.train()\n",
        "        for step_num, batch_data in enumerate(train_dataloader):\n",
        "            input_ids = batch_data[\"input_ids\"].to(device)\n",
        "            attention_mask = batch_data[\"attention_mask\"].to(device)\n",
        "            score = batch_data[\"score\"].to(device)\n",
        "            score = score.unsqueeze(1)\n",
        "\n",
        "            my_bert_optimizer.zero_grad()\n",
        "            regression_optimizer.zero_grad()\n",
        "            bert_embedding = get_bert_output(my_bert, input_ids, attention_mask)\n",
        "            predicted_score = regression_head(bert_embedding)\n",
        "\n",
        "            loss_func = nn.MSELoss()\n",
        "            batch_loss = loss_func(predicted_score, score)\n",
        "\n",
        "            \n",
        "            batch_loss.backward()\n",
        "            my_bert_optimizer.step()\n",
        "            regression_optimizer.step()\n",
        "            total_loss += batch_loss.item()\n",
        "            batch_count += 1\n",
        "            train_loss = total_loss/batch_count\n",
        "        print(\"Epoch: {} Train Loss:{}\".format(epoch_num, train_loss))\n",
        "\n",
        "        # put model in test mode\n",
        "        my_bert.eval()\n",
        "        regression_head.eval()\n",
        "        test_loss = 0\n",
        "        test_batch_count = 0\n",
        "        with torch.no_grad():\n",
        "            for step_num, batch_data in enumerate(test_dataloader):\n",
        "                input_ids = batch_data[\"input_ids\"].to(device)\n",
        "                attention_mask = batch_data[\"attention_mask\"].to(device)\n",
        "                score = batch_data[\"score\"].to(device)\n",
        "                score = score.unsqueeze(1)\n",
        "\n",
        "                bert_embedding = get_bert_output(my_bert, input_ids, attention_mask)\n",
        "                predicted_score = regression_head(bert_embedding)\n",
        "\n",
        "                loss_func = nn.MSELoss()\n",
        "                batch_loss = loss_func(predicted_score, score)\n",
        "                test_loss += batch_loss.item()\n",
        "                test_batch_count += 1\n",
        "        curr_test_loss = test_loss/test_batch_count\n",
        "        print(\"Epoch: {} Test Loss:{}\\n\".format(epoch_num, curr_test_loss))\n",
        "        if curr_test_loss < 0.61 or train_loss < 0.25:\n",
        "            print(\"yay, exit\")\n",
        "            break\n",
        "        # curr_test_loss = test_loss/test_batch_count\n",
        "        # if curr_test_loss-old_test_loss >= 0.03 or curr_test_loss<0.61:\n",
        "        #     print(\"new test loss is greater; breaking\")\n",
        "        #     break\n",
        "        # old_test_loss = curr_test_loss\n",
        "    return my_bert, regression_head\n",
        "\n",
        "\n",
        "\n",
        "\n",
        "'''\n",
        "    Method to evaluate and calculate pcc on dev/test dataset, and show terrible predictions\n",
        "'''\n",
        "def evaluate_model(model, regression_head, test_dataloader, show_bad_predictions=True, prediction_difference=2.0):\n",
        "\n",
        "    actual = list()\n",
        "    predicted = list()\n",
        "    og_data = list()\n",
        "\n",
        "    model.eval()\n",
        "    with torch.no_grad():\n",
        "        test_batch_count = 0\n",
        "        test_loss =0\n",
        "        for step_num, batch_data in enumerate(test_dataloader):\n",
        "            input_ids = batch_data[\"input_ids\"].to(device)\n",
        "            attention_mask = batch_data[\"attention_mask\"].to(device)\n",
        "            score = batch_data[\"score\"].to(device)\n",
        "            score = score.unsqueeze(1)\n",
        "\n",
        "            bert_embedding = get_bert_output(model, input_ids, attention_mask)\n",
        "            predicted_score = regression_head(bert_embedding)\n",
        "\n",
        "            actual.extend(score.tolist())\n",
        "            predicted.extend(predicted_score.tolist())\n",
        "            original_samples = batch_data[\"og_sample\"]\n",
        "            og_data.extend(original_samples)\n",
        "\n",
        "    # show bad predictions in a table\n",
        "    table = Texttable()\n",
        "    table.add_row([\"Actual\", \"Predicted\", \"Difference\", \"Text Sample\"])\n",
        "\n",
        "    for act, pre, og_data in zip(actual, predicted, og_data):\n",
        "        if abs(pre[0]-act[0]) > prediction_difference:\n",
        "            og = og_data.og_sample.text_a + \"    |||    \" + og_data.og_sample.text_b\n",
        "            print(\"{:.2f}    {:.2f}          {:.2f}     {}\".format(act[0], pre[0], abs(pre[0]-act[0]), og))\n",
        "\n",
        "    print('\\n\\n\\n')\n",
        "    actual = [item[0] for item in actual]\n",
        "    predicted = [item[0] for item in predicted]\n",
        "\n",
        "    correlation, p_value = pearsonr(actual, predicted)\n",
        "    print(correlation)\n",
        "\n",
        "    d = {\"a\": actual, \"p\": predicted}\n",
        "    dx = pd.DataFrame(d)\n",
        "    dx.plot.hist(bins=20, alpha=0.25)\n",
        "    return correlation\n",
        "\n",
        "\n",
        "def get_optimizer_params(model):\n",
        "    param_optimizer = list(model.named_parameters())\n",
        "    no_decay = ['bias', 'gamma', 'beta']\n",
        "    opt_parameters = [\n",
        "        {'params': [p for n, p in param_optimizer if not any(nd in n for nd in no_decay)],\n",
        "        'weight_decay_rate': 0.01},\n",
        "        {'params': [p for n, p in param_optimizer if any(nd in n for nd in no_decay)],\n",
        "        'weight_decay_rate': 0.0}\n",
        "    ]\n",
        "    return opt_parameters\n"
      ],
      "execution_count": 5,
      "outputs": []
    },
    {
      "cell_type": "markdown",
      "metadata": {
        "id": "H9u2XL6HB6AZ"
      },
      "source": [
        "## **Select the base model to fine tune, and pass it to the train loop**\n",
        "We then evaluate the PCC on the dev set.  \n",
        "Note: Only bad examples and scores are printed."
      ]
    },
    {
      "cell_type": "code",
      "metadata": {
        "id": "dxLPnCm1CCBK",
        "outputId": "d03a5df7-c91b-4e02-b751-146455b074ae",
        "colab": {
          "base_uri": "https://localhost:8080/",
          "height": 914
        }
      },
      "source": [
        "MODEL = \"bert-base-uncased\"\n",
        "my_bert = BertModel.from_pretrained(MODEL, output_hidden_states=True)\n",
        "my_bert.cuda()\n",
        "\n",
        "regression_head = linearRegression().cuda()\n",
        "linear_regression_optimizer = torch.optim.Adam(regression_head.parameters(), lr=1e-4)\n",
        "\n",
        "\n",
        "tokenizer = BertTokenizer.from_pretrained(MODEL, output_hidden_states=True)\n",
        "train_dataloader, test_dataloader = load_data(tokenizer=tokenizer, batch_size=8)\n",
        "bert_config = BertConfig.from_pretrained(MODEL, output_hidden_states=True)\n",
        "my_bert_optimizer = AdamW(get_optimizer_params(my_bert), lr=1e-5)\n",
        "updated_model, regression_head = run_new_method(my_bert=my_bert, optimizer=my_bert_optimizer, # optimizer\n",
        "                                                regression_head=regression_head, \n",
        "                                                regression_optimizer=linear_regression_optimizer,\n",
        "                                                train_dataloader=train_dataloader,\n",
        "                                                test_dataloader=test_dataloader,\n",
        "                                                epochs=3)\n",
        "\n",
        "pcc = evaluate_model(updated_model, regression_head, test_dataloader)\n",
        "model_loc = \"/content/drive/My Drive/clinical-sts/models/bert-{}-{:.2f}.pth\".format(MODEL, pcc)\n",
        "regression_loc = \"/content/drive/My Drive/clinical-sts/models/regression-{}-{:.2f}.pth\".format(MODEL, pcc)\n",
        "torch.save(updated_model, model_loc)\n",
        "torch.save(regression_head, regression_loc)\n",
        "print(\"Saved at:\\n'{}'\\n'{}'\".format(model_loc, regression_loc))\n",
        "\n"
      ],
      "execution_count": null,
      "outputs": [
        {
          "output_type": "stream",
          "text": [
            "Epoch: 0 Train Loss:1.018459163110962\n",
            "Epoch: 0 Test Loss:0.6522632597620228\n",
            "\n",
            "Epoch: 1 Train Loss:0.38282587375840754\n",
            "Epoch: 1 Test Loss:0.6592093776148485\n",
            "\n",
            "Epoch: 2 Train Loss:0.26534580035287086\n",
            "Epoch: 2 Test Loss:0.6683502429759646\n",
            "\n",
            "2.00    4.20          2.20     discussed diagnosis and treatment plan; patient expressed understanding of the content.    |||    they verbalized agreement and understanding of the plan and contact information.\n",
            "1.00    4.27          3.27     the patient is awake, alert, and oriented times three.    |||    patient is appreciative, understands and is in agreement with plan of care.\n",
            "1.50    3.85          2.35     upon arrival to the floor, patient was hemodynamically stable.    |||    the patient was felt to be stable for dismissal.\n",
            "3.25    1.23          2.02     discussed the risks, the goals, the alternatives, advance directives, and the necessity of other members of the health care team who would be participating in the procedures with the patient.    |||    i reviewed pertinent records, examined the patient and discussed the plan of care with rcu team at the bedside.\n",
            "0.50    2.83          2.33     celexa 40 mg tablet 1 tablet by mouth one time daily.    |||    miralax 17 gram / dose powder 1 packet by mouth one time daily as needed.\n",
            "1.50    3.80          2.30     , family educational needs - family assessed : ready to learn, no apparent learning barriers.    |||    patient education : ready to learn, no apparent learning barriers were identified; learning preferences include listening.\n",
            "4.50    2.45          2.05     demonstrated and instructed patient in donning and doffing of orthosis.    |||    patient instructed in care and wearing schedule of the orthosis.\n",
            "1.50    3.70          2.20     i have reviewed the physician assistant and nursing documentation, studies, and consultations and agree with the findings documented on the written ed record.    |||    i discussed the rehabilitation plans with the patient and they voiced understanding and agreement with the plans.\n",
            "1.50    4.44          2.94     contact your health care provider if you have any further questions or concerns.    |||    contact your health care provider right away if you are having lasting feelings of depression or anxiety.\n",
            "2.00    4.38          2.38     explained diagnosis and treatment plan; patient expressed understanding of the content, patient was given a copy of this note    |||    explained diagnosis and treatment plan; patient / child / caretaker expressed understanding of the content.`e`\n",
            "3.25    1.14          2.11     patient has no smoking history, patient denies alcohol use, drug use, lives in long term care facility.    |||    patient currently uses tobacco, smokes cigarettes, daily, with number per day : 10, patient denies alcohol use, drug use.\n",
            "0.50    2.61          2.11     negative gastrointestinal review of systems, historian denies abdominal pain, diarrhea, nausea, vomiting.    |||    negative neurologic review of systems, historian denies confusion, dizziness, headache, mental status changes.\n",
            "2.00    4.17          2.17     they verbalized agreement and understanding of the plan and contact information.    |||    discussed diagnosis and treatment plan; patient expressed understanding of the content.\n",
            "1.00    3.95          2.95     patient is appreciative, understands and is in agreement with plan of care.    |||    the patient is awake, alert, and oriented times three.\n",
            "0.50    2.96          2.46     miralax 17 gram / dose powder 1 packet by mouth one time daily as needed.    |||    celexa 40 mg tablet 1 tablet by mouth one time daily.\n",
            "1.50    4.08          2.58     patient education : ready to learn, no apparent learning barriers were identified; learning preferences include listening.    |||    , family educational needs - family assessed : ready to learn, no apparent learning barriers.\n",
            "4.50    2.44          2.06     patient instructed in care and wearing schedule of the orthosis.    |||    demonstrated and instructed patient in donning and doffing of orthosis.\n",
            "1.50    3.75          2.25     i discussed the rehabilitation plans with the patient and they voiced understanding and agreement with the plans.    |||    i have reviewed the physician assistant and nursing documentation, studies, and consultations and agree with the findings documented on the written ed record.\n",
            "1.50    4.31          2.81     contact your health care provider right away if you are having lasting feelings of depression or anxiety.    |||    contact your health care provider if you have any further questions or concerns.\n",
            "2.00    4.38          2.38     explained diagnosis and treatment plan; patient / child / caretaker expressed understanding of the content.`e`    |||    explained diagnosis and treatment plan; patient expressed understanding of the content, patient was given a copy of this note\n",
            "\n",
            "\n",
            "\n",
            "\n",
            "0.8251823376348345\n",
            "Saved at:\n",
            "'/content/drive/My Drive/clinical-sts/models/bert-bert-base-uncased-0.83.pth'\n",
            "'/content/drive/My Drive/clinical-sts/models/regression-bert-base-uncased-0.83.pth'\n"
          ],
          "name": "stdout"
        },
        {
          "output_type": "display_data",
          "data": {
            "image/png": "[encoded data removed]",
            "text/plain": [
              "<Figure size 432x288 with 1 Axes>"
            ]
          },
          "metadata": {
            "tags": [],
            "needs_background": "light"
          }
        }
      ]
    },
    {
      "cell_type": "code",
      "metadata": {
        "id": "EFhIRadUrHHX",
        "outputId": "bd4c31fb-32d8-431a-e068-8121c7ddb40c",
        "colab": {
          "base_uri": "https://localhost:8080/",
          "height": 965
        }
      },
      "source": [
        "MODEL = \"/content/drive/My Drive/clinical-sts/bio-bert/\"\n",
        "my_bert = BertModel.from_pretrained(MODEL, output_hidden_states=True)\n",
        "my_bert.cuda()\n",
        "\n",
        "regression_head = linearRegression().cuda()\n",
        "linear_regression_optimizer = torch.optim.Adam(regression_head.parameters(), lr=1e-4)\n",
        "\n",
        "\n",
        "tokenizer = AutoTokenizer.from_pretrained(MODEL, output_hidden_states=True)\n",
        "train_dataloader, test_dataloader = load_data(tokenizer=tokenizer, batch_size=8)\n",
        "bert_config = BertConfig.from_pretrained(MODEL, output_hidden_states=True)\n",
        "my_bert_optimizer = AdamW(get_optimizer_params(my_bert), lr=1e-5)\n",
        "updated_model, regression_head = run_new_method(my_bert=my_bert, optimizer=my_bert_optimizer, # optimizer\n",
        "                                                regression_head=regression_head, \n",
        "                                                regression_optimizer=linear_regression_optimizer,\n",
        "                                                train_dataloader=train_dataloader,\n",
        "                                                test_dataloader=test_dataloader,\n",
        "                                                epochs=3)\n",
        "\n",
        "pcc = evaluate_model(updated_model, regression_head, test_dataloader)\n",
        "model_name = \"bio-bert\"\n",
        "model_loc = \"/content/drive/My Drive/clinical-sts/models/bert-{}-{:.2f}.pth\".format(model_name, pcc)\n",
        "regression_loc = \"/content/drive/My Drive/clinical-sts/models/regression-{}-{:.2f}.pth\".format(model_name, pcc)\n",
        "torch.save(updated_model, model_loc)\n",
        "torch.save(regression_head, regression_loc)\n",
        "print(\"Saved at:\\n'{}'\\n'{}'\".format(model_loc, regression_loc))"
      ],
      "execution_count": null,
      "outputs": [
        {
          "output_type": "stream",
          "text": [
            "Epoch: 0 Train Loss:0.9936072762008881\n",
            "Epoch: 0 Test Loss:0.6197441642183855\n",
            "\n",
            "Epoch: 1 Train Loss:0.3640030252429294\n",
            "Epoch: 1 Test Loss:0.6815777195684881\n",
            "\n",
            "Epoch: 2 Train Loss:0.23995917270190767\n",
            "Epoch: 2 Test Loss:0.7201499157102711\n",
            "\n",
            "yay, exit\n",
            "2.00    4.35          2.35     discussed diagnosis and treatment plan; patient expressed understanding of the content.    |||    they verbalized agreement and understanding of the plan and contact information.\n",
            "0.00    3.30          3.30     i discussed with the patient the findings of the physical exam.    |||    i have confirmed with the organization system that i have counseled the patient.\n",
            "1.50    3.55          2.05     the patient indicated they are not missing work, are not experiencing reduced productivity at work, are having no decline in their ability to complete daily activities.    |||    the patient indicated they are having decline in their ability to complete daily activities ( score of 5 / 10, where 0=no effect ) .\n",
            "1.00    4.50          3.50     the patient is awake, alert, and oriented times three.    |||    patient is appreciative, understands and is in agreement with plan of care.\n",
            "2.75    0.66          2.09     the patient has had a chance to have their questions about this procedure answered and wishes to proceed.    |||    the patient was instructed to contact me with regard to any questions pertaining to the injection and to inform me of the results in a period of approximately two weeks.\n",
            "1.50    3.65          2.15     , family educational needs - family assessed : ready to learn, no apparent learning barriers.    |||    patient education : ready to learn, no apparent learning barriers were identified; learning preferences include listening.\n",
            "1.50    4.07          2.57     advised to call radiation oncology with questions and / or concerns.    |||    please page phone number with any questions or concerns.\n",
            "1.50    3.54          2.04     i have reviewed the physician assistant and nursing documentation, studies, and consultations and agree with the findings documented on the written ed record.    |||    i discussed the rehabilitation plans with the patient and they voiced understanding and agreement with the plans.\n",
            "1.50    4.24          2.74     contact your health care provider if you have any further questions or concerns.    |||    contact your health care provider right away if you are having lasting feelings of depression or anxiety.\n",
            "2.00    4.45          2.45     explained diagnosis and treatment plan; patient expressed understanding of the content, patient was given a copy of this note    |||    explained diagnosis and treatment plan; patient / child / caretaker expressed understanding of the content.`e`\n",
            "1.50    3.59          2.09     spent 10 minutes with the patient and greater than 50% of this time was spent counseling the patient regarding diagnosis and available treatment options.    |||    risks and benefits were discussed with the patient regarding nonoperative versus operative treatment.\n",
            "0.50    2.56          2.06     negative gastrointestinal review of systems, historian denies abdominal pain, diarrhea, nausea, vomiting.    |||    negative neurologic review of systems, historian denies confusion, dizziness, headache, mental status changes.\n",
            "2.00    4.60          2.60     they verbalized agreement and understanding of the plan and contact information.    |||    discussed diagnosis and treatment plan; patient expressed understanding of the content.\n",
            "0.00    3.01          3.01     i have confirmed with the organization system that i have counseled the patient.    |||    i discussed with the patient the findings of the physical exam.\n",
            "1.50    3.55          2.05     the patient indicated they are having decline in their ability to complete daily activities ( score of 5 / 10, where 0=no effect ) .    |||    the patient indicated they are not missing work, are not experiencing reduced productivity at work, are having no decline in their ability to complete daily activities.\n",
            "1.00    4.69          3.69     patient is appreciative, understands and is in agreement with plan of care.    |||    the patient is awake, alert, and oriented times three.\n",
            "1.50    3.80          2.30     patient education : ready to learn, no apparent learning barriers were identified; learning preferences include listening.    |||    , family educational needs - family assessed : ready to learn, no apparent learning barriers.\n",
            "1.50    4.08          2.58     please page phone number with any questions or concerns.    |||    advised to call radiation oncology with questions and / or concerns.\n",
            "1.50    4.43          2.93     contact your health care provider right away if you are having lasting feelings of depression or anxiety.    |||    contact your health care provider if you have any further questions or concerns.\n",
            "2.00    4.30          2.30     explained diagnosis and treatment plan; patient / child / caretaker expressed understanding of the content.`e`    |||    explained diagnosis and treatment plan; patient expressed understanding of the content, patient was given a copy of this note\n",
            "1.50    3.63          2.13     risks and benefits were discussed with the patient regarding nonoperative versus operative treatment.    |||    spent 10 minutes with the patient and greater than 50% of this time was spent counseling the patient regarding diagnosis and available treatment options.\n",
            "0.50    2.54          2.04     negative neurologic review of systems, historian denies confusion, dizziness, headache, mental status changes.    |||    negative gastrointestinal review of systems, historian denies abdominal pain, diarrhea, nausea, vomiting.\n",
            "\n",
            "\n",
            "\n",
            "\n",
            "0.8257714269054904\n",
            "Saved at:\n",
            "'/content/drive/My Drive/clinical-sts/models/bert-bio-bert-0.83.pth'\n",
            "'/content/drive/My Drive/clinical-sts/models/regression-bio-bert-0.83.pth'\n"
          ],
          "name": "stdout"
        },
        {
          "output_type": "display_data",
          "data": {
            "image/png": "[encoded data removed]",
            "text/plain": [
              "<Figure size 432x288 with 1 Axes>"
            ]
          },
          "metadata": {
            "tags": [],
            "needs_background": "light"
          }
        }
      ]
    },
    {
      "cell_type": "code",
      "metadata": {
        "id": "EHaJQUzhTEhP",
        "outputId": "2889e647-85d3-4828-d139-0125a4fb242d",
        "colab": {
          "base_uri": "https://localhost:8080/",
          "height": 999
        }
      },
      "source": [
        "MODEL = \"//content/drive/My Drive/clinical-sts/NCBI-BERT/\"\n",
        "my_bert = BertModel.from_pretrained(MODEL, output_hidden_states=True)\n",
        "my_bert.cuda()\n",
        "\n",
        "regression_head = linearRegression().cuda()\n",
        "linear_regression_optimizer = torch.optim.Adam(regression_head.parameters(), lr=1e-4)\n",
        "\n",
        "\n",
        "tokenizer = BertTokenizer.from_pretrained(MODEL, output_hidden_states=True)\n",
        "train_dataloader, test_dataloader = load_data(tokenizer=tokenizer, batch_size=8)\n",
        "bert_config = BertConfig.from_pretrained(MODEL, output_hidden_states=True)\n",
        "my_bert_optimizer = AdamW(get_optimizer_params(my_bert), lr=1e-5)\n",
        "updated_model, regression_head = run_new_method(my_bert=my_bert, optimizer=my_bert_optimizer, # optimizer\n",
        "                                                regression_head=regression_head, \n",
        "                                                regression_optimizer=linear_regression_optimizer,\n",
        "                                                train_dataloader=train_dataloader,\n",
        "                                                test_dataloader=test_dataloader,\n",
        "                                                epochs=3)\n",
        "\n",
        "pcc = evaluate_model(updated_model, regression_head, test_dataloader)\n",
        "model_name = \"blue-bert\"\n",
        "model_loc = \"/content/drive/My Drive/clinical-sts/models/bert-{}-{:.3f}.pth\".format(model_name, pcc)\n",
        "regression_loc = \"/content/drive/My Drive/clinical-sts/models/regression-{}-{:.3f}.pth\".format(model_name, pcc)\n",
        "torch.save(updated_model, model_loc)\n",
        "torch.save(regression_head, regression_loc)\n",
        "print(\"Saved at:\\n'{}'\\n'{}'\".format(model_loc, regression_loc))"
      ],
      "execution_count": 8,
      "outputs": [
        {
          "output_type": "stream",
          "text": [
            "Epoch: 0 Train Loss:1.1125290060016324\n",
            "Epoch: 0 Test Loss:0.6453494093863361\n",
            "\n",
            "Epoch: 1 Train Loss:0.39784646396640566\n",
            "Epoch: 1 Test Loss:0.6885681696325899\n",
            "\n",
            "Epoch: 2 Train Loss:0.2653962019943489\n",
            "Epoch: 2 Test Loss:0.758003762148949\n",
            "\n",
            "2.00    4.12          2.12     discussed diagnosis and treatment plan; patient expressed understanding of the content.    |||    they verbalized agreement and understanding of the plan and contact information.\n",
            "1.00    4.27          3.27     the patient is awake, alert, and oriented times three.    |||    patient is appreciative, understands and is in agreement with plan of care.\n",
            "4.00    1.90          2.10     per protocol continue current dose until next inr in 5 - 7 days.    |||    then resume current dose until next inr check, .\n",
            "3.00    0.47          2.53     after explaining the procedure to the patient / caregiver, ear lavage of both ears was attempted .    |||    the impression and treatment plan were explained in detail to the patient / family who expressed understanding of the content.\n",
            "1.00    3.21          2.21     oxycodone [ roxicodone ] 5 mg tablet 0.5 - 1 tablets by mouth every 4 hours as needed.    |||    simvastatin 40 mg tablet 1 tablet by mouth one time daily.\n",
            "1.00    3.10          2.10     oxycodone [ roxicodone ] 5 mg tablet 0.5 - 1 tablets by mouth every 4 hours as needed.    |||    pantoprazole [ protonix ] 40 mg tablet enteric coated 1 tablet by mouth bid before meals.\n",
            "1.00    3.19          2.19     ondansetron [ zofran ] 4 mg tablet 1 tablet by mouth three times a day as needed.    |||    minocycline [ minocin ] 50 mg capsule 1 capsule by mouth two times a day.\n",
            "1.50    4.16          2.66     , family educational needs - family assessed : ready to learn, no apparent learning barriers.    |||    patient education : ready to learn, no apparent learning barriers were identified; learning preferences include listening.\n",
            "1.50    3.58          2.08     advised to call radiation oncology with questions and / or concerns.    |||    please page phone number with any questions or concerns.\n",
            "1.00    3.18          2.18     ketoprofen 75 mg capsule 1 capsule by mouth two times a day as needed.    |||    cephalexin [ keflex ] 500 mg capsule 1 capsule by mouth four times a day.\n",
            "1.50    4.28          2.78     contact your health care provider if you have any further questions or concerns.    |||    contact your health care provider right away if you are having lasting feelings of depression or anxiety.\n",
            "2.00    4.36          2.36     explained diagnosis and treatment plan; patient expressed understanding of the content, patient was given a copy of this note    |||    explained diagnosis and treatment plan; patient / child / caretaker expressed understanding of the content.`e`\n",
            "1.50    3.58          2.08     spent 10 minutes with the patient and greater than 50% of this time was spent counseling the patient regarding diagnosis and available treatment options.    |||    risks and benefits were discussed with the patient regarding nonoperative versus operative treatment.\n",
            "0.50    3.29          2.79     negative gastrointestinal review of systems, historian denies abdominal pain, diarrhea, nausea, vomiting.    |||    negative neurologic review of systems, historian denies confusion, dizziness, headache, mental status changes.\n",
            "2.00    4.08          2.08     they verbalized agreement and understanding of the plan and contact information.    |||    discussed diagnosis and treatment plan; patient expressed understanding of the content.\n",
            "1.00    4.27          3.27     patient is appreciative, understands and is in agreement with plan of care.    |||    the patient is awake, alert, and oriented times three.\n",
            "4.00    1.83          2.17     then resume current dose until next inr check, .    |||    per protocol continue current dose until next inr in 5 - 7 days.\n",
            "3.00    0.42          2.58     the impression and treatment plan were explained in detail to the patient / family who expressed understanding of the content.    |||    after explaining the procedure to the patient / caregiver, ear lavage of both ears was attempted .\n",
            "1.00    3.25          2.25     minocycline [ minocin ] 50 mg capsule 1 capsule by mouth two times a day.    |||    ondansetron [ zofran ] 4 mg tablet 1 tablet by mouth three times a day as needed.\n",
            "1.50    4.01          2.51     patient education : ready to learn, no apparent learning barriers were identified; learning preferences include listening.    |||    , family educational needs - family assessed : ready to learn, no apparent learning barriers.\n",
            "1.50    3.58          2.08     please page phone number with any questions or concerns.    |||    advised to call radiation oncology with questions and / or concerns.\n",
            "1.50    4.21          2.71     contact your health care provider right away if you are having lasting feelings of depression or anxiety.    |||    contact your health care provider if you have any further questions or concerns.\n",
            "2.00    4.21          2.21     explained diagnosis and treatment plan; patient / child / caretaker expressed understanding of the content.`e`    |||    explained diagnosis and treatment plan; patient expressed understanding of the content, patient was given a copy of this note\n",
            "1.50    3.84          2.34     risks and benefits were discussed with the patient regarding nonoperative versus operative treatment.    |||    spent 10 minutes with the patient and greater than 50% of this time was spent counseling the patient regarding diagnosis and available treatment options.\n",
            "0.50    3.22          2.72     negative neurologic review of systems, historian denies confusion, dizziness, headache, mental status changes.    |||    negative gastrointestinal review of systems, historian denies abdominal pain, diarrhea, nausea, vomiting.\n",
            "\n",
            "\n",
            "\n",
            "\n",
            "0.8234626495974088\n",
            "Saved at:\n",
            "'/content/drive/My Drive/clinical-sts/models/bert-blue-bert-0.823.pth'\n",
            "'/content/drive/My Drive/clinical-sts/models/regression-blue-bert-0.823.pth'\n"
          ],
          "name": "stdout"
        },
        {
          "output_type": "display_data",
          "data": {
            "image/png": "[encoded data removed]",
            "text/plain": [
              "<Figure size 432x288 with 1 Axes>"
            ]
          },
          "metadata": {
            "tags": [],
            "needs_background": "light"
          }
        }
      ]
    },
    {
      "cell_type": "markdown",
      "metadata": {
        "id": "ofmOyPdKIY5A"
      },
      "source": [
        ""
      ]
    },
    {
      "cell_type": "code",
      "metadata": {
        "id": "JxjnxY11Argx",
        "outputId": "3811ff38-58aa-40da-bb3e-a98dfb5aee23",
        "colab": {
          "base_uri": "https://localhost:8080/",
          "height": 999
        }
      },
      "source": [
        "MODEL = \"emilyalsentzer/Bio_ClinicalBERT\"\n",
        "my_bert = BertModel.from_pretrained(MODEL, output_hidden_states=True)\n",
        "my_bert.cuda()\n",
        "\n",
        "regression_head = linearRegression().cuda()\n",
        "linear_regression_optimizer = torch.optim.Adam(regression_head.parameters(), lr=1e-4)\n",
        "\n",
        "\n",
        "tokenizer = BertTokenizer.from_pretrained(MODEL, output_hidden_states=True)\n",
        "train_dataloader, test_dataloader = load_data(tokenizer=tokenizer, batch_size=8, cased=True)\n",
        "bert_config = BertConfig.from_pretrained(MODEL, output_hidden_states=True)\n",
        "my_bert_optimizer = AdamW(get_optimizer_params(my_bert), lr=1e-5)\n",
        "updated_model, regression_head = run_new_method(my_bert=my_bert, optimizer=my_bert_optimizer, # optimizer\n",
        "                                                regression_head=regression_head, \n",
        "                                                regression_optimizer=linear_regression_optimizer,\n",
        "                                                train_dataloader=train_dataloader,\n",
        "                                                test_dataloader=test_dataloader,\n",
        "                                                epochs=3)\n",
        "\n",
        "pcc = evaluate_model(updated_model, regression_head, test_dataloader)\n",
        "model_name = MODEL.replace(\"/\", \"-\")\n",
        "model_loc = \"/content/drive/My Drive/clinical-sts/models/bert-{}-{:.2f}.pth\".format(model_name, pcc)\n",
        "regression_loc = \"/content/drive/My Drive/clinical-sts/models/regression-{}-{:.2f}.pth\".format(model_name, pcc)\n",
        "torch.save(updated_model, model_loc)\n",
        "torch.save(regression_head, regression_loc)\n",
        "print(\"Saved at:\\n'{}'\\n'{}'\".format(model_loc, regression_loc))\n",
        "\n"
      ],
      "execution_count": null,
      "outputs": [
        {
          "output_type": "stream",
          "text": [
            "Epoch: 0 Train Loss:1.280197157240346\n",
            "Epoch: 0 Test Loss:0.7678445122507681\n",
            "\n",
            "Epoch: 1 Train Loss:0.46242612807412165\n",
            "Epoch: 1 Test Loss:0.7235513769359474\n",
            "\n",
            "Epoch: 2 Train Loss:0.31059384705031745\n",
            "Epoch: 2 Test Loss:0.8426966792847737\n",
            "\n",
            "2.00    4.48          2.48     Discussed diagnosis and treatment plan; patient expressed understanding of the content.    |||    They verbalized agreement and understanding of the plan and contact information.\n",
            "0.00    3.07          3.07     I discussed with the patient the findings of the physical exam.    |||    I have confirmed with the Organization system that I have counseled the patient.\n",
            "1.50    3.56          2.06     The patient indicated they are not missing work, are not experiencing reduced productivity at work, are having no decline in their ability to complete daily activities.    |||    The patient indicated they are having decline in their ability to complete daily activities ( Score of 5 / 10, where 0=no effect ) .\n",
            "1.00    3.36          2.36     The patient is awake, alert, and oriented times three.    |||    Patient is appreciative, understands and is in agreement with plan of care.\n",
            "3.25    1.20          2.05     Discussed the risks, the goals, the alternatives, advance directives, and the necessity of other members of the health care team who would be participating in the procedures with the patient.    |||    I reviewed pertinent records, examined the patient and discussed the plan of care with RCU team at the bedside.\n",
            "1.50    4.07          2.57     , Family educational needs - Family assessed : Ready to learn, no apparent learning barriers.    |||    PATIENT EDUCATION : Ready to learn, no apparent learning barriers were identified; learning preferences include listening.\n",
            "1.50    3.72          2.22     Advised to call radiation oncology with questions and / or concerns.    |||    Please page Phone Number with any questions or concerns.\n",
            "1.00    3.16          2.16     ketoprofen 75 mg capsule 1 capsule by mouth two times a day as needed.    |||    cephalexin [ KEFLEX ] 500 mg capsule 1 capsule by mouth four times a day.\n",
            "1.50    3.61          2.11     I have reviewed the physician assistant and nursing documentation, studies, and consultations and agree with the findings documented on the written ED Record.    |||    I discussed the rehabilitation plans with the patient and they voiced understanding and agreement with the plans.\n",
            "1.50    4.84          3.34     Contact your health care provider if you have any further questions or concerns.    |||    Contact your health care provider right away if you are having lasting feelings of depression or anxiety.\n",
            "2.00    4.55          2.55     Explained diagnosis and treatment plan; patient expressed understanding of the content, Patient was given a copy of this note    |||    Explained diagnosis and treatment plan; patient / child / caretaker expressed understanding of the content.`E`\n",
            "1.50    3.89          2.39     Spent 10 minutes with the patient and greater than 50% of this time was spent counseling the patient regarding diagnosis and available treatment options.    |||    Risks and benefits were discussed with the patient regarding nonoperative versus operative treatment.\n",
            "0.50    3.14          2.64     Negative gastrointestinal review of systems, Historian denies abdominal pain, diarrhea, nausea, vomiting.    |||    Negative neurologic review of systems, Historian denies confusion, dizziness, headache, mental status changes.\n",
            "0.00    2.70          2.70     I have confirmed with the Organization system that I have counseled the patient.    |||    I discussed with the patient the findings of the physical exam.\n",
            "1.50    3.51          2.01     The patient indicated they are having decline in their ability to complete daily activities ( Score of 5 / 10, where 0=no effect ) .    |||    The patient indicated they are not missing work, are not experiencing reduced productivity at work, are having no decline in their ability to complete daily activities.\n",
            "1.00    3.71          2.71     Patient is appreciative, understands and is in agreement with plan of care.    |||    The patient is awake, alert, and oriented times three.\n",
            "1.50    4.05          2.55     PATIENT EDUCATION : Ready to learn, no apparent learning barriers were identified; learning preferences include listening.    |||    , Family educational needs - Family assessed : Ready to learn, no apparent learning barriers.\n",
            "1.50    3.86          2.36     Please page Phone Number with any questions or concerns.    |||    Advised to call radiation oncology with questions and / or concerns.\n",
            "3.90    1.85          2.05     Patient to follow - up if symptoms do not resolve in 7 days or immediately if symptoms worsen.    |||    The patient / caller was instructed to call back if symptoms are persistent, changing, worsening, or if there are specific symptoms to watch for.\n",
            "1.00    3.34          2.34     cephalexin [ KEFLEX ] 500 mg capsule 1 capsule by mouth four times a day.    |||    ketoprofen 75 mg capsule 1 capsule by mouth two times a day as needed.\n",
            "4.50    2.16          2.34     Patient instructed in care and wearing schedule of the orthosis.    |||    Demonstrated and instructed patient in donning and doffing of orthosis.\n",
            "1.50    4.74          3.24     Contact your health care provider right away if you are having lasting feelings of depression or anxiety.    |||    Contact your health care provider if you have any further questions or concerns.\n",
            "2.00    4.42          2.42     Explained diagnosis and treatment plan; patient / child / caretaker expressed understanding of the content.`E`    |||    Explained diagnosis and treatment plan; patient expressed understanding of the content, Patient was given a copy of this note\n",
            "1.50    3.61          2.11     Risks and benefits were discussed with the patient regarding nonoperative versus operative treatment.    |||    Spent 10 minutes with the patient and greater than 50% of this time was spent counseling the patient regarding diagnosis and available treatment options.\n",
            "0.50    3.10          2.60     Negative neurologic review of systems, Historian denies confusion, dizziness, headache, mental status changes.    |||    Negative gastrointestinal review of systems, Historian denies abdominal pain, diarrhea, nausea, vomiting.\n",
            "\n",
            "\n",
            "\n",
            "\n",
            "0.8237628701120943\n",
            "Saved at:\n",
            "'/content/drive/My Drive/clinical-sts/models/bert-emilyalsentzer-Bio_ClinicalBERT-0.82.pth'\n",
            "'/content/drive/My Drive/clinical-sts/models/regression-emilyalsentzer-Bio_ClinicalBERT-0.82.pth'\n"
          ],
          "name": "stdout"
        },
        {
          "output_type": "display_data",
          "data": {
            "image/png": "[encoded data removed]",
            "text/plain": [
              "<Figure size 432x288 with 1 Axes>"
            ]
          },
          "metadata": {
            "tags": [],
            "needs_background": "light"
          }
        }
      ]
    },
    {
      "cell_type": "code",
      "metadata": {
        "id": "mi4n28EnKzIt",
        "outputId": "f84a6d07-7e59-41f5-d028-efb439e59b05",
        "colab": {
          "base_uri": "https://localhost:8080/",
          "height": 914
        }
      },
      "source": [
        "MODEL = \"sentence-transformers/bert-base-nli-stsb-mean-tokens\"\n",
        "my_bert = BertModel.from_pretrained(MODEL, output_hidden_states=True)\n",
        "my_bert.cuda()\n",
        "\n",
        "regression_head = linearRegression().cuda()\n",
        "linear_regression_optimizer = torch.optim.Adam(regression_head.parameters(), lr=1e-4)\n",
        "\n",
        "\n",
        "tokenizer = BertTokenizer.from_pretrained(MODEL, output_hidden_states=True)\n",
        "train_dataloader, test_dataloader = load_data(tokenizer=tokenizer, batch_size=8)\n",
        "bert_config = BertConfig.from_pretrained(MODEL, output_hidden_states=True)\n",
        "my_bert_optimizer = AdamW(get_optimizer_params(my_bert), lr=1e-5)\n",
        "updated_model, regression_head = run_new_method(my_bert=my_bert, optimizer=my_bert_optimizer, # optimizer\n",
        "                                                regression_head=regression_head, \n",
        "                                                regression_optimizer=linear_regression_optimizer,\n",
        "                                                train_dataloader=train_dataloader,\n",
        "                                                test_dataloader=test_dataloader,\n",
        "                                                epochs=3)\n",
        "\n",
        "pcc = evaluate_model(updated_model, regression_head, test_dataloader)\n",
        "model_name = MODEL.replace(\"/\", \"-\")\n",
        "model_loc = \"/content/drive/My Drive/clinical-sts/models/bert-{}-{:.2f}.pth\".format(model_name, pcc)\n",
        "regression_loc = \"/content/drive/My Drive/clinical-sts/models/regression-{}-{:.2f}.pth\".format(model_name, pcc)\n",
        "torch.save(updated_model, model_loc)\n",
        "torch.save(regression_head, regression_loc)\n",
        "print(\"Saved at:\\n'{}'\\n'{}'\".format(model_loc, regression_loc))\n"
      ],
      "execution_count": null,
      "outputs": [
        {
          "output_type": "stream",
          "text": [
            "Epoch: 0 Train Loss:1.2351138879210206\n",
            "Epoch: 0 Test Loss:0.6839952734579523\n",
            "\n",
            "Epoch: 1 Train Loss:0.4034352780536402\n",
            "Epoch: 1 Test Loss:0.6625506974846483\n",
            "\n",
            "Epoch: 2 Train Loss:0.2404572017198243\n",
            "Epoch: 2 Test Loss:0.7352566093385938\n",
            "\n",
            "yay, exit\n",
            "2.00    4.26          2.26     discussed diagnosis and treatment plan; patient expressed understanding of the content.    |||    they verbalized agreement and understanding of the plan and contact information.\n",
            "1.50    3.78          2.28     the patient indicated they are not missing work, are not experiencing reduced productivity at work, are having no decline in their ability to complete daily activities.    |||    the patient indicated they are having decline in their ability to complete daily activities ( score of 5 / 10, where 0=no effect ) .\n",
            "1.00    3.80          2.80     the patient is awake, alert, and oriented times three.    |||    patient is appreciative, understands and is in agreement with plan of care.\n",
            "1.00    3.08          2.08     ondansetron [ zofran ] 4 mg tablet 1 tablet by mouth three times a day as needed.    |||    minocycline [ minocin ] 50 mg capsule 1 capsule by mouth two times a day.\n",
            "0.50    2.63          2.13     celexa 40 mg tablet 1 tablet by mouth one time daily.    |||    miralax 17 gram / dose powder 1 packet by mouth one time daily as needed.\n",
            "1.50    4.07          2.57     , family educational needs - family assessed : ready to learn, no apparent learning barriers.    |||    patient education : ready to learn, no apparent learning barriers were identified; learning preferences include listening.\n",
            "1.50    3.98          2.48     i have reviewed the physician assistant and nursing documentation, studies, and consultations and agree with the findings documented on the written ed record.    |||    i discussed the rehabilitation plans with the patient and they voiced understanding and agreement with the plans.\n",
            "2.00    4.80          2.80     explained diagnosis and treatment plan; patient expressed understanding of the content, patient was given a copy of this note    |||    explained diagnosis and treatment plan; patient / child / caretaker expressed understanding of the content.`e`\n",
            "0.50    2.66          2.16     negative gastrointestinal review of systems, historian denies abdominal pain, diarrhea, nausea, vomiting.    |||    negative neurologic review of systems, historian denies confusion, dizziness, headache, mental status changes.\n",
            "2.00    4.05          2.05     they verbalized agreement and understanding of the plan and contact information.    |||    discussed diagnosis and treatment plan; patient expressed understanding of the content.\n",
            "1.50    3.65          2.15     the patient indicated they are having decline in their ability to complete daily activities ( score of 5 / 10, where 0=no effect ) .    |||    the patient indicated they are not missing work, are not experiencing reduced productivity at work, are having no decline in their ability to complete daily activities.\n",
            "1.00    3.46          2.46     patient is appreciative, understands and is in agreement with plan of care.    |||    the patient is awake, alert, and oriented times three.\n",
            "3.00    0.98          2.02     the impression and treatment plan were explained in detail to the patient / family who expressed understanding of the content.    |||    after explaining the procedure to the patient / caregiver, ear lavage of both ears was attempted .\n",
            "1.00    3.09          2.09     minocycline [ minocin ] 50 mg capsule 1 capsule by mouth two times a day.    |||    ondansetron [ zofran ] 4 mg tablet 1 tablet by mouth three times a day as needed.\n",
            "1.50    4.12          2.62     patient education : ready to learn, no apparent learning barriers were identified; learning preferences include listening.    |||    , family educational needs - family assessed : ready to learn, no apparent learning barriers.\n",
            "1.50    4.13          2.63     i discussed the rehabilitation plans with the patient and they voiced understanding and agreement with the plans.    |||    i have reviewed the physician assistant and nursing documentation, studies, and consultations and agree with the findings documented on the written ed record.\n",
            "1.50    3.60          2.10     contact your health care provider right away if you are having lasting feelings of depression or anxiety.    |||    contact your health care provider if you have any further questions or concerns.\n",
            "2.00    4.77          2.77     explained diagnosis and treatment plan; patient / child / caretaker expressed understanding of the content.`e`    |||    explained diagnosis and treatment plan; patient expressed understanding of the content, patient was given a copy of this note\n",
            "0.50    2.59          2.09     negative neurologic review of systems, historian denies confusion, dizziness, headache, mental status changes.    |||    negative gastrointestinal review of systems, historian denies abdominal pain, diarrhea, nausea, vomiting.\n",
            "\n",
            "\n",
            "\n",
            "\n",
            "0.8275632382013836\n",
            "Saved at:\n",
            "'/content/drive/My Drive/clinical-sts/models/bert-sentence-transformers-bert-base-nli-stsb-mean-tokens-0.83.pth'\n",
            "'/content/drive/My Drive/clinical-sts/models/regression-sentence-transformers-bert-base-nli-stsb-mean-tokens-0.83.pth'\n"
          ],
          "name": "stdout"
        },
        {
          "output_type": "display_data",
          "data": {
            "image/png": "[encoded data removed]",
            "text/plain": [
              "<Figure size 432x288 with 1 Axes>"
            ]
          },
          "metadata": {
            "tags": [],
            "needs_background": "light"
          }
        }
      ]
    },
    {
      "cell_type": "code",
      "metadata": {
        "id": "8QF1QpnxVoWC"
      },
      "source": [
        ""
      ],
      "execution_count": null,
      "outputs": []
    },
    {
      "cell_type": "code",
      "metadata": {
        "id": "kZGZYiBLVoYz"
      },
      "source": [
        ""
      ],
      "execution_count": null,
      "outputs": []
    }
  ]
}