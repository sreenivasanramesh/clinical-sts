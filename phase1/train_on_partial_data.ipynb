{
  "nbformat": 4,
  "nbformat_minor": 0,
  "metadata": {
    "colab": {
      "name": "train-on-partial-data.ipynb",
      "provenance": [],
      "collapsed_sections": []
    },
    "kernelspec": {
      "name": "python3",
      "display_name": "Python 3"
    },
    "accelerator": "GPU"
  },
  "cells": [
    {
      "cell_type": "code",
      "metadata": {
        "id": "duHGGbwVAhhL"
      },
      "source": [
        "!pip install nlp transformers texttable &> /dev/null"
      ],
      "execution_count": 1,
      "outputs": []
    },
    {
      "cell_type": "code",
      "metadata": {
        "id": "AArjDixQAvZo",
        "outputId": "bb299704-11be-4110-9211-dad038c51413",
        "colab": {
          "base_uri": "https://localhost:8080/"
        }
      },
      "source": [
        "from dataclasses import dataclass, field\n",
        "from typing import Dict, Optional\n",
        "from typing import List\n",
        "import re\n",
        "import random\n",
        "import numpy as np\n",
        "import pandas as pd\n",
        "pd.set_option('display.max_colwidth', None)  \n",
        "from texttable import Texttable\n",
        "\n",
        "from scipy.stats import pearsonr, entropy\n",
        "from sklearn.model_selection import train_test_split\n",
        "from sklearn.metrics import r2_score\n",
        "\n",
        "import torch\n",
        "from torch import nn\n",
        "from torch.utils.data import DataLoader\n",
        "from torch.utils.data.dataset import Dataset, IterableDataset\n",
        "from transformers import BertModel, BertTokenizer, AutoTokenizer, AutoModel, BertConfig, \\\n",
        "     AdamW, set_seed, AutoConfig, PreTrainedTokenizer, DataCollator, PreTrainedModel, PreTrainedTokenizer, DataCollator, PreTrainedModel\n",
        "\n",
        "set_seed(23)\n",
        "device = torch.device(\"cuda\" if torch.cuda.is_available() else \"cpu\")\n",
        "print(device)"
      ],
      "execution_count": 2,
      "outputs": [
        {
          "output_type": "stream",
          "text": [
            "cuda\n"
          ],
          "name": "stdout"
        }
      ]
    },
    {
      "cell_type": "code",
      "metadata": {
        "id": "L3IyQ_MtPKlP",
        "outputId": "17b732a9-71a1-4293-d944-e92285945f3d",
        "colab": {
          "base_uri": "https://localhost:8080/"
        }
      },
      "source": [
        "from google.colab import drive\n",
        "drive.mount('/content/drive')"
      ],
      "execution_count": 3,
      "outputs": [
        {
          "output_type": "stream",
          "text": [
            "Mounted at /content/drive\n"
          ],
          "name": "stdout"
        }
      ]
    },
    {
      "cell_type": "markdown",
      "metadata": {
        "id": "dgQgo4I4wQZQ"
      },
      "source": [
        "\n",
        " \n",
        "## Processing Data, Defining Data Classes and Collator and other miscellaneous stuff\n",
        "\n"
      ]
    },
    {
      "cell_type": "code",
      "metadata": {
        "id": "L7qFiKkjBtZ3"
      },
      "source": [
        "# Class to store data samples, text_a, text_b, score\n",
        "@dataclass\n",
        "class Example:\n",
        "    text_a: str\n",
        "    text_b: str\n",
        "    score: float\n",
        "\n",
        "\n",
        "# lowercase and add space around words, remove unnecessary spaces\n",
        "def pre_process(sentence, cased=False):\n",
        "    sentence = sentence.replace(\":\", \" : \").replace(\"/\", \" / \").replace(\"[\", \" [ \").replace(\"]\", \" ] \").replace(\"(\", \" ( \").replace(\")\", \" ) \").replace(\"\\\"\", \" \\\" \").replace(\"-\", \" - \").replace(\"?\", \" \").lstrip().rstrip()\n",
        "    if cased:\n",
        "      return re.sub(' +',' ', sentence)\n",
        "    return re.sub(' +',' ', sentence).lower()\n",
        "\n",
        "\n",
        "# returns test and train arrays as Example Objects\n",
        "# test train split is stratified and 80-20 split\n",
        "def get_data(cased=False, sent_type=None):\n",
        "    train_data = \"/content/drive/My Drive/clinical-sts/augmented_train.tsv\"\n",
        "\n",
        "    df = pd.read_csv(train_data, sep=\"\\t\", names=[\"sentence_1\", \"sentence_2\", \"similarity_score\", \"label\"], encoding=\"utf-8\")\n",
        "    if sent_type == \"CLINICAL\":\n",
        "        df = df[df[\"label\"]==\"CLINICAL\"]\n",
        "    elif sent_type == \"MEDICAL\":\n",
        "        df = df[df[\"label\"]==\"MEDICAL\"]\n",
        "\n",
        "    df[\"sentence_1\"] = df[\"sentence_1\"].apply(lambda sentence: pre_process(sentence, cased))\n",
        "    df[\"sentence_2\"] = df[\"sentence_2\"].apply(lambda sentence: pre_process(sentence, cased))\n",
        "    df[\"input_sample\"] = df[\"sentence_1\"] + \"<SEP>\" + df[\"sentence_2\"]\n",
        "\n",
        "    ## stratified binned sampling\n",
        "    min_val = np.amin(df[\"similarity_score\"])\n",
        "    max_val = np.amax(df[\"similarity_score\"])\n",
        "    bins     = np.linspace(start=min_val, stop=max_val, num=10)\n",
        "    y_binned = np.digitize(df[\"similarity_score\"], bins, right=True)\n",
        "\n",
        "    X_train, X_test, y_train, y_test = train_test_split(\n",
        "        df[\"input_sample\"], \n",
        "        df[\"similarity_score\"], \n",
        "        stratify=y_binned,\n",
        "        test_size=0.2,\n",
        "        random_state=23\n",
        "    )\n",
        "\n",
        "    train_a_b = [Example(text_a=sample.split(\"<SEP>\")[0], \n",
        "                    text_b=sample.split(\"<SEP>\")[1], \n",
        "                    score=similarity_score) for sample, similarity_score in zip(X_train, y_train)]\n",
        "    train_b_a = [Example(text_a=sample.split(\"<SEP>\")[1], \n",
        "                    text_b=sample.split(\"<SEP>\")[0], \n",
        "                    score=similarity_score) for sample, similarity_score in zip(X_train, y_train)]\n",
        "    train = train_a_b + train_b_a\n",
        "\n",
        "    test_a_b = [Example(text_a=sample.split(\"<SEP>\")[0], \n",
        "                    text_b=sample.split(\"<SEP>\")[1], \n",
        "                    score=similarity_score) for sample, similarity_score in zip(X_test, y_test)]\n",
        "    test_b_a = [Example(text_a=sample.split(\"<SEP>\")[1], \n",
        "                    text_b=sample.split(\"<SEP>\")[0], \n",
        "                    score=similarity_score) for sample, similarity_score in zip(X_test, y_test)]\n",
        "    test = test_a_b + test_b_a\n",
        "\n",
        "    return train, test\n",
        "\n",
        "\n",
        "\n",
        "\n",
        "# DYNAMIC PADDING AND UNIFORM LENGTH BATCHING - reduces wasted computation and makes it faster to run\n",
        "# CODE BORROWED FROM https://towardsdatascience.com/divide-hugging-face-transformers-training-time-by-2-or-more-21bf7129db9q-21bf7129db9e\n",
        "\n",
        "\n",
        "# We'll be creating a custome dataset using this first\n",
        "@dataclass\n",
        "class Features:\n",
        "    og_sample: Example\n",
        "    input_ids: List[int]\n",
        "    attention_mask: List[int]\n",
        "    score: float\n",
        "\n",
        "\n",
        "class TextDataset(Dataset):\n",
        "    def __init__(self, tokenizer, \n",
        "                 pad_to_max_length, \n",
        "                 max_len,\n",
        "                 examples: List[Example]):\n",
        "        self.tokenizer = tokenizer\n",
        "        self.max_len = max_len\n",
        "        self.examples: List[Example] = examples\n",
        "        self.current = 0\n",
        "        self.pad_to_max_length = pad_to_max_length\n",
        "\n",
        "    # tokenize the sentences and return a Features object for each sentence \n",
        "    def encode(self, ex: Example) -> Features:\n",
        "        encode_dict = self.tokenizer.encode_plus(text=ex.text_a,\n",
        "                                                 text_pair=ex.text_b,\n",
        "                                                 add_special_tokens=True,\n",
        "                                                 max_length=self.max_len,\n",
        "                                                 pad_to_max_length=self.pad_to_max_length,\n",
        "                                                 return_token_type_ids=False,\n",
        "                                                 return_attention_mask=True,\n",
        "                                                 return_overflowing_tokens=False,\n",
        "                                                 return_special_tokens_mask=False,\n",
        "                                                 truncation=True,\n",
        "                                                 )\n",
        "        return Features(og_sample=ex,\n",
        "                        input_ids=encode_dict[\"input_ids\"],\n",
        "                        attention_mask=encode_dict[\"attention_mask\"],\n",
        "                        score=ex.score)\n",
        "\n",
        "    def __getitem__(self, idx) -> Features:\n",
        "        return self.encode(ex=self.examples[idx])\n",
        "\n",
        "    def __len__(self):\n",
        "        return len(self.examples)\n",
        "\n",
        "\n",
        "def pad_seq(seq: List[int], max_batch_len: int, pad_value: int) -> List[int]:\n",
        "    return seq + (max_batch_len - len(seq)) * [pad_value]\n",
        "\n",
        "\n",
        "# Smart Collator is used to create batches which are dynamically padded with uniform length \n",
        "@dataclass\n",
        "class SmartCollator:  # (DataCollator):\n",
        "    pad_token_id: int\n",
        "\n",
        "    def collate_batch(self, batch: List[Features]) -> Dict[str, torch.Tensor]:\n",
        "        batch_og_sample = list()\n",
        "        batch_inputs = list()\n",
        "        batch_attention_masks = list()\n",
        "        labels = list()\n",
        "        max_size = max([len(ex.input_ids) for ex in batch])\n",
        "        for item in batch:\n",
        "            batch_inputs += [pad_seq(item.input_ids, max_size, self.pad_token_id)]\n",
        "            batch_attention_masks += [pad_seq(item.attention_mask, max_size, 0)]\n",
        "            labels.append(item.score)\n",
        "            batch_og_sample.append(item)\n",
        "\n",
        "        return {\"input_ids\": torch.tensor(batch_inputs, dtype=torch.long),\n",
        "                \"attention_mask\": torch.tensor(batch_attention_masks, dtype=torch.long),\n",
        "                \"score\": torch.tensor(labels, dtype=torch.float),\n",
        "                \"og_sample\": batch_og_sample\n",
        "                }\n",
        "                \n",
        "def collate_wrapper(data):\n",
        "    collator = SmartCollator(pad_token_id=tokenizer.pad_token_id)\n",
        "    return collator.collate_batch(data)\n",
        "\n",
        "\n",
        "# USE THIS FUNCTION TO LOAD TEST AND TRAIN DATA AND ITERATE THROUGH THEM\n",
        "def load_data(tokenizer, batch_size, cased=False, sent_type=None):\n",
        "    # Get train and test Data Examples\n",
        "    train, test = get_data(cased, sent_type)\n",
        "\n",
        "\n",
        "    # Now tokenize the words and convert them to token IDs\n",
        "    max_sequence_len = 128\n",
        "    train_set = TextDataset(tokenizer=tokenizer,\n",
        "                            max_len=max_sequence_len,\n",
        "                            examples=train,\n",
        "                            pad_to_max_length=False)\n",
        "\n",
        "    test_set = TextDataset(tokenizer=tokenizer,\n",
        "                            max_len=max_sequence_len,\n",
        "                            examples=test,\n",
        "                            pad_to_max_length=False)\n",
        "\n",
        "    train_dataloader = DataLoader(train_set, batch_size=batch_size, shuffle=False, num_workers=0, collate_fn=collate_wrapper,\n",
        "              pin_memory=False, drop_last=False, timeout=0,\n",
        "              worker_init_fn=None)\n",
        "\n",
        "    test_dataloader = DataLoader(test_set, batch_size=batch_size, shuffle=False, num_workers=0, collate_fn=collate_wrapper,\n",
        "              pin_memory=False, drop_last=False, timeout=0,\n",
        "              worker_init_fn=None)\n",
        "    \n",
        "    return train_dataloader, test_dataloader"
      ],
      "execution_count": 4,
      "outputs": []
    },
    {
      "cell_type": "markdown",
      "metadata": {
        "id": "iJMdJI0Ewkkc"
      },
      "source": [
        "##**Define the Training Loop for fine-tuning the Model.**  \n",
        "We also have some miscellaneous functions to evaluate our model on the dev-set.  \n",
        "\n",
        "  \n",
        "    \n",
        "The model is as shown below. We have different learning rates for the bert and LR layer. Note that we take the hidden layer output from BERT and not the CLS embedding. The CLS embedding does not generate any meaningful sentence embedding and BERT was specifically trained for the NSP task. As such, using the CLS embedding directly leads to worse results. We found that using the penultimate hidden layers gave us best results for this task.\n",
        "\n",
        "\n"
      ]
    },
    {
      "cell_type": "code",
      "metadata": {
        "id": "4ALszvbWE5Zc"
      },
      "source": [
        "# Let's define the training loop and model\n",
        "\n",
        "def get_bert_output(my_bert, input_ids, attention_mask):    \n",
        "    outputs = my_bert(input_ids, attention_mask=attention_mask)\n",
        "    hidden_states = outputs[2]\n",
        "    sent_embedding = hidden_states[11][:, 0:1, :].squeeze(1).cuda()\n",
        "    return sent_embedding\n",
        "\n",
        "\n",
        "class linearRegression(nn.Module):\n",
        "    def __init__(self):\n",
        "        super(linearRegression, self).__init__()\n",
        "        self.linear = nn.Linear(768, 1)\n",
        "    def forward(self, x):\n",
        "        out = self.linear(x)\n",
        "        return out\n",
        "\n",
        "    \n",
        "def run_new_method(my_bert, optimizer, regression_head, regression_optimizer, train_dataloader, test_dataloader, epochs=10, freeze_layers=False):\n",
        "    old_test_loss = float('inf')\n",
        "\n",
        "    # freeze_layers = \"0,1,2,3,4\"\n",
        "    if freeze_layers:\n",
        "        freeze_layers = \"0,1,2,3,4,5\"\n",
        "        layer_indexes = [int(x) for x in freeze_layers.split(\",\")]\n",
        "        for layer_idx in layer_indexes:\n",
        "            for param in list(my_bert.encoder.layer[layer_idx].parameters()):\n",
        "                param.requires_grad = False\n",
        "            print (\"Froze Layer: \", layer_idx)\n",
        "\n",
        "\n",
        "    for epoch_num in range(epochs):\n",
        "        total_loss = 0\n",
        "        batch_count = 0\n",
        "        # put model in train mode\n",
        "        my_bert.train()\n",
        "        regression_head.train()\n",
        "        for step_num, batch_data in enumerate(train_dataloader):\n",
        "            input_ids = batch_data[\"input_ids\"].to(device)\n",
        "            attention_mask = batch_data[\"attention_mask\"].to(device)\n",
        "            score = batch_data[\"score\"].to(device)\n",
        "            score = score.unsqueeze(1)\n",
        "\n",
        "            my_bert_optimizer.zero_grad()\n",
        "            regression_optimizer.zero_grad()\n",
        "            bert_embedding = get_bert_output(my_bert, input_ids, attention_mask)\n",
        "            predicted_score = regression_head(bert_embedding)\n",
        "\n",
        "            loss_func = nn.MSELoss()\n",
        "            batch_loss = loss_func(predicted_score, score)\n",
        "\n",
        "            \n",
        "            batch_loss.backward()\n",
        "            my_bert_optimizer.step()\n",
        "            regression_optimizer.step()\n",
        "            total_loss += batch_loss.item()\n",
        "            batch_count += 1\n",
        "            train_loss = total_loss/batch_count\n",
        "        print(\"Epoch: {} Train Loss:{}\".format(epoch_num, train_loss))\n",
        "\n",
        "        # put model in test mode\n",
        "        my_bert.eval()\n",
        "        regression_head.eval()\n",
        "        test_loss = 0\n",
        "        test_batch_count = 0\n",
        "        with torch.no_grad():\n",
        "            for step_num, batch_data in enumerate(test_dataloader):\n",
        "                input_ids = batch_data[\"input_ids\"].to(device)\n",
        "                attention_mask = batch_data[\"attention_mask\"].to(device)\n",
        "                score = batch_data[\"score\"].to(device)\n",
        "                score = score.unsqueeze(1)\n",
        "\n",
        "                bert_embedding = get_bert_output(my_bert, input_ids, attention_mask)\n",
        "                predicted_score = regression_head(bert_embedding)\n",
        "\n",
        "                loss_func = nn.MSELoss()\n",
        "                batch_loss = loss_func(predicted_score, score)\n",
        "                test_loss += batch_loss.item()\n",
        "                test_batch_count += 1\n",
        "        # curr_test_loss = test_loss/test_batch_count\n",
        "        # print(\"Epoch: {} Test Loss:{}\\n\".format(epoch_num, curr_test_loss))\n",
        "        # if curr_test_loss < 0.61 or train_loss < 0.25:\n",
        "        #     print(\"yay, exit\")\n",
        "        #     break\n",
        "        curr_test_loss = test_loss/test_batch_count\n",
        "        print(\"dev loss: {}\\n\".format(curr_test_loss))\n",
        "        if curr_test_loss-old_test_loss >= 0.03 or curr_test_loss<0.61 or train_loss < 0.25:\n",
        "            print(\"new test loss is greater; breaking\")\n",
        "            break\n",
        "        old_test_loss = curr_test_loss\n",
        "    return my_bert, regression_head\n",
        "\n",
        "\n",
        "\n",
        "\n",
        "'''\n",
        "    Method to evaluate and calculate pcc on dev/test dataset, and show terrible predictions\n",
        "'''\n",
        "def evaluate_model(model, regression_head, test_dataloader, show_bad_predictions=True, prediction_difference=2.0):\n",
        "\n",
        "    actual = list()\n",
        "    predicted = list()\n",
        "    og_data = list()\n",
        "\n",
        "    model.eval()\n",
        "    with torch.no_grad():\n",
        "        test_batch_count = 0\n",
        "        test_loss =0\n",
        "        for step_num, batch_data in enumerate(test_dataloader):\n",
        "            input_ids = batch_data[\"input_ids\"].to(device)\n",
        "            attention_mask = batch_data[\"attention_mask\"].to(device)\n",
        "            score = batch_data[\"score\"].to(device)\n",
        "            score = score.unsqueeze(1)\n",
        "\n",
        "            bert_embedding = get_bert_output(model, input_ids, attention_mask)\n",
        "            predicted_score = regression_head(bert_embedding)\n",
        "\n",
        "            actual.extend(score.tolist())\n",
        "            predicted.extend(predicted_score.tolist())\n",
        "            original_samples = batch_data[\"og_sample\"]\n",
        "            og_data.extend(original_samples)\n",
        "\n",
        "    # show bad predictions in a table\n",
        "    table = Texttable()\n",
        "    table.add_row([\"Actual\", \"Predicted\", \"Difference\", \"Text Sample\"])\n",
        "\n",
        "    for act, pre, og_data in zip(actual, predicted, og_data):\n",
        "        if abs(pre[0]-act[0]) > prediction_difference:\n",
        "            og = og_data.og_sample.text_a + \"    |||    \" + og_data.og_sample.text_b\n",
        "            print(\"{:.2f}    {:.2f}          {:.2f}     {}\".format(act[0], pre[0], abs(pre[0]-act[0]), og))\n",
        "\n",
        "    print('\\n\\n\\n')\n",
        "    actual = [item[0] for item in actual]\n",
        "    predicted = [item[0] for item in predicted]\n",
        "\n",
        "    correlation, p_value = pearsonr(actual, predicted)\n",
        "    print(\"Correlation score: \", correlation)\n",
        "    r2_val = r2_score(actual, predicted)\n",
        "    print(\"R2 Score: \", r2_val)\n",
        "\n",
        "\n",
        "\n",
        "    d = {\"a\": actual, \"p\": predicted}\n",
        "    dx = pd.DataFrame(d)\n",
        "    dx.plot.hist(bins=20, alpha=0.25)\n",
        "    return correlation\n",
        "\n",
        "\n",
        "def get_optimizer_params(model):\n",
        "    param_optimizer = list(model.named_parameters())\n",
        "    no_decay = ['bias', 'gamma', 'beta']\n",
        "    opt_parameters = [\n",
        "        {'params': [p for n, p in param_optimizer if not any(nd in n for nd in no_decay)],\n",
        "        'weight_decay_rate': 0.01},\n",
        "        {'params': [p for n, p in param_optimizer if any(nd in n for nd in no_decay)],\n",
        "        'weight_decay_rate': 0.0}\n",
        "    ]\n",
        "    return opt_parameters\n"
      ],
      "execution_count": 5,
      "outputs": []
    },
    {
      "cell_type": "code",
      "metadata": {
        "id": "fmbgDSEcH8Vw"
      },
      "source": [
        "SENT_TYPE = \"CLINICAL\"\n",
        "train_data, test_data = get_data(sent_type=SENT_TYPE)\n",
        "\n",
        "d = {\"Train Clinical\": train_data, \"Test Clinical\": test_data}\n",
        "dx = pd.DataFrame(d)\n",
        "ax1 = dx.plot.hist(bins=20, alpha=0.25)\n",
        "ax1.set_xlabel(\"Clinical Data Score Distribution\")\n",
        "\n",
        "\n",
        "SENT_TYPE = \"MEDICAL\"\n",
        "train_data, test_data = get_data(sent_type=SENT_TYPE)\n",
        "d = {\"Train Clinical\": train_data, \"Test Clinical\": test_data}\n",
        "dx = pd.DataFrame(d)\n",
        "ax1 = dx.plot.hist(bins=20, alpha=0.25)\n",
        "ax1.set_xlabel(\"Medical Data Score Distribution\")\n"
      ],
      "execution_count": null,
      "outputs": []
    },
    {
      "cell_type": "markdown",
      "metadata": {
        "id": "H9u2XL6HB6AZ"
      },
      "source": [
        "## **Select the base model to fine tune, and pass it to the train loop**\n",
        "We then evaluate the PCC on the dev set.  \n",
        "Note: Only bad examples and scores are printed."
      ]
    },
    {
      "cell_type": "markdown",
      "metadata": {
        "id": "MWblCP_2hGlS"
      },
      "source": [
        "# BERT FINE TUNE ON CLINICAL"
      ]
    },
    {
      "cell_type": "code",
      "metadata": {
        "id": "dxLPnCm1CCBK",
        "outputId": "a6b1dc24-6bc9-453b-de1c-8fd8d7caba72",
        "colab": {
          "base_uri": "https://localhost:8080/",
          "height": 1000
        }
      },
      "source": [
        "SENT_TYPE=\"CLINICAL\"\n",
        "MODEL = \"bert-base-uncased\"\n",
        "my_bert = BertModel.from_pretrained(MODEL, output_hidden_states=True)\n",
        "my_bert.cuda()\n",
        "\n",
        "regression_head = linearRegression().cuda()\n",
        "linear_regression_optimizer = torch.optim.Adam(regression_head.parameters(), lr=1e-5)\n",
        "\n",
        "\n",
        "tokenizer = BertTokenizer.from_pretrained(MODEL, output_hidden_states=True)\n",
        "train_dataloader, test_dataloader = load_data(tokenizer=tokenizer, batch_size=8, sent_type=SENT_TYPE)\n",
        "bert_config = BertConfig.from_pretrained(MODEL, output_hidden_states=True)\n",
        "my_bert_optimizer = AdamW(get_optimizer_params(my_bert), lr=1e-6)\n",
        "updated_model, regression_head = run_new_method(my_bert=my_bert, optimizer=my_bert_optimizer, # optimizer\n",
        "                                                regression_head=regression_head, \n",
        "                                                regression_optimizer=linear_regression_optimizer,\n",
        "                                                train_dataloader=train_dataloader,\n",
        "                                                test_dataloader=test_dataloader,\n",
        "                                                epochs=15)\n",
        "\n",
        "pcc = evaluate_model(updated_model, regression_head, test_dataloader)\n",
        "model_loc = \"/content/drive/My Drive/clinical-sts/models/{}-bert-{}-{:.4f}.pth\".format(SENT_TYPE, MODEL, pcc)\n",
        "regression_loc = \"/content/drive/My Drive/clinical-sts/models/{}-regression-{}-{:.4f}.pth\".format(SENT_TYPE, MODEL, pcc)\n",
        "torch.save(updated_model, model_loc)\n",
        "torch.save(regression_head, regression_loc)\n",
        "print(\"Saved at:\\n'{}'\\n'{}'\".format(model_loc, regression_loc))\n",
        "\n"
      ],
      "execution_count": 11,
      "outputs": [
        {
          "output_type": "stream",
          "text": [
            "Epoch: 0 Train Loss:3.298357872057844\n",
            "dev loss: 1.3038518281982225\n",
            "\n",
            "Epoch: 1 Train Loss:1.0394384941017185\n",
            "dev loss: 0.9704904159640565\n",
            "\n",
            "Epoch: 2 Train Loss:0.7530986299531327\n",
            "dev loss: 0.834207834347206\n",
            "\n",
            "Epoch: 3 Train Loss:0.609519286343345\n",
            "dev loss: 0.7518821424421143\n",
            "\n",
            "Epoch: 4 Train Loss:0.5164313142222386\n",
            "dev loss: 0.7156669142491677\n",
            "\n",
            "Epoch: 5 Train Loss:0.45017093197891006\n",
            "dev loss: 0.6987083650687161\n",
            "\n",
            "Epoch: 6 Train Loss:0.39937123556931814\n",
            "dev loss: 0.6929923291592037\n",
            "\n",
            "Epoch: 7 Train Loss:0.36061688523601604\n",
            "dev loss: 0.698101512320778\n",
            "\n",
            "Epoch: 8 Train Loss:0.32712502791373815\n",
            "dev loss: 0.6896761704017135\n",
            "\n",
            "Epoch: 9 Train Loss:0.2837253684281475\n",
            "dev loss: 0.6922246892662609\n",
            "\n",
            "Epoch: 10 Train Loss:0.2660764479526767\n",
            "dev loss: 0.6846528021509156\n",
            "\n",
            "Epoch: 11 Train Loss:0.24206237842639286\n",
            "dev loss: 0.676625757752096\n",
            "\n",
            "new test loss is greater; breaking\n",
            "3.00    -0.15          3.15     the patient is not currently experiencing numbness to the effected limb.    |||    the patient has intact sensation to fine touch over the deltoid bilaterally.\n",
            "2.00    4.08          2.08     patient's wife verbalized understanding and had no further questions or concerns at this time.    |||    no further questions or concerns at this time.\n",
            "3.45    0.76          2.69     goals : patient will demonstrate a 50% decrease in pain in 6 sessions for increased participation in life or work activities.    |||    patient will demonstrate and / or verbalize understanding of home exercise program in 6 sessions for improved self management of the condition.\n",
            "3.00    0.96          2.04     she denies shortness of breath or chest pain.    |||    patient has not had sore throat, shortness of breath, eye irritation, facial pain, ear pain.\n",
            "1.50    4.18          2.68     if you have any further questions or concerns, please contact our office.    |||    no questions or concerns at conclusion of treatment.\n",
            "2.00    -0.01          2.01     the patient appeared pleased with the orthotic adjustment.    |||    the patient has crutches and instructions were given to bring them with to the hospital.\n",
            "5.00    2.52          2.48     always use a thin towel between the ice and your skin when applying ice.    |||    place a towel between your skin and the ice pack.\n",
            "4.50    1.46          3.04     he was appreciative and had no other questions.    |||    patient was given the recommendations and she had no further concerns at this time.\n",
            "3.00    0.26          2.74     the patient has intact sensation to fine touch over the deltoid bilaterally.    |||    the patient is not currently experiencing numbness to the effected limb.\n",
            "2.00    4.13          2.13     no further questions or concerns at this time.    |||    patient's wife verbalized understanding and had no further questions or concerns at this time.\n",
            "3.45    0.73          2.72     patient will demonstrate and / or verbalize understanding of home exercise program in 6 sessions for improved self management of the condition.    |||    goals : patient will demonstrate a 50% decrease in pain in 6 sessions for increased participation in life or work activities.\n",
            "3.00    0.98          2.02     patient has not had sore throat, shortness of breath, eye irritation, facial pain, ear pain.    |||    she denies shortness of breath or chest pain.\n",
            "1.50    4.10          2.60     no questions or concerns at conclusion of treatment.    |||    if you have any further questions or concerns, please contact our office.\n",
            "2.00    -0.00          2.00     the patient has crutches and instructions were given to bring them with to the hospital.    |||    the patient appeared pleased with the orthotic adjustment.\n",
            "5.00    2.35          2.65     place a towel between your skin and the ice pack.    |||    always use a thin towel between the ice and your skin when applying ice.\n",
            "4.50    1.70          2.80     patient was given the recommendations and she had no further concerns at this time.    |||    he was appreciative and had no other questions.\n",
            "4.50    2.47          2.03     the patient tolerated the procedure well and then was taken to the general care floor following the procedure for continued observation and monitoring.    |||    she tolerated the procedure well and there no complications.\n",
            "\n",
            "\n",
            "\n",
            "\n",
            "Correlation score:  0.8190994722863677\n",
            "R2 Score:  0.6486950407484822\n",
            "Saved at:\n",
            "'/content/drive/My Drive/clinical-sts/models/CLINICAL-bert-bert-base-uncased-0.8191.pth'\n",
            "'/content/drive/My Drive/clinical-sts/models/CLINICAL-regression-bert-base-uncased-0.8191.pth'\n"
          ],
          "name": "stdout"
        },
        {
          "output_type": "display_data",
          "data": {
            "image/png": "[encoded data removed]",
            "text/plain": [
              "<Figure size 432x288 with 1 Axes>"
            ]
          },
          "metadata": {
            "tags": [],
            "needs_background": "light"
          }
        }
      ]
    },
    {
      "cell_type": "markdown",
      "metadata": {
        "id": "CFDpF2aKhOEc"
      },
      "source": [
        "# BERT FINE TUNE ON MEDICAL"
      ]
    },
    {
      "cell_type": "code",
      "metadata": {
        "id": "NCCwt3GxY16y",
        "outputId": "ccb92495-c5a1-4a68-faa7-2cb6f383386d",
        "colab": {
          "base_uri": "https://localhost:8080/",
          "height": 622
        }
      },
      "source": [
        "SENT_TYPE=\"MEDICAL\"\n",
        "MODEL = \"bert-base-uncased\"\n",
        "my_bert = BertModel.from_pretrained(MODEL, output_hidden_states=True)\n",
        "my_bert.cuda()\n",
        "\n",
        "regression_head = linearRegression().cuda()\n",
        "linear_regression_optimizer = torch.optim.Adam(regression_head.parameters(), lr=1e-4)\n",
        "\n",
        "\n",
        "tokenizer = BertTokenizer.from_pretrained(MODEL, output_hidden_states=True)\n",
        "train_dataloader, test_dataloader = load_data(tokenizer=tokenizer, batch_size=8, sent_type=SENT_TYPE)\n",
        "bert_config = BertConfig.from_pretrained(MODEL, output_hidden_states=True)\n",
        "my_bert_optimizer = AdamW(get_optimizer_params(my_bert), lr=1e-5)\n",
        "updated_model, regression_head = run_new_method(my_bert=my_bert, optimizer=my_bert_optimizer, # optimizer\n",
        "                                                regression_head=regression_head, \n",
        "                                                regression_optimizer=linear_regression_optimizer,\n",
        "                                                train_dataloader=train_dataloader,\n",
        "                                                test_dataloader=test_dataloader,\n",
        "                                                epochs=5)\n",
        "\n",
        "pcc = evaluate_model(updated_model, regression_head, test_dataloader)\n",
        "model_loc = \"/content/drive/My Drive/clinical-sts/models/{}-bert-{}-{:.2f}.pth\".format(SENT_TYPE, MODEL, pcc)\n",
        "regression_loc = \"/content/drive/My Drive/clinical-sts/models/{}-regression-{}-{:.2f}.pth\".format(SENT_TYPE, MODEL, pcc)\n",
        "torch.save(updated_model, model_loc)\n",
        "torch.save(regression_head, regression_loc)\n",
        "print(\"Saved at:\\n'{}'\\n'{}'\".format(model_loc, regression_loc))"
      ],
      "execution_count": 10,
      "outputs": [
        {
          "output_type": "stream",
          "text": [
            "Epoch: 0 Train Loss:1.0704144894099625\n",
            "dev loss: 0.7635194063186646\n",
            "\n",
            "Epoch: 1 Train Loss:0.5875688332026122\n",
            "dev loss: 0.7165670283138752\n",
            "\n",
            "Epoch: 2 Train Loss:0.4527077880062041\n",
            "dev loss: 0.9039846509695053\n",
            "\n",
            "new test loss is greater; breaking\n",
            "3.00    0.79          2.21     metformin [ glucophage ] 500 mg tablet 1 - 2 tablets by mouth two times a day.    |||    furosemide 40 mg tablet 1 tablet by mouth one time daily.\n",
            "3.00    0.77          2.23     furosemide 40 mg tablet 1 tablet by mouth one time daily.    |||    metformin [ glucophage ] 500 mg tablet 1 - 2 tablets by mouth two times a day.\n",
            "\n",
            "\n",
            "\n",
            "\n",
            "Correlation score:  0.6022246804890707\n",
            "R2 Score:  0.18653735494519164\n",
            "Saved at:\n",
            "'/content/drive/My Drive/clinical-sts/models/MEDICAL-bert-bert-base-uncased-0.60.pth'\n",
            "'/content/drive/My Drive/clinical-sts/models/MEDICAL-regression-bert-base-uncased-0.60.pth'\n"
          ],
          "name": "stdout"
        },
        {
          "output_type": "display_data",
          "data": {
            "image/png": "[encoded data removed]",
            "text/plain": [
              "<Figure size 432x288 with 1 Axes>"
            ]
          },
          "metadata": {
            "tags": [],
            "needs_background": "light"
          }
        }
      ]
    },
    {
      "cell_type": "markdown",
      "metadata": {
        "id": "fXsSZy25hQQP"
      },
      "source": [
        "# BIO-BERT FINE TUNE ON CLINICAL"
      ]
    },
    {
      "cell_type": "code",
      "metadata": {
        "id": "DOV712JuY_FP",
        "outputId": "5e419f74-2397-437b-dba7-8e1bb0d116f6",
        "colab": {
          "base_uri": "https://localhost:8080/",
          "height": 710
        }
      },
      "source": [
        "SENT_TYPE=\"CLINICAL\"\n",
        "MODEL = \"/content/drive/My Drive/clinical-sts/bio-bert/\"\n",
        "my_bert = BertModel.from_pretrained(MODEL, output_hidden_states=True)\n",
        "my_bert.cuda()\n",
        "\n",
        "regression_head = linearRegression().cuda()\n",
        "linear_regression_optimizer = torch.optim.Adam(regression_head.parameters(), lr=1e-4)\n",
        "\n",
        "\n",
        "tokenizer = AutoTokenizer.from_pretrained(MODEL, output_hidden_states=True)\n",
        "train_dataloader, test_dataloader = load_data(tokenizer=tokenizer, batch_size=8, sent_type=SENT_TYPE)\n",
        "bert_config = BertConfig.from_pretrained(MODEL, output_hidden_states=True)\n",
        "my_bert_optimizer = AdamW(get_optimizer_params(my_bert), lr=1e-5)\n",
        "updated_model, regression_head = run_new_method(my_bert=my_bert, optimizer=my_bert_optimizer, # optimizer\n",
        "                                                regression_head=regression_head, \n",
        "                                                regression_optimizer=linear_regression_optimizer,\n",
        "                                                train_dataloader=train_dataloader,\n",
        "                                                test_dataloader=test_dataloader,\n",
        "                                                epochs=3)\n",
        "\n",
        "pcc = evaluate_model(updated_model, regression_head, test_dataloader)\n",
        "model_name = \"bio-bert\"\n",
        "model_loc = \"/content/drive/My Drive/clinical-sts/models/{}-bert-{}-{:.2f}.pth\".format(SENT_TYPE, model_name, pcc)\n",
        "regression_loc = \"/content/drive/My Drive/clinical-sts/models/{}-regression-{}-{:.2f}.pth\".format(SENT_TYPE, model_name, pcc)\n",
        "torch.save(updated_model, model_loc)\n",
        "torch.save(regression_head, regression_loc)\n",
        "print(\"Saved at:\\n'{}'\\n'{}'\".format(model_loc, regression_loc))"
      ],
      "execution_count": 19,
      "outputs": [
        {
          "output_type": "stream",
          "text": [
            "Epoch: 0 Train Loss:1.2176987404900568\n",
            "dev loss: 0.6022303312578622\n",
            "\n",
            "new test loss is greater; breaking\n",
            "4.50    2.10          2.40     alert and oriented x 3. pleasant and cooperative.    |||    neurological : he is oriented to person, place, and time.\n",
            "3.00    0.52          2.48     the patient is not currently experiencing numbness to the effected limb.    |||    the patient has intact sensation to fine touch over the deltoid bilaterally.\n",
            "2.00    4.53          2.53     patient's wife verbalized understanding and had no further questions or concerns at this time.    |||    no further questions or concerns at this time.\n",
            "4.50    2.47          2.03     the past medical history, medications, allergies, family history and social history were reviewed and are present in the emr.    |||    the following portions of the patient's history were reviewed and updated as appropriate : social history, surgical history and problem list.\n",
            "3.45    1.32          2.13     goals : patient will demonstrate a 50% decrease in pain in 6 sessions for increased participation in life or work activities.    |||    patient will demonstrate and / or verbalize understanding of home exercise program in 6 sessions for improved self management of the condition.\n",
            "4.50    2.27          2.23     she tolerated the procedure well and there no complications.    |||    the patient tolerated the procedure well and then was taken to the general care floor following the procedure for continued observation and monitoring.\n",
            "4.50    2.37          2.13     neurological : he is oriented to person, place, and time.    |||    alert and oriented x 3. pleasant and cooperative.\n",
            "3.00    0.59          2.41     the patient has intact sensation to fine touch over the deltoid bilaterally.    |||    the patient is not currently experiencing numbness to the effected limb.\n",
            "2.00    4.47          2.47     no further questions or concerns at this time.    |||    patient's wife verbalized understanding and had no further questions or concerns at this time.\n",
            "3.45    1.17          2.28     patient will demonstrate and / or verbalize understanding of home exercise program in 6 sessions for improved self management of the condition.    |||    goals : patient will demonstrate a 50% decrease in pain in 6 sessions for increased participation in life or work activities.\n",
            "1.50    3.82          2.32     please refer to his note for full details.    |||    client has participated in ot biofeedback, please refer to ot biofeedback note for details.\n",
            "4.50    2.46          2.04     the patient tolerated the procedure well and then was taken to the general care floor following the procedure for continued observation and monitoring.    |||    she tolerated the procedure well and there no complications.\n",
            "\n",
            "\n",
            "\n",
            "\n",
            "Correlation score:  0.8298643536160089\n",
            "R2 Score:  0.6871727000936276\n",
            "Saved at:\n",
            "'/content/drive/My Drive/clinical-sts/models/CLINICAL-bert-bio-bert-0.83.pth'\n",
            "'/content/drive/My Drive/clinical-sts/models/CLINICAL-regression-bio-bert-0.83.pth'\n"
          ],
          "name": "stdout"
        },
        {
          "output_type": "display_data",
          "data": {
            "image/png": "[encoded data removed]",
            "text/plain": [
              "<Figure size 432x288 with 1 Axes>"
            ]
          },
          "metadata": {
            "tags": [],
            "needs_background": "light"
          }
        }
      ]
    },
    {
      "cell_type": "markdown",
      "metadata": {
        "id": "U6XS3PXchTJX"
      },
      "source": [
        "# BIO-BERT FINE TUNE ON MEDICAL"
      ]
    },
    {
      "cell_type": "code",
      "metadata": {
        "id": "bUPYH1dEiZfQ",
        "outputId": "af040f38-1814-4711-e9df-98a347bb28f0",
        "colab": {
          "base_uri": "https://localhost:8080/",
          "height": 571
        }
      },
      "source": [
        "SENT_TYPE=\"MEDICAL\"\n",
        "MODEL = \"/content/drive/My Drive/clinical-sts/bio-bert/\"\n",
        "my_bert = BertModel.from_pretrained(MODEL, output_hidden_states=True)\n",
        "my_bert.cuda()\n",
        "\n",
        "regression_head = linearRegression().cuda()\n",
        "linear_regression_optimizer = torch.optim.Adam(regression_head.parameters(), lr=1e-4)\n",
        "\n",
        "\n",
        "tokenizer = AutoTokenizer.from_pretrained(MODEL, output_hidden_states=True)\n",
        "train_dataloader, test_dataloader = load_data(tokenizer=tokenizer, batch_size=8, sent_type=SENT_TYPE)\n",
        "bert_config = BertConfig.from_pretrained(MODEL, output_hidden_states=True)\n",
        "my_bert_optimizer = AdamW(get_optimizer_params(my_bert), lr=1e-5)\n",
        "updated_model, regression_head = run_new_method(my_bert=my_bert, optimizer=my_bert_optimizer, # optimizer\n",
        "                                                regression_head=regression_head, \n",
        "                                                regression_optimizer=linear_regression_optimizer,\n",
        "                                                train_dataloader=train_dataloader,\n",
        "                                                test_dataloader=test_dataloader,\n",
        "                                                epochs=3)\n",
        "\n",
        "pcc = evaluate_model(updated_model, regression_head, test_dataloader)\n",
        "model_name = \"bio-bert\"\n",
        "model_loc = \"/content/drive/My Drive/clinical-sts/models/{}-bert-{}-{:.2f}.pth\".format(SENT_TYPE, model_name, pcc)\n",
        "regression_loc = \"/content/drive/My Drive/clinical-sts/models/{}-regression-{}-{:.2f}.pth\".format(SENT_TYPE, model_name, pcc)\n",
        "torch.save(updated_model, model_loc)\n",
        "torch.save(regression_head, regression_loc)\n",
        "print(\"Saved at:\\n'{}'\\n'{}'\".format(model_loc, regression_loc))"
      ],
      "execution_count": 23,
      "outputs": [
        {
          "output_type": "stream",
          "text": [
            "Epoch: 0 Train Loss:1.2410147082610208\n",
            "dev loss: 0.7762654032558203\n",
            "\n",
            "Epoch: 1 Train Loss:0.6183263180685825\n",
            "dev loss: 0.6620215158909559\n",
            "\n",
            "Epoch: 2 Train Loss:0.4827575686036563\n",
            "dev loss: 0.6456039138138294\n",
            "\n",
            "\n",
            "\n",
            "\n",
            "\n",
            "Correlation score:  0.6537074888172552\n",
            "R2 Score:  0.40395896874296544\n",
            "Saved at:\n",
            "'/content/drive/My Drive/clinical-sts/models/MEDICAL-bert-bio-bert-0.65.pth'\n",
            "'/content/drive/My Drive/clinical-sts/models/MEDICAL-regression-bio-bert-0.65.pth'\n"
          ],
          "name": "stdout"
        },
        {
          "output_type": "display_data",
          "data": {
            "image/png": "[encoded data removed]",
            "text/plain": [
              "<Figure size 432x288 with 1 Axes>"
            ]
          },
          "metadata": {
            "tags": [],
            "needs_background": "light"
          }
        }
      ]
    }
  ]
}