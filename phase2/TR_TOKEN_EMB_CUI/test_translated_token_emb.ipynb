{
  "nbformat": 4,
  "nbformat_minor": 0,
  "metadata": {
    "colab": {
      "name": "test_translated_token_emb.ipynb",
      "provenance": [],
      "collapsed_sections": []
    },
    "kernelspec": {
      "name": "python3",
      "display_name": "Python 3"
    },
    "accelerator": "GPU"
  },
  "cells": [
    {
      "cell_type": "code",
      "metadata": {
        "id": "BOQowums6HHj",
        "colab": {
          "base_uri": "https://localhost:8080/"
        },
        "outputId": "f757ac20-1120-4e20-9ae6-aff0cfbe40bb"
      },
      "source": [
        "!pip install nlp transformers texttable &> /dev/null\n",
        "from dataclasses import dataclass, field\n",
        "from typing import Dict, Optional\n",
        "from typing import List\n",
        "import re\n",
        "import random\n",
        "import numpy as np\n",
        "import pandas as pd\n",
        "pd.set_option('display.max_colwidth', None)  \n",
        "from texttable import Texttable\n",
        "\n",
        "from scipy.stats import pearsonr\n",
        "from sklearn.model_selection import train_test_split\n",
        "\n",
        "import torch\n",
        "from torch import nn\n",
        "from torch.utils.data import DataLoader\n",
        "from torch.utils.data.dataset import Dataset, IterableDataset\n",
        "from transformers import BertModel, BertTokenizer, AutoTokenizer, AutoModel, BertConfig, \\\n",
        "     AdamW, set_seed, AutoConfig, PreTrainedTokenizer, DataCollator, PreTrainedModel, PreTrainedTokenizer, DataCollator, PreTrainedModel\n",
        "\n",
        "set_seed(23)\n",
        "device = torch.device(\"cuda\" if torch.cuda.is_available() else \"cpu\")\n",
        "print(device)"
      ],
      "execution_count": 1,
      "outputs": [
        {
          "output_type": "stream",
          "text": [
            "cuda\n"
          ],
          "name": "stdout"
        }
      ]
    },
    {
      "cell_type": "code",
      "metadata": {
        "id": "gvGxZxwPRzij",
        "colab": {
          "base_uri": "https://localhost:8080/"
        },
        "outputId": "c9b2a358-95a4-4320-df75-9f4e1f9931a0"
      },
      "source": [
        "from google.colab import drive\n",
        "drive.mount('/content/drive')"
      ],
      "execution_count": 2,
      "outputs": [
        {
          "output_type": "stream",
          "text": [
            "Mounted at /content/drive\n"
          ],
          "name": "stdout"
        }
      ]
    },
    {
      "cell_type": "code",
      "metadata": {
        "id": "OL-KqYLf6Ld7"
      },
      "source": [
        "# Class to store data samples, text_a, text_b\n",
        "@dataclass\n",
        "class Example:\n",
        "    text_a: str\n",
        "    text_b: str\n",
        "    cui_embedding_a: list\n",
        "    cui_embedding_b: list\n",
        "\n",
        "\n",
        "# lowercase and add space around words, remove unnecessary spaces\n",
        "def pre_process(sentence, cased=False):\n",
        "    sentence = sentence.replace(\":\", \" : \").replace(\"/\", \" / \")\\\n",
        "               .replace(\"[\", \" [ \").replace(\"]\", \" ] \").replace(\"(\", \" ( \")\\\n",
        "               .replace(\")\", \" ) \").replace(\"\\\"\", \" \\\" \").replace(\"-\", \" - \")\\\n",
        "               .replace(\"?\", \" \").lstrip().rstrip()\n",
        "    if cased:\n",
        "      return re.sub(' +',' ', sentence)\n",
        "    return re.sub(' +',' ', sentence).lower()\n",
        "\n",
        "\n",
        "# returns test and train arrays as Example Objects\n",
        "# test train split is stratified and 80-20 split\n",
        "def get_test_data(cased=False):\n",
        "    train_data = \"/content/drive/My Drive/clinical-sts/augmented_test_with_cui_embeddings.tsv\"\n",
        "    df = pd.read_csv(train_data, sep=\"\\t\", names=[\"sentence_1\", \"sentence_2\", \"gold_score\", \"label\", \"cuis_1\", \"cuis_2\", \"cui_embedding_1\", \"cui_embedding_2\"], encoding=\"utf-8\")\n",
        "    df[\"sentence_1\"] = df[\"sentence_1\"].apply(lambda sentence: pre_process(sentence, cased))\n",
        "    df[\"sentence_2\"] = df[\"sentence_2\"].apply(lambda sentence: pre_process(sentence, cased))\n",
        "    df[\"input_sample\"] = df[\"sentence_1\"] + \"<SEP>\" + df[\"sentence_2\"] + \"<SEP>\" + df[\"cui_embedding_1\"] + \"<SEP>\" + df[\"cui_embedding_2\"]\n",
        "\n",
        "    test = [Example(text_a=sample.split(\"<SEP>\")[0], \n",
        "                    text_b=sample.split(\"<SEP>\")[1],\n",
        "                    cui_embedding_a=list(map(float, sample.split(\"<SEP>\")[2].split(\",\"))),\n",
        "                    cui_embedding_b=list(map(float, sample.split(\"<SEP>\")[3].split(\",\")))) for sample in df[\"input_sample\"]]\n",
        "\n",
        "    return test\n",
        "\n",
        "\n",
        "\n",
        "\n",
        "# DYNAMIC PADDING AND UNIFORM LENGTH BATCHING - reduces wasted computation and makes it faster to run\n",
        "# CODE BORROWED FROM https://towardsdatascience.com/divide-hugging-face-transformers-training-time-by-2-or-more-21bf7129db9q-21bf7129db9e\n",
        "\n",
        "\n",
        "# We'll be creating a custome dataset using this first\n",
        "@dataclass\n",
        "class Features:\n",
        "    og_sample: Example\n",
        "    cui_embedding: List[float]\n",
        "    input_ids: List[int]\n",
        "    attention_mask: List[int]\n",
        "\n",
        "\n",
        "class TextDataset(Dataset):\n",
        "    def __init__(self, tokenizer, \n",
        "                 pad_to_max_length, \n",
        "                 max_len,\n",
        "                 examples: List[Example]):\n",
        "        self.tokenizer = tokenizer\n",
        "        self.max_len = max_len\n",
        "        self.examples: List[Example] = examples\n",
        "        self.current = 0\n",
        "        self.pad_to_max_length = pad_to_max_length\n",
        "\n",
        "    # tokenize the sentences and return a Features object for each sentence \n",
        "    def encode(self, ex: Example) -> Features:\n",
        "        encode_dict = self.tokenizer.encode_plus(text=ex.text_a,\n",
        "                                                 text_pair=ex.text_b,\n",
        "                                                 add_special_tokens=True,\n",
        "                                                 max_length=self.max_len,\n",
        "                                                 pad_to_max_length=self.pad_to_max_length,\n",
        "                                                 return_token_type_ids=False,\n",
        "                                                 return_attention_mask=True,\n",
        "                                                 return_overflowing_tokens=False,\n",
        "                                                 return_special_tokens_mask=False,\n",
        "                                                 truncation=True,\n",
        "                                                 )\n",
        "        return Features(og_sample=ex,\n",
        "                        cui_embedding=ex.cui_embedding_a+ex.cui_embedding_b,\n",
        "                        input_ids=encode_dict[\"input_ids\"],\n",
        "                        attention_mask=encode_dict[\"attention_mask\"])\n",
        "\n",
        "    def __getitem__(self, idx) -> Features:\n",
        "        return self.encode(ex=self.examples[idx])\n",
        "\n",
        "    def __len__(self):\n",
        "        return len(self.examples)\n",
        "\n",
        "\n",
        "def pad_seq(seq: List[int], max_batch_len: int, pad_value: int) -> List[int]:\n",
        "    return seq + (max_batch_len - len(seq)) * [pad_value]\n",
        "\n",
        "\n",
        "# Smart Collator is used to create batches which are dynamically padded with uniform length \n",
        "@dataclass\n",
        "class SmartCollator:  # (DataCollator):\n",
        "    pad_token_id: int\n",
        "\n",
        "    def collate_batch(self, batch: List[Features]) -> Dict[str, torch.Tensor]:\n",
        "        batch_og_sample = list()\n",
        "        batch_cui_embedding = list()\n",
        "        batch_inputs = list()\n",
        "        batch_attention_masks = list()\n",
        "        labels = list()\n",
        "        max_size = max([len(ex.input_ids) for ex in batch])\n",
        "        for item in batch:\n",
        "            batch_inputs += [pad_seq(item.input_ids, max_size, self.pad_token_id)]\n",
        "            batch_attention_masks += [pad_seq(item.attention_mask, max_size, 0)]\n",
        "            batch_og_sample.append(item)\n",
        "            batch_cui_embedding.append(np.array(item.cui_embedding))\n",
        "\n",
        "        return {\"input_ids\": torch.tensor(batch_inputs, dtype=torch.long),\n",
        "                \"attention_mask\": torch.tensor(batch_attention_masks, dtype=torch.long),\n",
        "                \"og_sample\": batch_og_sample,\n",
        "                \"cui_embedding\": torch.tensor(batch_cui_embedding, dtype=torch.float)\n",
        "                }\n",
        "                \n",
        "def collate_wrapper(data):\n",
        "    collator = SmartCollator(pad_token_id=tokenizer.pad_token_id)\n",
        "    return collator.collate_batch(data)\n",
        "\n",
        "\n",
        "# USE THIS FUNCTION TO LOAD TEST AND TRAIN DATA AND ITERATE THROUGH THEM\n",
        "def load_test_data(tokenizer, batch_size, cased=False):\n",
        "    # Get train and test Data Examples\n",
        "    test = get_test_data(cased)\n",
        "\n",
        "    # Now tokenize the words and convert them to token IDs\n",
        "    max_sequence_len = 256\n",
        "    test_set = TextDataset(tokenizer=tokenizer,\n",
        "                            max_len=max_sequence_len,\n",
        "                            examples=test,\n",
        "                            pad_to_max_length=True)\n",
        "\n",
        "    test_dataloader = DataLoader(test_set, batch_size=batch_size, shuffle=False, num_workers=0, collate_fn=collate_wrapper,\n",
        "              pin_memory=False, drop_last=False, timeout=0,\n",
        "              worker_init_fn=None)\n",
        "    \n",
        "    return test_dataloader"
      ],
      "execution_count": 5,
      "outputs": []
    },
    {
      "cell_type": "code",
      "metadata": {
        "id": "4QfchdW56MMU"
      },
      "source": [
        "# def get_bert_output(my_bert, input_ids, attention_mask):    \n",
        "#     outputs = my_bert(input_ids, attention_mask=attention_mask)\n",
        "#     hidden_states = outputs[2]\n",
        "#     sent_embedding = hidden_states[11][:, 0:1, :].squeeze(1).cuda()\n",
        "#     return sent_embedding\n",
        "\n",
        "def get_bert_token_mean_output(my_bert, input_ids, attention_mask):  \n",
        "    outputs = my_bert(input_ids, attention_mask=attention_mask)\n",
        "    token_embeddings = outputs[0][:, 1:, :]\n",
        "    attention_mask = attention_mask[:, 1:]\n",
        "    input_mask_expanded = attention_mask.unsqueeze(-1).expand(token_embeddings.size()).float()\n",
        "    sum_embeddings = torch.sum(token_embeddings * input_mask_expanded, 1)\n",
        "    sum_mask = torch.clamp(input_mask_expanded.sum(1), min=1e-9)\n",
        "    return sum_embeddings / sum_mask\n",
        "\n",
        "\n",
        "'''\n",
        "    Method to predict using a given bert model and its regression head weights\n",
        "'''\n",
        "def get_predictions(model, regression, test_dataloader):\n",
        "    predicted = list()\n",
        "    model.eval()\n",
        "    with torch.no_grad():\n",
        "        for batch_data in test_dataloader:\n",
        "            input_ids = batch_data[\"input_ids\"].to(device)\n",
        "            attention_mask = batch_data[\"attention_mask\"].to(device)\n",
        "            cui_embedding = batch_data[\"cui_embedding\"].to(device)\n",
        "\n",
        "            bert_embedding = get_bert_token_mean_output(model, input_ids, attention_mask)\n",
        "            bert_cui_embedding = torch.cat((bert_embedding, cui_embedding), dim=1)\n",
        "\n",
        "            predicted_score = regression(bert_cui_embedding)\n",
        "            predicted.extend(predicted_score.tolist())\n",
        "    predicted = [item[0] for item in predicted]\n",
        "    return predicted\n",
        "\n",
        "\n",
        "'''\n",
        "    Method to evaluate and calculate pcc on dev/test dataset, and show terrible predictions\n",
        "'''\n",
        "def evaluate_predictions(predictions, actual_scores, test_dataloader, show_bad_predictions=True, prediction_difference=2.0):\n",
        "    correlation, p_value = pearsonr(actual_scores, predictions)\n",
        "    print(\"Test Dataset Pearson Correlation: \", correlation)\n",
        "\n",
        "    if show_bad_predictions:\n",
        "        print(\"BAD EXAMPLES\")\n",
        "        print(\"actual  predicted     difference     SENTENCE\")\n",
        "        for act, pre, test_example in zip(actual_scores, predictions, test_dataloader):\n",
        "            og_text =  test_example['og_sample'][0].og_sample\n",
        "            if abs(pre-act) > prediction_difference:\n",
        "                print(\"{:.2f}    {:.2f}          {:.2f}     {} | {}\".format(act, pre, abs(pre-act), og_text.text_a, og_text.text_b))\n",
        "\n",
        "    show_good_predictions = False\n",
        "    if show_good_predictions:\n",
        "        print(\"GOOD EXAMPLES\")\n",
        "        print(\"actual  predicted     difference     SENTENCE\")\n",
        "        for act, pre, test_example in zip(actual_scores, predictions, test_dataloader):\n",
        "            og_text =  test_example['og_sample'][0].og_sample\n",
        "            if abs(pre-act) < 0.5:\n",
        "                print(\"{:.2f}    {:.2f}          {:.2f}     {} | {}\".format(act, pre, abs(pre-act), og_text.text_a, og_text.text_b))\n",
        "\n",
        "    d = {\"gold_scores\": actual_scores, \"predicted_scores\": predictions}\n",
        "    dx = pd.DataFrame(d)\n",
        "    dx.plot.hist(bins=20, alpha=0.25)\n",
        "\n",
        "\n",
        "def get_optimizer_params(model):\n",
        "    param_optimizer = list(model.named_parameters())\n",
        "    no_decay = ['bias', 'gamma', 'beta']\n",
        "    opt_parameters = [\n",
        "        {'params': [p for n, p in param_optimizer if not any(nd in n for nd in no_decay)],\n",
        "        'weight_decay_rate': 0.01},\n",
        "        {'params': [p for n, p in param_optimizer if any(nd in n for nd in no_decay)],\n",
        "        'weight_decay_rate': 0.0}\n",
        "    ]\n",
        "    return opt_parameters\n",
        "\n",
        "\n",
        "# required to unpickle my linear regression model - same as the one used in train.py\n",
        "# class linearRegression(nn.Module):\n",
        "#     def __init__(self):\n",
        "#         super(linearRegression, self).__init__()\n",
        "#         self.linear = nn.Linear(768, 1)\n",
        "#     def forward(self, x):\n",
        "#         out = self.linear(x)\n",
        "#         return out\n",
        "\n",
        "class linearRegression(nn.Module):\n",
        "    def __init__(self):\n",
        "        super(linearRegression, self).__init__()\n",
        "        self.linear_1 = nn.Sequential(\n",
        "                            nn.Linear(868, 256),\n",
        "                            nn.ReLU())\n",
        "        self.linear_2 = nn.Linear(256, 1)\n",
        "    def forward(self, x):\n",
        "        out = self.linear_1(x)\n",
        "        out = self.linear_2(out)\n",
        "        return out\n"
      ],
      "execution_count": 6,
      "outputs": []
    },
    {
      "cell_type": "code",
      "metadata": {
        "id": "oeaQdt0q8z7H",
        "colab": {
          "base_uri": "https://localhost:8080/",
          "height": 574
        },
        "outputId": "ffa43c0c-b3ff-4afb-94f8-9a079316ac2b"
      },
      "source": [
        "tokenizer = BertTokenizer.from_pretrained(\"bert-base-uncased\", output_hidden_states=True)\n",
        "test_dataloader = load_test_data(tokenizer=tokenizer, batch_size=1)\n",
        "\n",
        "my_bert = torch.load(\"/content/drive/My Drive/clinical-sts/models/tr-token-dnn-bert-bert-base-uncased-0.8893.pth\")\n",
        "my_bert.cuda()\n",
        "regression = torch.load(\"/content/drive/My Drive/clinical-sts/models/tr-token-dnn-regression-bert-base-uncased-0.8893.pth\")\n",
        "\n",
        "predictions = get_predictions(my_bert, regression, test_dataloader)\n",
        "gs_scores = open(\"/content/drive/My Drive/clinical-sts/clinicalSTS2019.test.gs.sim.txt\", \"r\")\n",
        "actual_scores = [float(x.strip()) for x in gs_scores.readlines()]\n",
        "\n",
        "evaluate_predictions(predictions, actual_scores, test_dataloader, show_bad_predictions=True, prediction_difference=2.0)\n"
      ],
      "execution_count": 35,
      "outputs": [
        {
          "output_type": "stream",
          "text": [
            "/usr/local/lib/python3.6/dist-packages/transformers/tokenization_utils_base.py:2022: FutureWarning: The `pad_to_max_length` argument is deprecated and will be removed in a future version, use `padding=True` or `padding='longest'` to pad to the longest sequence in the batch, or use `padding='max_length'` to pad to a max length. In this case, you can give a specific length with `max_length` (e.g. `max_length=45`) or leave max_length to None to pad to the maximal input size of the model (e.g. 512 for Bert).\n",
            "  FutureWarning,\n"
          ],
          "name": "stderr"
        },
        {
          "output_type": "stream",
          "text": [
            "Test Dataset Pearson Correlation:  0.8147363633195741\n",
            "BAD EXAMPLES\n",
            "actual  predicted     difference     SENTENCE\n",
            "0.00    2.46          2.46     the diagnosis and treatment plans were explained and the patient expressed understanding of the content. | patient and i processed some of the automatic thoughts, the moods associated with them, and the thought distortions accompanying the feelings.\n",
            "0.00    2.15          2.15     qsymia 3.75 - 23 mg capsule multiphasic release 24 hour 1 capsule by mouth one time daily. | aleve 220 mg tablet 2 tablets by mouth one time daily as needed.\n",
            "0.50    3.30          2.80     take a cellphone with you on the way to the emergency department. | reasons to return to the emergency department were discussed.\n",
            "1.50    3.93          2.43     mental : alert and oriented to person, place and time. | she demonstrated understanding and agreed to proceed as noted.\n",
            "1.00    3.27          2.27     she has no formal services at this time. | the patient has no further questions or concerns at this time.\n",
            "0.50    2.65          2.15     male who presents for evaluation of knee pain ( right ) . | female who presents for evaluation of ear infection / ear pain.\n",
            "0.00    2.57          2.57     please contact location at phone number with any questions or concerns regarding this patient. | patient discharged ambulatory without further questions or concerns noted.\n",
            "1.50    3.64          2.14     i have reviewed the note and confirmed findings and recommendations. | she is calling for further evaluation and recommendations.\n",
            "0.00    3.80          3.80     others you do with the help of your health care team. | thank you for choosing the name, aprn, c.n.p., d.n.p.. care team for your health care needs!\n",
            "0.50    2.63          2.13     the medication should be used for 1 to 2 weeks after surgery. | do not sit in a tub with the wounds submerged for 2 - 3 weeks following your surgery.\n",
            "0.00    2.53          2.53     development : appropriate for age and growth are appropriate for age. | age - appropriate anticipatory guidance and injury prevention information was discussed.\n",
            "2.50    0.39          2.11     the above has been discussed and reviewed in detail with the patient. | the family was advised that the content of this interview will be shared with the health care team.\n"
          ],
          "name": "stdout"
        },
        {
          "output_type": "display_data",
          "data": {
            "image/png": "[encoded data removed]",
            "text/plain": [
              "<Figure size 432x288 with 1 Axes>"
            ]
          },
          "metadata": {
            "tags": [],
            "needs_background": "light"
          }
        }
      ]
    },
    {
      "cell_type": "code",
      "metadata": {
        "colab": {
          "base_uri": "https://localhost:8080/",
          "height": 1000
        },
        "id": "yQ3s5gW0bIBi",
        "outputId": "cc282c24-9f90-42f6-dff4-bd40b4ec41d1"
      },
      "source": [
        "tokenizer = BertTokenizer.from_pretrained(\"/content/drive/My Drive/clinical-sts/bio-bert/\", output_hidden_states=True)\n",
        "test_dataloader = load_test_data(tokenizer=tokenizer, batch_size=1)\n",
        "\n",
        "my_bert = torch.load(\"/content/drive/My Drive/clinical-sts/models/tr-token-dnn-bert-bio-bert-0.9104.pth\")\n",
        "my_bert.cuda()\n",
        "regression = torch.load(\"/content/drive/My Drive/clinical-sts/models/tr-token-dnn-regression-bio-bert-0.9104.pth\")\n",
        "\n",
        "predictions = get_predictions(my_bert, regression, test_dataloader)\n",
        "gs_scores = open(\"/content/drive/My Drive/clinical-sts/clinicalSTS2019.test.gs.sim.txt\", \"r\")\n",
        "actual_scores = [float(x.strip()) for x in gs_scores.readlines()]\n",
        "\n",
        "evaluate_predictions(predictions, actual_scores, test_dataloader, show_bad_predictions=True, prediction_difference=2.0)\n"
      ],
      "execution_count": 43,
      "outputs": [
        {
          "output_type": "stream",
          "text": [
            "/usr/local/lib/python3.6/dist-packages/transformers/tokenization_utils_base.py:2022: FutureWarning: The `pad_to_max_length` argument is deprecated and will be removed in a future version, use `padding=True` or `padding='longest'` to pad to the longest sequence in the batch, or use `padding='max_length'` to pad to a max length. In this case, you can give a specific length with `max_length` (e.g. `max_length=45`) or leave max_length to None to pad to the maximal input size of the model (e.g. 512 for Bert).\n",
            "  FutureWarning,\n"
          ],
          "name": "stderr"
        },
        {
          "output_type": "stream",
          "text": [
            "Test Dataset Pearson Correlation:  0.7731426900227125\n",
            "BAD EXAMPLES\n",
            "actual  predicted     difference     SENTENCE\n",
            "1.00    3.36          2.36     pantoprazole [ protonix ] 40 mg tablet enteric coated 1 tablet by mouth daily before am meal. | fluconazole [ diflucan ] 150 mg tablet 1 tablet by mouth one time daily.\n",
            "0.50    2.67          2.17     left upper extremity : inspection, palpation examined and normal. | abdomen : liver and spleen, bowel sounds examined and normal.\n",
            "0.00    2.20          2.20     the diagnosis and treatment plans were explained and the patient expressed understanding of the content. | patient and i processed some of the automatic thoughts, the moods associated with them, and the thought distortions accompanying the feelings.\n",
            "0.50    3.12          2.62     take a cellphone with you on the way to the emergency department. | reasons to return to the emergency department were discussed.\n",
            "1.00    3.24          2.24     hydrochlorothiazide 25 mg tablet one - half tablet by mouth every morning. | crestor 20 mg tablet 1 tablet by mouth one time daily.\n",
            "1.00    3.00          2.00     valtrex 1 gram tablet 1 tablet by mouth one time daily. | hydrocortisone 2.5 % cream 1 apply topically one time daily.\n",
            "1.00    3.37          2.37     omeprazole [ prilosec ] 20 mg capsule enteric coated 1 capsule by mouth two times a day. | vitamin d3 2,000 unit capsule 1 capsule by mouth one time daily.\n",
            "0.50    2.62          2.12     the patient tolerated the procedure well with no complications. | the patient has no other concerns at this time.\n",
            "2.50    0.48          2.02     patient seen and discussed with supervising consultant, dr. hand, who evaluated the patient and concurs with the assessment and plan. | the consent form was reviewed with the patient and her partner.\n",
            "1.00    3.02          2.02     ketoprofen 75 mg capsule 1 capsule by mouth two times a day as needed. | budesonide [ entocort ec ] 3 mg capsule sustained release 24 hour 3 capsules by mouth one time daily.\n",
            "1.00    3.23          2.23     ondansetron [ zofran ] 4 mg tablet 1 tablet by mouth three times a day as needed. | vitamin d3 [ vitamin d3 ] 1000 unit tablet 1 tablet by mouth one time daily.\n",
            "1.00    3.34          2.34     gabapentin [ neurontin ] 600 mg tablet 1 tablet by mouth two times a day. | acetaminophen [ tylenol ] 500 mg tablet 2 tablets by mouth three times a day as needed.\n",
            "1.00    3.12          2.12     oxybutynin [ ditropan xl ] 15 mg tablet er 24 hour 1 tablet by mouth one time daily. | ibuprofen 200 mg tablet 3 tablets by mouth as needed.\n",
            "0.00    2.07          2.07     please contact location at phone number with any questions or concerns regarding this patient. | patient discharged ambulatory without further questions or concerns noted.\n",
            "1.00    3.14          2.14     metoprolol tartrate [ lopressor ] 100 mg tablet 1 tablet by mouth two times a day. | acetaminophen [ tylenol ] 325 mg tablet 2 tablets by mouth every 4 hours as needed.\n",
            "0.00    2.25          2.25     patient was able to teach back concepts discussed. | patient had some discomfort but was able to tolerate procedure.\n",
            "1.00    3.04          2.04     doxycycline [ vibra - tabs ] 100 mg tablet 1 tablet by mouth two times a day. | indomethacin [ indocin ] 50 mg capsule 1 capsule by mouth three times a day as needed.\n",
            "1.00    3.26          2.26     duloxetine [ cymbalta ] 20 mg capsule enteric coated 1 capsule by mouth one time daily. | dexamethasone 4 mg tablet 1 tablet by mouth one time daily.\n",
            "2.00    4.25          2.25     gastrointestinal : negative for abdominal distention, abdominal pain, blood in stool, constipation, diarrhea, hematemesis, nausea and vomiting. | gastrointestinal : positive for abdominal distention, abdominal pain, nausea and vomiting.\n",
            "1.00    3.24          2.24     doxycycline [ vibra - tabs ] 100 mg tablet 1 tablet by mouth two times a day. | hydrochlorothiazide 25 mg tablet one - half tablet by mouth every morning.\n",
            "0.00    4.25          4.25     others you do with the help of your health care team. | thank you for choosing the name, aprn, c.n.p., d.n.p.. care team for your health care needs!\n",
            "0.00    2.21          2.21     the patient is due for a provider visit at this time. | there are no other complaints at this time.\n",
            "1.00    3.28          2.28     celexa 20 mg tablet 1 tablet by mouth one time daily. | citracal tablet 1 tablet by mouth one time daily.\n",
            "3.00    5.24          2.24     he verbalized understanding and agrees to the plan. | mom verbalized understanding and agreement with the plan.\n",
            "0.50    2.68          2.18     gastrointestinal : negative for abdominal pain, diarrhea, nausea and vomiting. | negative for chest pain, palpitations and leg swelling.\n",
            "5.00    2.71          2.29     neurological : negative for numbness or shooting pain in hands, arms, legs, or feet. | negative for numbness or shooting pain in hands, arms, legs, or feet.\n",
            "1.00    3.42          2.42     ibuprofen [ motrin ] 400 mg tablet 1 tablet by mouth every 6 hours as needed. | zantac 150 mg tablet 1 tablet by mouth every bedtime.\n",
            "1.00    3.63          2.63     celexa 10 mg tablet 1 tablet by mouth one time daily. | omeprazole [ prilosec ] 20 mg capsule enteric coated 1 capsule by mouth one time daily as needed.\n",
            "1.00    3.50          2.50     ibuprofen [ motrin ] 600 mg tablet 1 tablet by mouth three times a day as needed. | colcrys 0.6 mg tablet 1 tablet by mouth one time daily.\n",
            "1.00    3.06          2.06     acetaminophen [ tylenol arthritis ] 650 mg tablet sustained release 1 tablet by mouth every 8 hours. | lorazepam [ ativan ] 0.5 mg tablet 1 - 2 tablets by mouth every 2 hours as needed.\n",
            "0.50    2.57          2.07     with adequate anesthesia and akinesia the right eye was prepped and draped in the usual sterile fashion and the operating microscope was rotated into position. | preoperative antibiotics were administered and the patient was prepped and draped in a normal sterile fashion.\n",
            "4.00    1.85          2.15     we reviewed the study protocol and answered all questions. | she was in agreement with this plan and all questions were answered.\n",
            "1.00    3.66          2.66     ibuprofen [ motrin ] 400 mg tablet 1 tablet by mouth every 4 hours as needed. | gabapentin [ neurontin ] 300 mg capsule 1 capsule by mouth every bedtime.\n",
            "1.50    3.65          2.15     the patient was taken to the operating room where they underwent the above procedure. | the patient was then transferred to the operating room where anesthesia was administered by our anesthesia colleagues in accordance with our preoperative plan.\n",
            "1.00    3.23          2.23     cefuroxime axetil [ ceftin ] 500 mg tablet 1 tablet by mouth two times a day. | dexamethasone 4 mg tablet 1 tablet by mouth one time daily.\n",
            "0.00    3.37          3.37     development : appropriate for age and growth are appropriate for age. | age - appropriate anticipatory guidance and injury prevention information was discussed.\n",
            "0.00    2.13          2.13     the client verbalized understanding and consented to the plan of care. | the patient consented to the possibility of blood transfusion.\n",
            "1.00    3.46          2.46     ibuprofen [ motrin ] 800 mg tablet 1 tablet by mouth four times a day as needed. | lisinopril 10 mg tablet 1 tablet by mouth one time daily.\n",
            "1.00    3.20          2.20     duloxetine [ cymbalta ] 30 mg capsule enteric coated 2 capsules by mouth one time daily. | gabapentin [ neurontin ] 300 mg capsule 1 - 3 capsules by mouth as directed by prescriber.\n",
            "1.00    3.65          2.65     oxycodone [ roxicodone ] 5 mg tablet 1 - 2 tablets by mouth every 6 hours as needed. | maxalt 10 mg tablet 1 tablet by mouth as directed by prescriber as needed.\n",
            "0.50    2.51          2.01     male who presents for evaluation of knee pain. | female who presents today for comprehensive problem - based medical management.\n",
            "1.00    3.17          2.17     sertraline [ zoloft ] 50 mg tablet 1 tablet by mouth one time daily. | lipitor 80 mg tablet 1 tablet by mouth every bedtime.\n",
            "1.00    3.17          2.17     multivitamin tablet 1 tablet by mouth one time daily. | acetaminophen [ tylenol ] 500 mg tablet 2 tablets by mouth every 6 hours.\n"
          ],
          "name": "stdout"
        },
        {
          "output_type": "display_data",
          "data": {
            "image/png": "[encoded data removed]",
            "text/plain": [
              "<Figure size 432x288 with 1 Axes>"
            ]
          },
          "metadata": {
            "tags": [],
            "needs_background": "light"
          }
        }
      ]
    },
    {
      "cell_type": "code",
      "metadata": {
        "colab": {
          "base_uri": "https://localhost:8080/",
          "height": 1000
        },
        "id": "LA5E26k8Kd28",
        "outputId": "fe6bc4f1-14ce-4d26-f9dd-9f8ac7b2989d"
      },
      "source": [
        "tokenizer = BertTokenizer.from_pretrained(\"/content/drive/My Drive/clinical-sts/umls-bert/\", output_hidden_states=True)\n",
        "test_dataloader = load_test_data(tokenizer=tokenizer, batch_size=1)\n",
        "\n",
        "my_bert = torch.load(\"/content/drive/My Drive/clinical-sts/models/tr-token-dnn-bert-umls-bert-0.8929.pth\")\n",
        "my_bert.cuda()\n",
        "regression = torch.load(\"/content/drive/My Drive/clinical-sts/models/tr-token-dnn-regression-umls-bert-0.8929.pth\")\n",
        "\n",
        "predictions = get_predictions(my_bert, regression, test_dataloader)\n",
        "gs_scores = open(\"/content/drive/My Drive/clinical-sts/clinicalSTS2019.test.gs.sim.txt\", \"r\")\n",
        "actual_scores = [float(x.strip()) for x in gs_scores.readlines()]\n",
        "\n",
        "evaluate_predictions(predictions, actual_scores, test_dataloader, show_bad_predictions=True, prediction_difference=2.0)\n"
      ],
      "execution_count": 47,
      "outputs": [
        {
          "output_type": "stream",
          "text": [
            "/usr/local/lib/python3.6/dist-packages/transformers/tokenization_utils_base.py:2022: FutureWarning: The `pad_to_max_length` argument is deprecated and will be removed in a future version, use `padding=True` or `padding='longest'` to pad to the longest sequence in the batch, or use `padding='max_length'` to pad to a max length. In this case, you can give a specific length with `max_length` (e.g. `max_length=45`) or leave max_length to None to pad to the maximal input size of the model (e.g. 512 for Bert).\n",
            "  FutureWarning,\n"
          ],
          "name": "stderr"
        },
        {
          "output_type": "stream",
          "text": [
            "Test Dataset Pearson Correlation:  0.7501260250079549\n",
            "BAD EXAMPLES\n",
            "actual  predicted     difference     SENTENCE\n",
            "1.00    3.30          2.30     atenolol 50 mg tablet 1 tablet by mouth two times a day. | senna / sennosides [ senokot ] 8.6 mg tablet 1 tablet by mouth two times a day as needed.\n",
            "1.00    3.48          2.48     sertraline [ zoloft ] 100 mg tablet 2 tablets by mouth one time daily. | flomax 0.4 mg capsule sustained release 24 hour 1 capsule by mouth one time daily as needed.\n",
            "1.00    3.14          2.14     ranitidine [ zantac ] 150 mg tablet 1 tablet by mouth one time daily. | docusate sodium [ colace ] 100 mg capsule 2 capsules by mouth one time daily.\n",
            "1.00    3.27          2.27     pantoprazole [ protonix ] 40 mg tablet enteric coated 1 tablet by mouth daily before am meal. | fluconazole [ diflucan ] 150 mg tablet 1 tablet by mouth one time daily.\n",
            "1.00    3.17          2.17     ibuprofen 200 mg tablet 1 - 2 tablets by mouth as needed. | simvastatin [ zocor ] 10 mg tablet 1 tablet by mouth every bedtime.\n",
            "0.50    3.16          2.66     left upper extremity : inspection, palpation examined and normal. | abdomen : liver and spleen, bowel sounds examined and normal.\n",
            "0.00    2.50          2.50     the diagnosis and treatment plans were explained and the patient expressed understanding of the content. | patient and i processed some of the automatic thoughts, the moods associated with them, and the thought distortions accompanying the feelings.\n",
            "0.50    2.62          2.12     genitourinary : negative for difficulty urinating, pain with urination and hematuria. | gastrointestinal : negative for abdominal ( belly ) pain or cramping, constipation and diarrhea.\n",
            "0.50    3.03          2.53     take a cellphone with you on the way to the emergency department. | reasons to return to the emergency department were discussed.\n",
            "1.00    3.30          2.30     venlafaxine 75 mg tablet sustained release 24 hour 1 tablet by mouth one time daily. | cardizem cd 120 mg capsule sustained release 24 hour 1 capsule by mouth one time daily.\n",
            "1.00    3.15          2.15     omeprazole [ prilosec ] 20 mg capsule enteric coated 1 capsule by mouth two times a day. | vitamin d3 2,000 unit capsule 1 capsule by mouth one time daily.\n",
            "0.50    3.42          2.92     the patient tolerated the procedure well with no complications. | the patient has no other concerns at this time.\n",
            "1.00    3.83          2.83     she has no formal services at this time. | the patient has no further questions or concerns at this time.\n",
            "1.00    3.22          2.22     ondansetron [ zofran ] 4 mg tablet 1 tablet by mouth three times a day as needed. | vitamin d3 [ vitamin d3 ] 1000 unit tablet 1 tablet by mouth one time daily.\n",
            "0.50    2.70          2.20     negative for coughing up blood, coughing up mucus ( phlegm ) and wheezing. | negative for abdominal pain, blood in stool, constipation, diarrhea and vomiting.\n",
            "0.00    2.40          2.40     please contact location at phone number with any questions or concerns regarding this patient. | patient discharged ambulatory without further questions or concerns noted.\n",
            "1.00    3.06          2.06     metoprolol tartrate [ lopressor ] 100 mg tablet 1 tablet by mouth two times a day. | acetaminophen [ tylenol ] 325 mg tablet 2 tablets by mouth every 4 hours as needed.\n",
            "1.00    3.13          2.13     duloxetine [ cymbalta ] 20 mg capsule enteric coated 1 capsule by mouth one time daily. | dexamethasone 4 mg tablet 1 tablet by mouth one time daily.\n",
            "1.50    3.58          2.08     after answering all questions in lay english, the patient wanted to proceed with operative intervention. | all questions were answered to the best of my ability in the patient's apparent satisfaction.\n",
            "1.00    3.03          2.03     ondansetron [ zofran ] 8 mg tablet 1 tablet by mouth three times a day as needed. | zestril 20 mg tablet 1 tablet by mouth one time daily.\n",
            "4.50    1.87          2.63     her speech pattern is normal and behavior is normal. | clear speech with regular rate, normal volume, normal response of flow.\n",
            "2.00    4.59          2.59     gastrointestinal : negative for abdominal distention, abdominal pain, blood in stool, constipation, diarrhea, hematemesis, nausea and vomiting. | gastrointestinal : positive for abdominal distention, abdominal pain, nausea and vomiting.\n",
            "0.50    3.23          2.73     skin integrity : the patient states they have no current skin concerns. | neurologic : the patient states the patient has experienced no decreased level of consciousness or orientation.\n",
            "1.00    3.01          2.01     doxycycline [ vibra - tabs ] 100 mg tablet 1 tablet by mouth two times a day. | hydrochlorothiazide 25 mg tablet one - half tablet by mouth every morning.\n",
            "0.00    4.33          4.33     others you do with the help of your health care team. | thank you for choosing the name, aprn, c.n.p., d.n.p.. care team for your health care needs!\n",
            "1.50    3.71          2.21     the patient rated her pain today as a 0 / 10. | the goal is to make the pain tolerable.\n",
            "0.00    3.57          3.57     the patient is due for a provider visit at this time. | there are no other complaints at this time.\n",
            "1.00    3.23          2.23     celexa 20 mg tablet 1 tablet by mouth one time daily. | citracal tablet 1 tablet by mouth one time daily.\n",
            "0.50    2.68          2.18     gastrointestinal : negative for abdominal pain, diarrhea, nausea and vomiting. | negative for chest pain, palpitations and leg swelling.\n",
            "1.00    3.51          2.51     sertraline [ zoloft ] 100 mg tablet 1.5 tablets by mouth one time daily. | senna / sennosides [ senokot ] 8.6 mg tablet 2 tablets by mouth every bedtime.\n",
            "5.00    2.36          2.64     neurological : negative for numbness or shooting pain in hands, arms, legs, or feet. | negative for numbness or shooting pain in hands, arms, legs, or feet.\n",
            "1.00    3.46          2.46     ibuprofen [ motrin ] 400 mg tablet 1 tablet by mouth every 6 hours as needed. | zantac 150 mg tablet 1 tablet by mouth every bedtime.\n",
            "1.00    3.08          2.08     potassium chloride [ k - dur ] 20 meq tablet sustained release 1 tablet by mouth one time daily. | sertraline [ zoloft ] 100 mg tablet 1 tablet by mouth one time daily.\n",
            "1.00    3.53          2.53     oxycodone [ roxicodone ] 5 mg tablet 1 tablet by mouth two times a day as needed. | cholecalciferol ( vitamin d3 ) [ vitamin d3 ] 400 unit tablet 1 tablet by mouth one time daily.\n",
            "0.00    2.54          2.54     upon arrival to the family medicine inpatient service, the patient was afebrile and hemodynamically stable. | the patient was transferred to the title.\n",
            "0.00    2.33          2.33     i agree with the note of the resident. | the patient seems comfortable with the above plan.\n",
            "1.00    3.03          2.03     tamiflu 30 mg capsule 1 capsule by mouth two times a day. | lutein capsule 1 capsule by mouth one time daily.\n",
            "1.00    3.16          2.16     celexa 10 mg tablet 1 tablet by mouth one time daily. | omeprazole [ prilosec ] 20 mg capsule enteric coated 1 capsule by mouth one time daily as needed.\n",
            "1.00    3.04          2.04     ibuprofen [ motrin ] 600 mg tablet 1 tablet by mouth three times a day as needed. | colcrys 0.6 mg tablet 1 tablet by mouth one time daily.\n",
            "1.00    3.17          2.17     acetaminophen [ tylenol arthritis ] 650 mg tablet sustained release 1 tablet by mouth every 8 hours. | lorazepam [ ativan ] 0.5 mg tablet 1 - 2 tablets by mouth every 2 hours as needed.\n",
            "1.00    3.18          2.18     lorazepam [ ativan ] 1 mg tablet 1 tablet by mouth as directed by prescriber as needed. | aspirin [ ecotrin ] 325 mg tablet delayed release 1 tablet by mouth one time daily.\n",
            "1.00    3.14          2.14     nitroglycerin 0.4 mg tablet sublingual 1 tablet sublingual as directed by prescriber as needed. | ibuprofen [ advil ] 200 mg tablet 2 tablets by mouth every 4 hours as needed.\n",
            "1.50    4.15          2.65     all questions regarding the planned procedure were answered. | all other questions were answered at the time of the visit.\n",
            "1.00    3.41          2.41     ibuprofen [ motrin ] 400 mg tablet 1 tablet by mouth every 4 hours as needed. | gabapentin [ neurontin ] 300 mg capsule 1 capsule by mouth every bedtime.\n",
            "1.00    3.01          2.01     atenolol - chlorthalidone [ tenoretic ] 50 - 25 mg tablet 1 tablet by mouth one time daily. | trazodone [ desyrel ] 50 mg tablet 1 - 2 tablets by mouth every bedtime.\n",
            "0.00    2.45          2.45     development : appropriate for age and growth are appropriate for age. | age - appropriate anticipatory guidance and injury prevention information was discussed.\n",
            "1.00    3.40          2.40     ibuprofen [ motrin ] 800 mg tablet 1 tablet by mouth four times a day as needed. | lisinopril 10 mg tablet 1 tablet by mouth one time daily.\n",
            "1.00    3.01          2.01     duloxetine [ cymbalta ] 30 mg capsule enteric coated 2 capsules by mouth one time daily. | gabapentin [ neurontin ] 300 mg capsule 1 - 3 capsules by mouth as directed by prescriber.\n",
            "1.00    3.66          2.66     oxycodone [ roxicodone ] 5 mg tablet 1 - 2 tablets by mouth every 6 hours as needed. | maxalt 10 mg tablet 1 tablet by mouth as directed by prescriber as needed.\n",
            "1.00    3.09          2.09     sertraline [ zoloft ] 50 mg tablet 1 tablet by mouth one time daily. | lipitor 80 mg tablet 1 tablet by mouth every bedtime.\n",
            "1.00    3.29          2.29     multivitamin tablet 1 tablet by mouth one time daily. | acetaminophen [ tylenol ] 500 mg tablet 2 tablets by mouth every 6 hours.\n",
            "3.00    0.73          2.27     treatment plan was communicated and initiated with patient. | reviewed npo and preoperative medication guidelines with patient.\n"
          ],
          "name": "stdout"
        },
        {
          "output_type": "display_data",
          "data": {
            "image/png": "[encoded data removed]",
            "text/plain": [
              "<Figure size 432x288 with 1 Axes>"
            ]
          },
          "metadata": {
            "tags": [],
            "needs_background": "light"
          }
        }
      ]
    },
    {
      "cell_type": "code",
      "metadata": {
        "id": "04a0EEDMywBK"
      },
      "source": [
        ""
      ],
      "execution_count": null,
      "outputs": []
    }
  ]
}